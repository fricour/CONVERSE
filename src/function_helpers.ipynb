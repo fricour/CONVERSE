{
 "cells": [
  {
   "cell_type": "code",
   "execution_count": 1,
   "metadata": {},
   "outputs": [],
   "source": [
    "# import libraries\n",
    "import os\n",
    "import scipy.io\n",
    "import numpy as np\n",
    "import pandas as pd\n",
    "import matplotlib.pyplot as plt\n",
    "from scipy.interpolate import interpn\n",
    "from scipy.interpolate import interp1d\n",
    "import pickle \n",
    "import xarray as xr\n",
    "import matplotlib.colors as colors\n",
    "import seaborn as sns\n",
    "import cmocean\n",
    "\n",
    "# for mapping\n",
    "import cartopy.crs as ccrs\n",
    "# https://cosima-recipes.readthedocs.io/en/latest/tutorials/Making_Maps_with_Cartopy.html\n",
    "import cartopy.feature as cft\n",
    "# BIG issue with cartopy: see here https://github.com/SciTools/cartopy/issues/1325 at @jypeter\n",
    "# I had to download a bunch of stuff myself and put it in ~/.local/share/cartopy/shapefile/.../...\n",
    "# https://stackoverflow.com/questions/30030328/correct-placement-of-colorbar-relative-to-geo-axes-cartopy\n",
    "# https://scitools.org.uk/cartopy/docs/v0.15/examples/axes_grid_basic.html\n",
    "land_110m = cft.NaturalEarthFeature('physical', 'land', '110m', edgecolor='black', facecolor='gray', linewidth=0.5) # continents"
   ]
  },
  {
   "cell_type": "markdown",
   "metadata": {},
   "source": [
    "# Generic functions to map carbon-related fluxes in the global ocean "
   ]
  },
  {
   "cell_type": "code",
   "execution_count": 2,
   "metadata": {},
   "outputs": [],
   "source": [
    "def plot_map_simple(tuple_fig_size, lon, lat, variable, vmin, vmax, title, colorbar_label, savefig, savefig_title, mask = 1, cmap = \"viridis\"):\n",
    "    \n",
    "    fig, ax = plt.subplots(1,1,figsize=tuple_fig_size,subplot_kw={'projection': ccrs.Robinson()})\n",
    "    ax.add_feature(land_110m)\n",
    "    ax.coastlines(resolution='110m', color='black', linestyle='-', alpha=1, linewidth = 2)\n",
    "    p = ax.pcolormesh(lon, lat, variable*mask, shading = 'auto', vmin = vmin, vmax = vmax, transform=ccrs.PlateCarree(), cmap = cmap)\n",
    "    ax.set_title(title)\n",
    "    cbar = plt.colorbar(p)\n",
    "    cbar.set_label(colorbar_label)\n",
    "    if savefig:\n",
    "        plt.savefig('./figures/'+savefig_title)\n",
    "        plt.show()\n",
    "    else:\n",
    "        plt.show()"
   ]
  },
  {
   "cell_type": "code",
   "execution_count": 3,
   "metadata": {},
   "outputs": [],
   "source": [
    "# for a linear colorbar\n",
    "def plot_map(tuple_fig_size, lon, lat, variable, vmin, vmax, title, colorbar_label, savefig, savefig_title, mask = 1, cmap = \"viridis\", folder = './figures/', plt_show = True, use_log_scale = False, use_colorbar = True):\n",
    "    \n",
    "    fig, ax = plt.subplots(1,1,figsize=tuple_fig_size,subplot_kw={'projection': ccrs.Robinson()})\n",
    "    ax.add_feature(land_110m)\n",
    "    ax.coastlines(resolution='110m', color='black', linestyle='-', alpha=1, linewidth = 2)\n",
    "    #ax.set_title(title, size = 40, y = -0.12) # all plots were made with this initially\n",
    "    ax.set_title(title, size = 45, y = -0.13) # new version\n",
    "    if use_log_scale:\n",
    "        p = ax.pcolormesh(lon, lat, variable*mask, shading = 'auto', vmin = vmin, vmax = vmax, transform=ccrs.PlateCarree(), cmap = cmap, norm=colors.LogNorm())\n",
    "    else:\n",
    "        p = ax.pcolormesh(lon, lat, variable*mask, shading = 'auto', vmin = vmin, vmax = vmax, transform=ccrs.PlateCarree(), cmap = cmap)\n",
    "    if use_colorbar:\n",
    "        cbar = plt.colorbar(p, orientation='horizontal', aspect = 100, pad = 0.05)\n",
    "        cbar.set_label(colorbar_label, fontsize = 30, labelpad = -10)\n",
    "        cbar.set_ticks([1e-3, 1e-2, 1e-1, 1e0, 1e1, 1e2])\n",
    "        cbar.set_ticklabels([0.001, 0.01, 0.1, 1, 10, 100])\n",
    "        cbar.ax.tick_params(labelsize=30)\n",
    "    if savefig:\n",
    "        plt.savefig(folder+savefig_title, bbox_inches='tight')\n",
    "        if plt_show:\n",
    "            plt.show()\n",
    "        else:\n",
    "            plt.close()\n",
    "    elif plt_show:\n",
    "        plt.show()\n",
    "    else:\n",
    "        plt.close()"
   ]
  },
  {
   "cell_type": "markdown",
   "metadata": {},
   "source": [
    "# Compute total flux"
   ]
  },
  {
   "cell_type": "code",
   "execution_count": 4,
   "metadata": {},
   "outputs": [],
   "source": [
    "def compute_flux_total(FseqX, pixel_areas):\n",
    "    \"\"\"\n",
    "    Input : a 2D array with fluxes (can be exported, sequestered, remineralized carbon flux) \n",
    "    Output: total amount of exported, sequestered, remineralized carbon flux in GtC/year\n",
    "    \"\"\"\n",
    "    res = np.nansum(np.nansum(FseqX * pixel_areas[:,:]*1e-15, axis = 1)) # in GtC year-1 \n",
    "    return(res)"
   ]
  },
  {
   "cell_type": "markdown",
   "metadata": {},
   "source": [
    "# Compute mean total flux"
   ]
  },
  {
   "cell_type": "code",
   "execution_count": 7,
   "metadata": {},
   "outputs": [],
   "source": [
    "# Compute mean total flux\n",
    "def compute_flux_total_mean(flux, pixel_area):\n",
    "    tmp = np.zeros(flux.shape[0])\n",
    "    for i in range(flux.shape[0]):\n",
    "        tmp[i] = compute_flux_total(flux[i,:,:], pixel_area)\n",
    "    \n",
    "    return(np.mean(tmp))"
   ]
  },
  {
   "cell_type": "code",
   "execution_count": null,
   "metadata": {},
   "outputs": [],
   "source": []
  }
 ],
 "metadata": {
  "kernelspec": {
   "display_name": "Python 3",
   "language": "python",
   "name": "python3"
  },
  "language_info": {
   "codemirror_mode": {
    "name": "ipython",
    "version": 3
   },
   "file_extension": ".py",
   "mimetype": "text/x-python",
   "name": "python",
   "nbconvert_exporter": "python",
   "pygments_lexer": "ipython3",
   "version": "3.8.10"
  }
 },
 "nbformat": 4,
 "nbformat_minor": 4
}
