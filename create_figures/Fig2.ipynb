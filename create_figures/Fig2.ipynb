{
 "cells": [
  {
   "cell_type": "code",
   "execution_count": 4,
   "metadata": {},
   "outputs": [],
   "source": [
    "# import libraries\n",
    "import os\n",
    "import scipy.io\n",
    "import numpy as np\n",
    "import pandas as pd\n",
    "import matplotlib.pyplot as plt\n",
    "from scipy.interpolate import interpn\n",
    "from scipy.interpolate import interp1d\n",
    "import pickle \n",
    "import xarray as xr\n",
    "import matplotlib.colors as colors\n",
    "import seaborn as sns\n",
    "import cmocean\n",
    "\n",
    "# import some home-made functions\n",
    "import nbimporter\n",
    "\n",
    "# for mapping\n",
    "import cartopy.crs as ccrs\n",
    "# https://cosima-recipes.readthedocs.io/en/latest/tutorials/Making_Maps_with_Cartopy.html\n",
    "import cartopy.feature as cft\n",
    "# BIG issue with cartopy: see here https://github.com/SciTools/cartopy/issues/1325 at @jypeter\n",
    "# I had to download a bunch of stuff myself and put it in ~/.local/share/cartopy/shapefile/.../...\n",
    "# https://stackoverflow.com/questions/30030328/correct-placement-of-colorbar-relative-to-geo-axes-cartopy\n",
    "# https://scitools.org.uk/cartopy/docs/v0.15/examples/axes_grid_basic.html\n",
    "land_110m = cft.NaturalEarthFeature('physical', 'land', '110m', edgecolor='black', facecolor='gray', linewidth=0.5) # continents"
   ]
  },
  {
   "cell_type": "code",
   "execution_count": 8,
   "metadata": {},
   "outputs": [],
   "source": [
    "data = open(\"../data/output_data_for_figures/data_fig2.pkl\", \"rb\")\n",
    "data = pickle.load(data)"
   ]
  },
  {
   "cell_type": "code",
   "execution_count": 9,
   "metadata": {},
   "outputs": [],
   "source": [
    "weighted_mean_f100 = data['weighted_mean_f100']\n",
    "lonT = data['lon']\n",
    "latT = data['lat']\n",
    "mask = data['mask']\n",
    "depthT = data['depthT']\n",
    "f100 = data['f100']\n",
    "f100_weighted_lines = data['f100_weighted_lines']\n"
   ]
  },
  {
   "cell_type": "code",
   "execution_count": 10,
   "metadata": {},
   "outputs": [
    {
     "name": "stderr",
     "output_type": "stream",
     "text": [
      "<ipython-input-10-f94cf05764d8>:2: RuntimeWarning: Mean of empty slice\n",
      "  f100_global_average = np.nanmean(np.nanmean(f100, axis = 0), axis = 0)\n"
     ]
    }
   ],
   "source": [
    "# mean (unique) f100 profiles\n",
    "f100_global_average = np.nanmean(np.nanmean(f100, axis = 0), axis = 0)\n",
    "df = pd.DataFrame({'depth':depthT, 'f100': f100_global_average})"
   ]
  },
  {
   "cell_type": "code",
   "execution_count": 12,
   "metadata": {},
   "outputs": [],
   "source": [
    "# https://matplotlib.org/stable/gallery/subplots_axes_and_figures/gridspec_multicolumn.html\n",
    "\n",
    "deep_pixel_mask = mask[:,:,np.newaxis]\n",
    "pal = 'turbo'\n",
    "\n",
    "from matplotlib.gridspec import GridSpec\n",
    "fig = plt.figure(constrained_layout=True, figsize = (12,8))\n",
    "gs = GridSpec(3, 3, figure=fig)\n",
    "\n",
    "ax1 = fig.add_subplot(gs[0, 0], projection=ccrs.Robinson())\n",
    "ax1.coastlines(resolution='110m', color='black', linestyle='-', alpha=1, linewidth = 2)\n",
    "p1 = plt.pcolormesh(lonT, latT, weighted_mean_f100, vmin = 0, vmax = 1, shading = 'auto', transform=ccrs.PlateCarree(), cmap = pal)\n",
    "ax1.add_feature(land_110m)\n",
    "ax1.contour(lonT, latT, f100_weighted_lines, vmin = np.nanmedian(weighted_mean_f100),\n",
    "                 transform = ccrs.PlateCarree(), colors = 'white', linewidths = 1)\n",
    "ax1.set_title('Water-column average f$_{100}$', fontsize = 20)\n",
    "\n",
    "# fig2\n",
    "ax2 = fig.add_subplot(gs[0, 1], projection=ccrs.Robinson())\n",
    "ax2.coastlines(resolution='110m', color='black', linestyle='-', alpha=1, linewidth = 2)\n",
    "p2 = ax2.pcolormesh(lonT, latT, (f100[:,:,19]*deep_pixel_mask[:,:,0]), vmin = 0, vmax = 1, shading = 'auto', transform=ccrs.PlateCarree(), cmap = pal) \n",
    "d = int(np.floor(depthT[19]))\n",
    "ax2.add_feature(land_110m)\n",
    "ax2.set_title(str(d)+ ' m', fontsize = 16) \n",
    "\n",
    "# fig3\n",
    "ax3 = fig.add_subplot(gs[1, 1], projection=ccrs.Robinson())\n",
    "ax3.coastlines(resolution='110m', color='black', linestyle='-', alpha=1, linewidth = 2)\n",
    "p3 = ax3.pcolormesh(lonT, latT, (f100[:,:,25]*deep_pixel_mask[:,:,0]), vmin = 0, vmax = 1, shading = 'auto', transform=ccrs.PlateCarree(), cmap = pal)\n",
    "d = int(np.ceil(depthT[25]))\n",
    "ax3.add_feature(land_110m)\n",
    "ax3.set_title(str(d)+ ' m', fontsize = 16) \n",
    "\n",
    "# fig4\n",
    "ax4 = fig.add_subplot(gs[2, 1], projection=ccrs.Robinson())\n",
    "ax4.coastlines(resolution='110m', color='black', linestyle='-', alpha=1, linewidth = 2)\n",
    "p4 = ax4.pcolormesh(lonT, latT, (f100[:,:,33]*deep_pixel_mask[:,:,0]), vmin = 0, vmax = 1, shading = 'auto', transform=ccrs.PlateCarree(), cmap = pal)\n",
    "d = int(np.ceil(depthT[33]))\n",
    "ax4.add_feature(land_110m)\n",
    "ax4.set_title(str(d)+ ' m', fontsize = 16)\n",
    "\n",
    "ax5 = fig.add_subplot(gs[1:, 0])\n",
    "ax5 = plt.scatter(np.array(df['f100']),np.array(df['depth']), linewidth = 2, color = 'black')\n",
    "ax5 = plt.xlabel('f$_{100}$', fontsize = 16)\n",
    "ax5 = plt.ylabel('Depth [m]', fontsize = 16)\n",
    "plt.gca().invert_yaxis()\n",
    "plt.gca().tick_params(axis='both', which='major', labelsize=12)\n",
    "# plt.gca().set_title('Mean f$_{100}$ profile')\n",
    "\n",
    "cbar_ax = fig.add_axes([.70, 0.20, 0.02, 0.64])\n",
    "col = fig.colorbar(p4, cax=cbar_ax)\n",
    "plt.savefig('Fig2.jpg', bbox_inches = \"tight\", dpi=300)"
   ]
  },
  {
   "cell_type": "code",
   "execution_count": null,
   "metadata": {},
   "outputs": [],
   "source": []
  }
 ],
 "metadata": {
  "kernelspec": {
   "display_name": "Python 3",
   "language": "python",
   "name": "python3"
  },
  "language_info": {
   "codemirror_mode": {
    "name": "ipython",
    "version": 3
   },
   "file_extension": ".py",
   "mimetype": "text/x-python",
   "name": "python",
   "nbconvert_exporter": "python",
   "pygments_lexer": "ipython3",
   "version": "3.8.10"
  }
 },
 "nbformat": 4,
 "nbformat_minor": 4
}
