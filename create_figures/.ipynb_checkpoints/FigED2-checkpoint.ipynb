{
 "cells": [
  {
   "cell_type": "code",
   "execution_count": 1,
   "metadata": {},
   "outputs": [],
   "source": [
    "# import libraries\n",
    "import os\n",
    "import scipy.io\n",
    "import numpy as np\n",
    "import pandas as pd\n",
    "import matplotlib.pyplot as plt\n",
    "from scipy.interpolate import interpn\n",
    "from scipy.interpolate import interp1d\n",
    "import pickle \n",
    "import xarray as xr\n",
    "import matplotlib.colors as colors\n",
    "import seaborn as sns\n",
    "import cmocean\n",
    "\n",
    "# import some home-made functions\n",
    "import nbimporter\n",
    "\n",
    "# for mapping\n",
    "import cartopy.crs as ccrs\n",
    "# https://cosima-recipes.readthedocs.io/en/latest/tutorials/Making_Maps_with_Cartopy.html\n",
    "import cartopy.feature as cft\n",
    "# BIG issue with cartopy: see here https://github.com/SciTools/cartopy/issues/1325 at @jypeter\n",
    "# I had to download a bunch of stuff myself and put it in ~/.local/share/cartopy/shapefile/.../...\n",
    "# https://stackoverflow.com/questions/30030328/correct-placement-of-colorbar-relative-to-geo-axes-cartopy\n",
    "# https://scitools.org.uk/cartopy/docs/v0.15/examples/axes_grid_basic.html\n",
    "land_110m = cft.NaturalEarthFeature('physical', 'land', '110m', edgecolor='black', facecolor='gray', linewidth=0.5) # continents"
   ]
  },
  {
   "cell_type": "code",
   "execution_count": 2,
   "metadata": {},
   "outputs": [],
   "source": [
    "data = open(\"../data/output_data_for_figures/data_figED2.pkl\", \"rb\")\n",
    "data = pickle.load(data)"
   ]
  },
  {
   "cell_type": "code",
   "execution_count": 3,
   "metadata": {},
   "outputs": [],
   "source": [
    "FexpT = data['FexpT']\n",
    "lonT = data['lon']\n",
    "latT = data['lat']\n",
    "mask = data['mask']\n",
    "FexpH = data['FexpH']"
   ]
  },
  {
   "cell_type": "code",
   "execution_count": 5,
   "metadata": {},
   "outputs": [
    {
     "name": "stderr",
     "output_type": "stream",
     "text": [
      "<ipython-input-5-90161e92889a>:8: RuntimeWarning: Mean of empty slice\n",
      "  FexpT_averaged = np.nanmean(FexpT, axis = 0)\n"
     ]
    },
    {
     "ename": "NameError",
     "evalue": "name 'FexpH' is not defined",
     "output_type": "error",
     "traceback": [
      "\u001b[0;31m---------------------------------------------------------------------------\u001b[0m",
      "\u001b[0;31mNameError\u001b[0m                                 Traceback (most recent call last)",
      "\u001b[0;32m<ipython-input-5-90161e92889a>\u001b[0m in \u001b[0;36m<module>\u001b[0;34m\u001b[0m\n\u001b[1;32m     10\u001b[0m \u001b[0max1\u001b[0m \u001b[0;34m=\u001b[0m \u001b[0mfig\u001b[0m\u001b[0;34m.\u001b[0m\u001b[0madd_subplot\u001b[0m\u001b[0;34m(\u001b[0m\u001b[0mgs\u001b[0m\u001b[0;34m[\u001b[0m\u001b[0;36m0\u001b[0m\u001b[0;34m,\u001b[0m \u001b[0;36m0\u001b[0m\u001b[0;34m]\u001b[0m\u001b[0;34m,\u001b[0m \u001b[0mprojection\u001b[0m\u001b[0;34m=\u001b[0m\u001b[0mccrs\u001b[0m\u001b[0;34m.\u001b[0m\u001b[0mRobinson\u001b[0m\u001b[0;34m(\u001b[0m\u001b[0;34m)\u001b[0m\u001b[0;34m)\u001b[0m\u001b[0;34m\u001b[0m\u001b[0;34m\u001b[0m\u001b[0m\n\u001b[1;32m     11\u001b[0m \u001b[0max1\u001b[0m\u001b[0;34m.\u001b[0m\u001b[0mcoastlines\u001b[0m\u001b[0;34m(\u001b[0m\u001b[0mresolution\u001b[0m\u001b[0;34m=\u001b[0m\u001b[0;34m'110m'\u001b[0m\u001b[0;34m,\u001b[0m \u001b[0mcolor\u001b[0m\u001b[0;34m=\u001b[0m\u001b[0;34m'black'\u001b[0m\u001b[0;34m,\u001b[0m \u001b[0mlinestyle\u001b[0m\u001b[0;34m=\u001b[0m\u001b[0;34m'-'\u001b[0m\u001b[0;34m,\u001b[0m \u001b[0malpha\u001b[0m\u001b[0;34m=\u001b[0m\u001b[0;36m1\u001b[0m\u001b[0;34m,\u001b[0m \u001b[0mlinewidth\u001b[0m \u001b[0;34m=\u001b[0m \u001b[0;36m2\u001b[0m\u001b[0;34m)\u001b[0m\u001b[0;34m\u001b[0m\u001b[0;34m\u001b[0m\u001b[0m\n\u001b[0;32m---> 12\u001b[0;31m \u001b[0mp1\u001b[0m \u001b[0;34m=\u001b[0m \u001b[0mplt\u001b[0m\u001b[0;34m.\u001b[0m\u001b[0mpcolormesh\u001b[0m\u001b[0;34m(\u001b[0m\u001b[0mlonT\u001b[0m\u001b[0;34m,\u001b[0m \u001b[0mlatT\u001b[0m\u001b[0;34m,\u001b[0m \u001b[0mFexpH\u001b[0m\u001b[0;34m*\u001b[0m\u001b[0mmask\u001b[0m\u001b[0;34m,\u001b[0m \u001b[0mvmin\u001b[0m \u001b[0;34m=\u001b[0m \u001b[0;36m0\u001b[0m\u001b[0;34m,\u001b[0m \u001b[0mvmax\u001b[0m \u001b[0;34m=\u001b[0m \u001b[0;36m35\u001b[0m\u001b[0;34m,\u001b[0m \u001b[0mshading\u001b[0m \u001b[0;34m=\u001b[0m \u001b[0;34m'auto'\u001b[0m\u001b[0;34m,\u001b[0m \u001b[0mtransform\u001b[0m\u001b[0;34m=\u001b[0m\u001b[0mccrs\u001b[0m\u001b[0;34m.\u001b[0m\u001b[0mPlateCarree\u001b[0m\u001b[0;34m(\u001b[0m\u001b[0;34m)\u001b[0m\u001b[0;34m,\u001b[0m \u001b[0mcmap\u001b[0m \u001b[0;34m=\u001b[0m \u001b[0mpal\u001b[0m\u001b[0;34m)\u001b[0m\u001b[0;34m\u001b[0m\u001b[0;34m\u001b[0m\u001b[0m\n\u001b[0m\u001b[1;32m     13\u001b[0m \u001b[0max1\u001b[0m\u001b[0;34m.\u001b[0m\u001b[0madd_feature\u001b[0m\u001b[0;34m(\u001b[0m\u001b[0mland_110m\u001b[0m\u001b[0;34m)\u001b[0m\u001b[0;34m\u001b[0m\u001b[0;34m\u001b[0m\u001b[0m\n\u001b[1;32m     14\u001b[0m \u001b[0;31m#ax1.set_title('POC export at 100 m (gC m$^{-2}$ y$^{-1}$)', fontsize = 20, y = -0.12)\u001b[0m\u001b[0;34m\u001b[0m\u001b[0;34m\u001b[0m\u001b[0;34m\u001b[0m\u001b[0m\n",
      "\u001b[0;31mNameError\u001b[0m: name 'FexpH' is not defined"
     ]
    }
   ],
   "source": [
    "# https://matplotlib.org/stable/gallery/subplots_axes_and_figures/gridspec_multicolumn.html\n",
    "pal = 'turbo'\n",
    "\n",
    "from matplotlib.gridspec import GridSpec\n",
    "fig = plt.figure(constrained_layout=True, figsize = (12,8))\n",
    "gs = GridSpec(2, 1, figure=fig)\n",
    "\n",
    "FexpT_averaged = np.nanmean(FexpT, axis = 0)\n",
    "\n",
    "ax1 = fig.add_subplot(gs[0, 0], projection=ccrs.Robinson())\n",
    "ax1.coastlines(resolution='110m', color='black', linestyle='-', alpha=1, linewidth = 2)\n",
    "p1 = plt.pcolormesh(lonT, latT, FexpH*mask, vmin = 0, vmax = 35, shading = 'auto', transform=ccrs.PlateCarree(), cmap = pal)\n",
    "ax1.add_feature(land_110m)\n",
    "#ax1.set_title('POC export at 100 m (gC m$^{-2}$ y$^{-1}$)', fontsize = 20, y = -0.12)\n",
    "ax1.set_title('Global: '+str(np.round(compute_flux_total(FexpH*mask, pixelArea), 1))+' Pg C y$^{-1}$', fontsize = 20, y = -0.12)\n",
    "\n",
    "ax2 = fig.add_subplot(gs[1, 0], projection=ccrs.Robinson())\n",
    "ax2.coastlines(resolution='110m', color='black', linestyle='-', alpha=1, linewidth = 2)\n",
    "p2 = plt.pcolormesh(lonT, latT, FexpT_averaged*mask, vmin = 0, vmax = 35, shading = 'auto', transform=ccrs.PlateCarree(), cmap = pal)\n",
    "ax2.add_feature(land_110m)\n",
    "ax2.set_title('Global: '+str(np.round(compute_flux_total(FexpT_averaged*mask, pixelArea), 1))+' Pg C y$^{-1}$', fontsize = 20, y = -0.12)\n",
    "\n",
    "# https://stackoverflow.com/questions/65942632/matplotlib-why-does-colorbar-y-label-disappear-with-multiple-colorbars\n",
    "cbar_ax = fig.add_axes([.80, 0.20, 0.02, 0.64])\n",
    "cbar_ax.tick_params(labelsize=16)\n",
    "col = fig.colorbar(p1, cax=cbar_ax)\n",
    "cbar_ax.set_ylabel('g C m$^{-2}$ y$^{-1}$', fontsize = 20)\n",
    "cbar_ax.yaxis.set_label_position('right')\n",
    "# col = fig.colorbar(p1, cax=cbar_ax)\n",
    "plt.savefig('FigED2.jpg', bbox_inches = \"tight\", dpi=300)"
   ]
  },
  {
   "cell_type": "code",
   "execution_count": null,
   "metadata": {},
   "outputs": [],
   "source": []
  }
 ],
 "metadata": {
  "kernelspec": {
   "display_name": "Python 3",
   "language": "python",
   "name": "python3"
  },
  "language_info": {
   "codemirror_mode": {
    "name": "ipython",
    "version": 3
   },
   "file_extension": ".py",
   "mimetype": "text/x-python",
   "name": "python",
   "nbconvert_exporter": "python",
   "pygments_lexer": "ipython3",
   "version": "3.8.10"
  }
 },
 "nbformat": 4,
 "nbformat_minor": 4
}
