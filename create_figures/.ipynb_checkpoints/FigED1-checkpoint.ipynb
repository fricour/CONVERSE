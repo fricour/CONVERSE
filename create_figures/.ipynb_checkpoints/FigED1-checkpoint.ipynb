{
 "cells": [
  {
   "cell_type": "code",
   "execution_count": 1,
   "metadata": {},
   "outputs": [],
   "source": [
    "# import libraries\n",
    "import os\n",
    "import scipy.io\n",
    "import numpy as np\n",
    "import pandas as pd\n",
    "import matplotlib.pyplot as plt\n",
    "from scipy.interpolate import interpn\n",
    "from scipy.interpolate import interp1d\n",
    "import pickle \n",
    "import xarray as xr\n",
    "import matplotlib.colors as colors\n",
    "import seaborn as sns\n",
    "import cmocean\n",
    "\n",
    "# for mapping\n",
    "import cartopy.crs as ccrs\n",
    "# https://cosima-recipes.readthedocs.io/en/latest/tutorials/Making_Maps_with_Cartopy.html\n",
    "import cartopy.feature as cft\n",
    "# BIG issue with cartopy: see here https://github.com/SciTools/cartopy/issues/1325 at @jypeter\n",
    "# I had to download a bunch of stuff myself and put it in ~/.local/share/cartopy/shapefile/.../...\n",
    "# https://stackoverflow.com/questions/30030328/correct-placement-of-colorbar-relative-to-geo-axes-cartopy\n",
    "# https://scitools.org.uk/cartopy/docs/v0.15/examples/axes_grid_basic.html\n",
    "land_110m = cft.NaturalEarthFeature('physical', 'land', '110m', edgecolor='black', facecolor='gray', linewidth=0.5) # continents"
   ]
  },
  {
   "cell_type": "code",
   "execution_count": 14,
   "metadata": {},
   "outputs": [],
   "source": [
    "data = open(\"../data/output_data_for_figures/data_figED1.pkl\", \"rb\")\n",
    "data = pickle.load(data)"
   ]
  },
  {
   "cell_type": "code",
   "execution_count": 15,
   "metadata": {},
   "outputs": [],
   "source": [
    "mask = data['mask']\n",
    "f100 = data['f100']\n",
    "lonT = data['lon']\n",
    "latT = data['lat']\n",
    "depthT = data['depth']"
   ]
  },
  {
   "cell_type": "code",
   "execution_count": 17,
   "metadata": {},
   "outputs": [],
   "source": [
    "# Big fig\n",
    "fig, ((ax1, ax2), (ax3, ax4), (ax5, ax6)) = plt.subplots(3, 2,figsize=(10,8),subplot_kw={'projection': ccrs.Robinson()})\n",
    "\n",
    "#pal = 'jet'\n",
    "pal = cmocean.cm.thermal\n",
    "pal = 'turbo'\n",
    "#pal = 'RdBu'\n",
    "#pal = 'gist_rainbow'\n",
    "#pal = 'cubehelix'\n",
    "\n",
    "deep_pixel_mask = mask[:,:,np.newaxis]\n",
    "\n",
    "# fig1\n",
    "ax1.coastlines(resolution='110m', color='black', linestyle='-', alpha=1, linewidth = 2)\n",
    "p1 = ax1.pcolormesh(lonT, latT, (f100[:,:,8]*deep_pixel_mask[:,:,0]), vmin = 0, vmax = 1, shading = 'auto', transform=ccrs.PlateCarree(), cmap = pal) # /!\\ vmax is saturated at 60 m -> removed saturation\n",
    "d = int(np.floor(depthT[8]))\n",
    "ax1.add_feature(land_110m)\n",
    "ax1.set_title(str(d)+ ' m')\n",
    "\n",
    "# fig2\n",
    "ax2.coastlines(resolution='110m', color='black', linestyle='-', alpha=1, linewidth = 2)\n",
    "p2 = ax2.pcolormesh(lonT, latT, (f100[:,:,19]*deep_pixel_mask[:,:,0]), vmin = 0, vmax = 1, shading = 'auto', transform=ccrs.PlateCarree(), cmap = pal) \n",
    "d = int(np.floor(depthT[19]))\n",
    "ax2.add_feature(land_110m)\n",
    "ax2.set_title(str(d)+ ' m')\n",
    "\n",
    "# fig3\n",
    "ax3.coastlines(resolution='110m', color='black', linestyle='-', alpha=1, linewidth = 2)\n",
    "p3 = ax3.pcolormesh(lonT, latT, (f100[:,:,25]*deep_pixel_mask[:,:,0]), vmin = 0, vmax = 1, shading = 'auto', transform=ccrs.PlateCarree(), cmap = pal)\n",
    "d = int(np.ceil(depthT[25]))\n",
    "ax3.add_feature(land_110m)\n",
    "ax3.set_title(str(d)+ ' m')\n",
    "\n",
    "# fig4\n",
    "ax4.coastlines(resolution='110m', color='black', linestyle='-', alpha=1, linewidth = 2)\n",
    "p4 = ax4.pcolormesh(lonT, latT, (f100[:,:,33]*deep_pixel_mask[:,:,0]), vmin = 0, vmax = 1, shading = 'auto', transform=ccrs.PlateCarree(), cmap = pal)\n",
    "d = int(np.ceil(depthT[33]))\n",
    "ax4.add_feature(land_110m)\n",
    "ax4.set_title(str(d)+ ' m')\n",
    "\n",
    "# fig5\n",
    "ax5.coastlines(resolution='110m', color='black', linestyle='-', alpha=1, linewidth = 2)\n",
    "p5 = ax5.pcolormesh(lonT, latT, (f100[:,:,38]*deep_pixel_mask[:,:,0]), vmin = 0, vmax = 1, shading = 'auto', transform=ccrs.PlateCarree(), cmap = pal)\n",
    "d = int(np.floor(depthT[38]))\n",
    "ax5.add_feature(land_110m)\n",
    "ax5.set_title(str(d)+ ' m')\n",
    "\n",
    "# fig6\n",
    "ax6.coastlines(resolution='110m', color='black', linestyle='-', alpha=1, linewidth = 2)\n",
    "p6 = ax6.pcolormesh(lonT, latT, (f100[:,:,42]*deep_pixel_mask[:,:,0]), vmin = 0, vmax = 1, shading = 'auto', transform=ccrs.PlateCarree(), cmap = pal)\n",
    "d = int(np.floor(depthT[42]))\n",
    "ax6.add_feature(land_110m)\n",
    "ax6.set_title(str(d)+ ' m')\n",
    "\n",
    "cbar_ax = fig.add_axes([.95, 0.15, 0.02, 0.7])\n",
    "col = fig.colorbar(p4, cax=cbar_ax)\n",
    "#col.set_label('[%]')\n",
    "plt.savefig('FigED1.jpg', bbox_inches = \"tight\", dpi=300)"
   ]
  },
  {
   "cell_type": "code",
   "execution_count": null,
   "metadata": {},
   "outputs": [],
   "source": []
  }
 ],
 "metadata": {
  "kernelspec": {
   "display_name": "Python 3",
   "language": "python",
   "name": "python3"
  },
  "language_info": {
   "codemirror_mode": {
    "name": "ipython",
    "version": 3
   },
   "file_extension": ".py",
   "mimetype": "text/x-python",
   "name": "python",
   "nbconvert_exporter": "python",
   "pygments_lexer": "ipython3",
   "version": "3.8.10"
  }
 },
 "nbformat": 4,
 "nbformat_minor": 4
}
