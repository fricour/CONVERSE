{
 "cells": [
  {
   "cell_type": "code",
   "execution_count": 1,
   "metadata": {},
   "outputs": [],
   "source": [
    "# import libraries\n",
    "import os\n",
    "import scipy.io\n",
    "import numpy as np\n",
    "import pandas as pd\n",
    "import matplotlib.pyplot as plt\n",
    "from scipy.interpolate import interpn\n",
    "from scipy.interpolate import interp1d\n",
    "import pickle \n",
    "import xarray as xr\n",
    "import matplotlib.colors as colors\n",
    "import seaborn as sns\n",
    "import cmocean\n",
    "\n",
    "# import some home-made functions\n",
    "import nbimporter\n",
    "from src.function_helpers import compute_flux_total, compute_flux_total_mean\n",
    "\n",
    "# for mapping\n",
    "import cartopy.crs as ccrs\n",
    "# https://cosima-recipes.readthedocs.io/en/latest/tutorials/Making_Maps_with_Cartopy.html\n",
    "import cartopy.feature as cft\n",
    "# BIG issue with cartopy: see here https://github.com/SciTools/cartopy/issues/1325 at @jypeter\n",
    "# I had to download a bunch of stuff myself and put it in ~/.local/share/cartopy/shapefile/.../...\n",
    "# https://stackoverflow.com/questions/30030328/correct-placement-of-colorbar-relative-to-geo-axes-cartopy\n",
    "# https://scitools.org.uk/cartopy/docs/v0.15/examples/axes_grid_basic.html\n",
    "land_110m = cft.NaturalEarthFeature('physical', 'land', '110m', edgecolor='black', facecolor='gray', linewidth=0.5) # continents"
   ]
  },
  {
   "cell_type": "markdown",
   "metadata": {},
   "source": [
    "# Extract and clean Henson's data"
   ]
  },
  {
   "cell_type": "code",
   "execution_count": 2,
   "metadata": {},
   "outputs": [],
   "source": [
    "# Extract carbon export data\n",
    "henson_data = scipy.io.loadmat('data/Henson/expHensonmod.mat')\n",
    "latH = np.concatenate(henson_data['lat'])\n",
    "lonH = np.concatenate(henson_data['lon'])\n",
    "FexpH_raw = henson_data['exportC'] # units in gC/m2/year\n",
    "\n",
    "# We need to add 8 latitudes points so that latH goes from -89.5 to 89.5\n",
    "# otherwise the interpolation with Tim's grid will be translated downwards\n",
    "add_latH = np.array([-82.5,-83.5,-84.5,-85.5,-86.5,-87.5,-88.5,-89.5])\n",
    "latH = np.concatenate((latH, add_latH), axis = 0)\n",
    "\n",
    "# Therefore, we need to add 8 blank lines in the Arctic region\n",
    "add_blank = np.zeros((8,360))\n",
    "add_blank[:] = np.NaN\n",
    "\n",
    "# Cleaned carbon export (before interpolation on Tim's grid)\n",
    "FexpH_raw = np.concatenate((FexpH_raw, add_blank))\n",
    "\n",
    "# Extract primary production of Henson (ppH) et al., (2012)\n",
    "ppHenson = scipy.io.loadmat('data/Henson/Figure4mats.mat')\n",
    "ppH_raw = ppHenson['PP'] # units in gC m-2 year-1\n",
    "ppH_raw = np.concatenate((ppH_raw, add_blank)) \n",
    "ppH_raw = np.concatenate((ppH_raw[:,100:], ppH_raw[:,:100]), axis = 1) # shift longitude 100° westwards\n",
    "\n",
    "# export\n",
    "epH_raw = ppHenson['EP'] # check units -> OK gC m-2 year-1\n",
    "epH_raw = np.concatenate((epH_raw, add_blank)) \n",
    "epH_raw = np.concatenate((epH_raw[:,100:], epH_raw[:,:100]), axis = 1) # shift longitude 100° westwards\n",
    "\n",
    "# Henson POC flux at 2000 m\n",
    "Henson_2000m = ppHenson['POC2000']\n",
    "Henson_2000m = np.concatenate((Henson_2000m, add_blank))\n",
    "Henson_2000m = np.concatenate((Henson_2000m[:,100:], Henson_2000m[:,:100]), axis = 1)"
   ]
  },
  {
   "cell_type": "markdown",
   "metadata": {},
   "source": [
    "# Attenuation factor *b* from Martin et al., (1987); Guidi et al., (2015) and Henson et al., (2012)."
   ]
  },
  {
   "cell_type": "code",
   "execution_count": 3,
   "metadata": {},
   "outputs": [],
   "source": [
    "# load data\n",
    "b_data = open(\"data/b_attenuation/b_data.pkl\", \"rb\")\n",
    "b_data = pickle.load(b_data)\n",
    "b_martin = b_data['b_martin'] # b = 0.86\n",
    "b_guidi = b_data['b_guidi'] # geographyically variable b\n",
    "b_henson = b_data['b_henson'] # regionalized b"
   ]
  },
  {
   "cell_type": "markdown",
   "metadata": {},
   "source": [
    "# Extract and clean Tim DeVries's data"
   ]
  },
  {
   "cell_type": "code",
   "execution_count": 4,
   "metadata": {},
   "outputs": [],
   "source": [
    "tim_data = scipy.io.loadmat('data/Devries/F100.mat') \n",
    "f100 = tim_data['F100'] # # f100 (dimensionless) is the percentage of sequestered carbon\n",
    "latT = np.concatenate(tim_data['lat'])\n",
    "lonT = np.concatenate(tim_data['lon'])\n",
    "depthT = np.concatenate(tim_data['depth']) # units = m\n",
    "\n",
    "# Tim's longitude are eastward so from 0 to 360. I want -180 to 180 to fit my grid hence we do a bit translation.\n",
    "f100 = np.concatenate((f100[:,90:,:], f100[:,:90,:]), axis = 1)\n",
    "lonT = np.linspace(-179, 179, 180)\n",
    "\n",
    "# replace 1 by 0 in Tim's first layer because it should not be 100% of sequestration at the surface (in his case, 4 meters).\n",
    "f100[:,:,0] = np.where(f100[:,:,0] == 1 , 0, f100[:,:,0])"
   ]
  },
  {
   "cell_type": "markdown",
   "metadata": {},
   "source": [
    "# Extract and clean SIMPLE TRIM's data"
   ]
  },
  {
   "cell_type": "code",
   "execution_count": 5,
   "metadata": {},
   "outputs": [],
   "source": [
    "# open netcdf\n",
    "#file = 'SIMPLE_TRIM_output.nc' # there was an error in that file\n",
    "file = 'data/Devries/SIMPLE_TRIM_output_CORRECTED.nc'\n",
    "with xr.open_dataset(file, engine='netcdf4') as ds:\n",
    "    ds\n",
    "    \n",
    "# maskST = np.array(ds.mask[0,:,:]) # we don't use it\n",
    "# maskST = np.transpose(maskST)\n",
    "# maskST = np.concatenate((maskST[:,90:], maskST[:,:90]), axis = 1)\n",
    "latST = np.array(ds.LAT[0,0,:])\n",
    "lonST = np.array(ds.LON[0,:,0])\n",
    "# it has been checked but lonST = lonT et latT = latST -> no need to interpolate, it's the same resolution\n",
    "# lonST -180 == lonT\n",
    "# latST == latT\n",
    "depthST = np.array(ds.DEPTH[:,0,0])\n",
    "\n",
    "# Euphotic depth\n",
    "Zeu = ds.Zeu[0,:,:]\n",
    "Zeu = np.transpose(np.array(Zeu))\n",
    "Zeu = np.concatenate((Zeu[:,90:], Zeu[:,:90]), axis = 1) # Centered on Europe\n",
    "\n",
    "# Export flux at 100m \n",
    "FexpT = ds.FPOC100m\n",
    "FexpT = np.transpose(FexpT, [0,2,1]) * 12/1000 # transpose + convert mmolC/m2/year to gC/m2/year\n",
    "FexpT = np.concatenate((FexpT[:,:,90:], FexpT[:,:,:90]), axis = 2) # center it on Europe\n",
    "\n",
    "# Export flux at the euphotic depth\n",
    "FexpZeu = ds.FPOCex \n",
    "FexpZeu = np.transpose(FexpZeu, [0,2,1]) * 12/1000\n",
    "FexpZeu = np.concatenate((FexpZeu[:,:,90:], FexpZeu[:,:,:90]), axis = 2)\n",
    "\n",
    "# Pixel area\n",
    "pixelArea = np.transpose(np.array(ds.Area)) #m2\n",
    "\n",
    "def transpose_translate_data(ds_data):\n",
    "    \"\"\"\n",
    "    This function does an average of the input data then transpose and translate it.\n",
    "    However, it does not work for all data in SIMPLE-TRIM (it needs 4 dimensions and needs to be checked before so be careful with that) \n",
    "    \"\"\"\n",
    "    data = np.transpose(ds_data, [0,3,2,1]) \n",
    "    data = np.concatenate((data[:,:,90:,:], data[:,:,:90,:]), axis = 2) \n",
    "    data = data * 12/1000 # conversion from mmolC to gC\n",
    "    return(data)\n",
    "\n",
    "# Dissolved organic carbon (DOC)\n",
    "DOCl = transpose_translate_data(ds.DOCl)\n",
    "DOCsl = transpose_translate_data(ds.DOCsl)\n",
    "DOCsr = transpose_translate_data(ds.DOCsr)\n",
    "DOCr = transpose_translate_data(ds.DOCr)\n",
    "\n",
    "# DOC remineralization rates\n",
    "kl = np.array(ds.k_L)\n",
    "ksl = np.array(ds.k_SL)\n",
    "ksr = np.array(ds.k_SR)\n",
    "kr = np.array(ds.k_R)\n",
    "\n",
    "# Particulate organic carbon (POC) fluxes\n",
    "POCflux = transpose_translate_data(ds.POCflux)\n",
    "\n",
    "# slow and fast POC\n",
    "POCslow = transpose_translate_data(ds.POCslow)\n",
    "POCfast = transpose_translate_data(ds.POCfast)\n",
    "kslow = np.array(ds.gamma_S)\n",
    "kfast = np.array(ds.gamma_F)\n",
    "\n",
    "# doxy obs\n",
    "o2_obs = np.array(ds.O2obs)\n",
    "o2_obs = np.transpose(o2_obs, [2,1,0])\n",
    "o2_obs = np.concatenate((o2_obs[:,90:,:], o2_obs[:,:90,:]), axis = 1) \n",
    "\n",
    "# kO2\n",
    "Ko2 = np.array(ds.Ko2)\n",
    "\n",
    "# Q10\n",
    "q10 = np.array(ds.q10)\n",
    "\n",
    "# T\n",
    "Tref = 20 # see annexes\n",
    "temp = np.array(ds.Temp)\n",
    "temp = np.transpose(temp, [2,1,0])\n",
    "temp = np.concatenate((temp[:,90:,:], temp[:,:90,:]), axis = 1) \n",
    "\n",
    "# NPP\n",
    "ppST = ds.NPP\n",
    "ppST = np.transpose(ppST, [0,2,1]) * 12/1000\n",
    "ppST = np.concatenate((ppST[:,:,90:], ppST[:,:,:90]), axis = 2)"
   ]
  },
  {
   "cell_type": "markdown",
   "metadata": {},
   "source": [
    "# Add sediment data"
   ]
  },
  {
   "cell_type": "code",
   "execution_count": 6,
   "metadata": {},
   "outputs": [],
   "source": [
    "# add Fsedim based on Hayes et al., 2021. See also 02_compute_Fsedim.ipynb and 04_fill_missing_Hayes_pixels.R on RStudio \n",
    "Fsedim = np.load('data/Hayes/Fsedim.npy')"
   ]
  },
  {
   "cell_type": "markdown",
   "metadata": {},
   "source": [
    "# Interpolation of f100 on the 24 depths of SIMPLE-TRIM"
   ]
  },
  {
   "cell_type": "code",
   "execution_count": 7,
   "metadata": {},
   "outputs": [],
   "source": [
    "f100_ST = np.zeros((91,180,24)) # 24 depths in SIMPLE-TRIM\n",
    "\n",
    "for i, lat in enumerate(latT):\n",
    "    for j, lon in enumerate(lonT):\n",
    "        r = int(np.array(np.where(latT == lat))) # r for row\n",
    "        c = int(np.array(np.where(lonT == lon))) \n",
    "        tmp = f100[r,c,:]\n",
    "        # interpolated f100\n",
    "        f = interp1d(depthT, tmp)\n",
    "        yvals = f(depthST)\n",
    "        #yvals = np.interp(depthST, depthT, tmp) # works as well\n",
    "        f100_ST[r,c,:] = yvals\n",
    "        \n",
    "# Sometimes, the interpolation does not go to the last depth of the profile.\n",
    "# Hence, for those pixels, we put the last f100_ST to be the last f100\n",
    "for i, lat in enumerate(latT):\n",
    "    for j, lon in enumerate(lonT):\n",
    "        r = int(np.array(np.where(latT == lat))) # r for row\n",
    "        c = int(np.array(np.where(lonT == lon))) \n",
    "        tmp = f100[r,c,:]\n",
    "        #print(r,c)\n",
    "        length_poc_flux = np.sum(~np.isnan(POCflux[0,r,c,])) \n",
    "        length_f100_ST = np.sum(~np.isnan(f100_ST[r,c,]))\n",
    "        if (~np.isnan(tmp[0])) & (length_poc_flux != length_f100_ST):\n",
    "            last_f100 = f100[r,c,~np.isnan(f100[r,c,])][-1]\n",
    "            f100_ST[r,c,length_poc_flux-1] = last_f100\n",
    "        \n",
    "# # visual check \n",
    "# r = 40\n",
    "# c = 40\n",
    "# tmp = f100[r,c,:]\n",
    "# # interpolated f100\n",
    "# f = interp1d(depthT, tmp)\n",
    "# xnew = depthST\n",
    "# ynew = f(xnew)   # use interpolation function returned by `interp1d`\n",
    "# #plt.plot(depthT, tmp, 'o', xnew, ynew, '-')\n",
    "# plt.plot(depthT, tmp, 'o', xnew, f100_ST[r,c,:], 'x')\n",
    "# plt.show()"
   ]
  },
  {
   "cell_type": "markdown",
   "metadata": {},
   "source": [
    "# Computation of the deepest depth before reaching the sediment using Tim's data"
   ]
  },
  {
   "cell_type": "code",
   "execution_count": 8,
   "metadata": {},
   "outputs": [],
   "source": [
    "# compute max depth before reaching the sediment\n",
    "zmax = np.zeros(f100[:,:,0].shape)\n",
    "\n",
    "# NOTE : I did not make the distinction between oceans and inland waters. However, f100 is only defined in 'ocean'\n",
    "# waters so the problem goes away by itself. We should then see the 'ocean' points at depth < 100 m in white\n",
    "# on the maps\n",
    "\n",
    "for i, lat in enumerate(latT):\n",
    "    for j, lon in enumerate(lonT):\n",
    "        r = int(np.array(np.where(latT == lat))) # r for row\n",
    "        c = int(np.array(np.where(lonT == lon))) \n",
    "        tmp = f100[r,c,:]\n",
    "        if (all(np.isnan(tmp)) == False) & (np.isnan(np.sum(tmp))): # so we are not on a 'land' pixel or on a deep point (with data at 5581 m)\n",
    "            index = np.argwhere(np.isnan(tmp))[0][0]\n",
    "            zmax[r,c] = depthT[index-1]\n",
    "        elif np.isnan(np.sum(tmp)) == False: # we are in the case of the 5581m layer\n",
    "            zmax[r,c] = np.max(depthT)\n",
    "        else:\n",
    "            zmax[r,c] = np.nan\n",
    "\n",
    "# mask pixels where Zmax < 100m\n",
    "zmax_with_shallow_pixels = np.copy(zmax)\n",
    "zmax = np.where(zmax<100, np.nan, zmax) \n",
    "\n",
    "# create mask\n",
    "mask = np.where(zmax > 0.0, 1.0, zmax) # it masks the pixel < 100 m depth and some inland seas \n",
    "#mask = np.where(mask != 1.0, 0.0, mask) # was used to check if mask was equal to maskST -> yes\n",
    "\n",
    "# check if previous step is ok\n",
    "# np.argwhere(zmax == np.nanmax(zmax))\n",
    "# np.argwhere(~np.isnan(f100[:,:,47]))\n",
    "\n",
    "# ok it gives the same output\n",
    "\n",
    "# new mask for data > 2000 m\n",
    "mask_2000m = np.where(zmax<2000, np.nan, zmax)\n",
    "mask_2000m = np.where(mask_2000m> 0.0, 1.0, mask_2000m)\n",
    "\n",
    "# new mask for data > 1000 m\n",
    "mask_1000m = np.where(zmax<1000, np.nan, zmax)\n",
    "mask_1000m = np.where(mask_1000m> 0.0, 1.0, mask_1000m)\n",
    "\n",
    "# # mask at 200m\n",
    "# mask_200m = np.where(zmax<200, np.nan, zmax)\n",
    "# mask_200m = np.where(mask_200m> 0.0, 1.0, mask_200m)"
   ]
  },
  {
   "cell_type": "code",
   "execution_count": 9,
   "metadata": {},
   "outputs": [],
   "source": [
    "# I need to compute a matrix of deltaZ actually\n",
    "deltaZ_matrix = np.zeros(POCflux[0,:,:,:].shape)\n",
    "for i, lat in enumerate(latT):\n",
    "    for j, lon in enumerate(lonT):\n",
    "        r = int(np.array(np.where(latT == lat))) # r for row\n",
    "        c = int(np.array(np.where(lonT == lon))) # c for column\n",
    "        tmp = POCflux[0,r,c,:] # index 0 for version but it does not matter here\n",
    "        index_bottom = np.argmin(POCflux[0,r,c,:]) # give the index of the layer below the last layer\n",
    "        deepest_depth = depthST[index_bottom-1]\n",
    "        mask_pixel = mask[r,c]\n",
    "        if np.isnan(mask_pixel): # land pixel ou < 100 m pixel\n",
    "            deltaZ_matrix[r,c,:] = np.nan\n",
    "        else:\n",
    "            for k, depth in enumerate(depthST[:index_bottom]):\n",
    "                if depth == depthST[0]: # case at the surface\n",
    "                    deltaZ_matrix[r,c,k] = (depthST[k]+depthST[k+1])/2\n",
    "                elif depth == deepest_depth: # case at the bottom\n",
    "                    deltaZ_matrix[r,c,k] = deepest_depth - ((depthST[k-1]+deepest_depth)/2)\n",
    "                    deltaZ_matrix[r,c,k+1:] = np.nan\n",
    "                else:\n",
    "                    deltaZ_matrix[r,c,k] = ((depthST[k]+depthST[k+1])/2) - ((depthST[k-1]+depthST[k])/2)"
   ]
  },
  {
   "cell_type": "markdown",
   "metadata": {},
   "source": [
    "# Interpolate Henson's data on Tim's grid (coarser grid)"
   ]
  },
  {
   "cell_type": "code",
   "execution_count": 10,
   "metadata": {},
   "outputs": [],
   "source": [
    "RlatH = latH[::-1] # reverse latH for ascending order needed by scipy\n",
    "\n",
    "points = (RlatH, lonH)\n",
    "values = FexpH_raw\n",
    "\n",
    "RlatT = latT[::-1] \n",
    "RlonT = lonT[::-1]\n",
    "\n",
    "FexpH = []\n",
    "for i, lat in enumerate(RlatT):\n",
    "    for j, lon in enumerate(lonT):\n",
    "        point = np.array([lat,lon])\n",
    "        try:\n",
    "            tmp = float(interpn(points, values, point, method = 'nearest'))\n",
    "            FexpH.append(tmp)\n",
    "        except:\n",
    "            tmp = np.nan\n",
    "            FexpH.append(tmp)\n",
    "            \n",
    "FexpH = np.array(FexpH).reshape((91, 180)) # shape of f100 (Tim's data)      \n",
    "# print(np.nanmax(FexpH))\n",
    "# print(np.nanmean(FexpH))\n",
    "\n",
    "# same for the primary production\n",
    "# interpolate PP of Henson on Tim's grid\n",
    "values = ppH_raw\n",
    "values2 = epH_raw\n",
    "values3 = Henson_2000m\n",
    "\n",
    "ppH = []\n",
    "epH = []\n",
    "H2000 = []\n",
    "for i, lat in enumerate(RlatT):\n",
    "    for j, lon in enumerate(lonT):\n",
    "        point = np.array([lat,lon])\n",
    "        try:\n",
    "            tmp = float(interpn(points, values, point, method = 'nearest'))\n",
    "            ppH.append(tmp)\n",
    "            tmp2 = float(interpn(points, values2, point, method = 'nearest'))\n",
    "            epH.append(tmp2)\n",
    "            tmp3 = float(interpn(points, values3, point, method = 'nearest'))\n",
    "            H2000.append(tmp3)\n",
    "        except:\n",
    "            tmp = np.nan\n",
    "            ppH.append(tmp)\n",
    "            tmp2 = np.nan\n",
    "            epH.append(tmp2)\n",
    "            tmp3 = np.nan\n",
    "            H2000.append(tmp3)\n",
    "            \n",
    "ppH = np.array(ppH).reshape((91, 180)) # shape of f100 (Tim's data)      \n",
    "epH = np.array(epH).reshape((91, 180))\n",
    "H2000 = np.array(H2000).reshape((91,180))\n",
    "\n",
    "# Depth of export for Henson (100m)\n",
    "ZexpH = np.zeros(ppH.shape)\n",
    "ZexpH.fill(100) # Zexp for Henson is constant and fixed at 100m"
   ]
  },
  {
   "cell_type": "markdown",
   "metadata": {},
   "source": [
    "# Check ppH with and without the <100m pixel mask"
   ]
  },
  {
   "cell_type": "code",
   "execution_count": 11,
   "metadata": {},
   "outputs": [
    {
     "name": "stdout",
     "output_type": "stream",
     "text": [
      "87.33501488130551\n",
      "64.4200562104209\n",
      "0.07670179318198936\n"
     ]
    }
   ],
   "source": [
    "print(compute_flux_total(ppH, pixelArea)) \n",
    "print(compute_flux_total(ppH*mask, pixelArea)) \n",
    "ratioExpPP = epH/ppH\n",
    "#plot_map((20,8), lonT, latT, ratioExpPP, 0, None, '', '', False, '', mask, cmap = \"jet\")\n",
    "print(np.nanmean(ratioExpPP))"
   ]
  },
  {
   "cell_type": "code",
   "execution_count": 12,
   "metadata": {},
   "outputs": [],
   "source": [
    "# save data for Extended Figure 1 (ED1)\n",
    "import pickle\n",
    "figED1 = dict({'mask':mask, 'f100':f100, 'lon':lonT, 'lat':latT, 'depth':depthT})\n",
    "file = open(\"data/output_data_for_figures/data_figED1.pkl\", \"wb\")\n",
    "pickle.dump(figED1, file)\n",
    "file.close()"
   ]
  },
  {
   "cell_type": "markdown",
   "metadata": {},
   "source": [
    "# Compute sequestration flux at 1000 and 2000 m"
   ]
  },
  {
   "cell_type": "code",
   "execution_count": 13,
   "metadata": {},
   "outputs": [],
   "source": [
    "def compute_FseqPOC_1000m(b_matrix, Fexp_matrix, Zexp_matrix, POCflux, use_ST = False, latT = latT, lonT = lonT, zmax = zmax, depthST = depthST):\n",
    "    \n",
    "    FseqPOC_1000m = np.zeros(Fexp_matrix.shape)\n",
    "    \n",
    "    if use_ST == False:\n",
    "        for i, lat in enumerate(latT):\n",
    "            for j, lon in enumerate(lonT):\n",
    "                r = int(np.array(np.where(latT == lat))) # r for row\n",
    "                c = int(np.array(np.where(lonT == lon))) # c for column\n",
    "                zmax_pixel = zmax[r,c] # deepest depth of that pixel before reaching the sediment\n",
    "                b = b_matrix[r,c] \n",
    "                Fexp = Fexp_matrix[r,c]\n",
    "                Zexp = Zexp_matrix[r,c]\n",
    "                if zmax_pixel >= 1000:\n",
    "                    Flux_z = compute_FluxC(1000, b, Fexp, Zexp)\n",
    "                    FseqPOC_1000m[r,c] = Flux_z # we assume that the flux at 2000 m is fully sequestered at that depth\n",
    "                else:\n",
    "                    FseqPOC_1000m[r,c] = np.nan\n",
    "    else:\n",
    "        # basic linear interp (at this depth, the flux is generally constant so basic linear interp is good\n",
    "        for i, lat in enumerate(latT):\n",
    "            for j, lon in enumerate(lonT):\n",
    "                r = int(np.array(np.where(latT == lat))) # r for row\n",
    "                c = int(np.array(np.where(lonT == lon))) # c for column\n",
    "                zmax_pixel = zmax[r,c]\n",
    "                if zmax_pixel >= 1000: # pixel too shallow for sequestration above 2000m\n",
    "                    slope = (POCflux[r,c,12] - POCflux[r,c,11])/(depthST[12] - depthST[11])\n",
    "                    FseqPOC_1000m[r,c] = POCflux[r,c,11] + slope*(1000 - depthST[11]) # we assume that the flux at 1000 m is fully sequestered at that depth\n",
    "                \n",
    "    return(FseqPOC_1000m)"
   ]
  },
  {
   "cell_type": "code",
   "execution_count": 14,
   "metadata": {},
   "outputs": [],
   "source": [
    "# Using Martin's law\n",
    "def compute_FseqPOC_2000m(b_matrix, Fexp_matrix, Zexp_matrix, POCflux, use_ST = False, latT = latT, lonT = lonT, zmax = zmax, depthST = depthST):\n",
    "    \n",
    "    FseqPOC_2000m = np.zeros(Fexp_matrix.shape)\n",
    "    \n",
    "    if use_ST == False:\n",
    "        for i, lat in enumerate(latT):\n",
    "            for j, lon in enumerate(lonT):\n",
    "                r = int(np.array(np.where(latT == lat))) # r for row\n",
    "                c = int(np.array(np.where(lonT == lon))) # c for column\n",
    "                zmax_pixel = zmax[r,c] # deepest depth of that pixel before reaching the sediment\n",
    "                b = b_matrix[r,c] \n",
    "                Fexp = Fexp_matrix[r,c]\n",
    "                Zexp = Zexp_matrix[r,c]\n",
    "                if zmax_pixel >= 2000:\n",
    "                    Flux_z = compute_FluxC(2000, b, Fexp, Zexp)\n",
    "                    FseqPOC_2000m[r,c] = Flux_z # we assume that the flux at 2000 m is fully sequestered at that depth\n",
    "                else:\n",
    "                    FseqPOC_2000m[r,c] = np.nan\n",
    "    else:\n",
    "        # basic linear interp (at this depth, the flux is generally constant so basic linear interp is good\n",
    "        for i, lat in enumerate(latT):\n",
    "            for j, lon in enumerate(lonT):\n",
    "                r = int(np.array(np.where(latT == lat))) # r for row\n",
    "                c = int(np.array(np.where(lonT == lon))) # c for column\n",
    "                zmax_pixel = zmax[r,c]\n",
    "                if zmax_pixel >= 2000: # pixel too shallow for sequestration above 2000m\n",
    "                    slope = (POCflux[r,c,16] - POCflux[r,c,15])/(depthST[16] - depthST[15])\n",
    "                    FseqPOC_2000m[r,c] = POCflux[r,c,15] + slope*(2000 - depthST[15]) # we assume that the flux at 2000 m is fully sequestered at that depth\n",
    "                \n",
    "    return(FseqPOC_2000m)"
   ]
  },
  {
   "cell_type": "markdown",
   "metadata": {},
   "source": [
    "# It is time to check if what we have done so far is OK"
   ]
  },
  {
   "cell_type": "code",
   "execution_count": 15,
   "metadata": {},
   "outputs": [
    {
     "name": "stdout",
     "output_type": "stream",
     "text": [
      "7.338796829045954\n",
      "8.787427667716868\n",
      "4.046082981596219\n"
     ]
    }
   ],
   "source": [
    "print(compute_flux_total_mean(FexpT, pixelArea)) # OK with what Tim found\n",
    "print(compute_flux_total_mean(FexpZeu, pixelArea)) # OK with what Tim found\n",
    "print(compute_flux_total(FexpH, pixelArea)) # OK with what Henson found"
   ]
  },
  {
   "cell_type": "code",
   "execution_count": 16,
   "metadata": {},
   "outputs": [
    {
     "name": "stdout",
     "output_type": "stream",
     "text": [
      "7.334306930261694\n",
      "8.576941277760994\n",
      "3.0086205964406982\n"
     ]
    }
   ],
   "source": [
    "print(compute_flux_total_mean(FexpT*mask, pixelArea)) # OK with what Tim found\n",
    "print(compute_flux_total_mean(FexpZeu*mask, pixelArea)) # OK with what Tim found\n",
    "print(compute_flux_total(FexpH*mask, pixelArea)) # OK with what Henson found"
   ]
  },
  {
   "cell_type": "markdown",
   "metadata": {},
   "source": [
    "# Computation of the sequestered flux in Open Water"
   ]
  },
  {
   "cell_type": "code",
   "execution_count": 17,
   "metadata": {},
   "outputs": [
    {
     "data": {
      "text/plain": [
       "array([4.93454087e+00, 1.48774788e+01, 2.51158413e+01, 3.59450532e+01,\n",
       "       4.76605389e+01, 6.05577232e+01, 7.49320307e+01, 9.10788861e+01,\n",
       "       1.09293714e+02, 1.29871939e+02, 1.53108986e+02, 1.79300279e+02,\n",
       "       2.08741243e+02, 2.41727303e+02, 2.78553883e+02, 3.19516408e+02,\n",
       "       3.64910303e+02, 4.15030992e+02, 4.70173900e+02, 5.30634451e+02,\n",
       "       5.96708071e+02, 6.68690183e+02, 7.46876213e+02, 8.31561585e+02,\n",
       "       9.23041723e+02, 1.02161205e+03, 1.12756800e+03, 1.24120499e+03,\n",
       "       1.36281844e+03, 1.49270378e+03, 1.63115644e+03, 1.77847183e+03,\n",
       "       1.93494539e+03, 2.10087254e+03, 2.27654870e+03, 2.46226930e+03,\n",
       "       2.65832976e+03, 2.86502551e+03, 3.08265197e+03, 3.31150457e+03,\n",
       "       3.55187872e+03, 3.80406987e+03, 4.06837342e+03, 4.34508481e+03,\n",
       "       4.63449945e+03, 4.93691279e+03, 5.25262023e+03, 5.58191720e+03])"
      ]
     },
     "execution_count": 17,
     "metadata": {},
     "output_type": "execute_result"
    }
   ],
   "source": [
    "depthT # depth levels from Tim's data"
   ]
  },
  {
   "cell_type": "code",
   "execution_count": 18,
   "metadata": {},
   "outputs": [],
   "source": [
    "def compute_Fseq_water(z1, z2, b, f_100, Fexp, Zexp):\n",
    "    \"\"\"\n",
    "    For sequestration in open waters\n",
    "    \n",
    "    INPUTS : z1, z2 : depths above and below depth of interest\n",
    "             b : Martin's coefficient (but can be a one different from Martin like Guidi's one or Henson's one)\n",
    "             f_100 : % of captured carbon\n",
    "             Fexp : flux of exported carbon \n",
    "             Zexp : depth of export \n",
    "    OUTPUT : Fseq : the flux of sequestered carbon\n",
    "    \"\"\"\n",
    "    \n",
    "    if (np.isnan(b)) | (np.isnan(f_100)) | (np.isnan(Fexp)):\n",
    "        Fseq = np.nan\n",
    "        Fremin = np.nan\n",
    "    elif z1 == 0: # because raising 0 to a power raises an error\n",
    "        Fremin = Fexp * (0-((z2/Zexp)**b))\n",
    "        Fseq = Fremin * f_100\n",
    "    else:\n",
    "        Fremin = Fexp * ((z1/Zexp)**b - ((z2/Zexp)**b)) # delta_flux = Fremin(pixel, depth)\n",
    "        Fseq = Fremin * f_100 # units gC m-2 year-1\n",
    "    return(Fremin, Fseq)"
   ]
  },
  {
   "cell_type": "code",
   "execution_count": 19,
   "metadata": {},
   "outputs": [],
   "source": [
    "def compute_sequestration_in_water(zmax_matrix, depthX, b_matrix, f100_matrix, Fexp_matrix, Zexp_matrix, Fsedim = Fsedim, latT = latT, lonT = lonT):\n",
    "    \n",
    "    \"\"\"\n",
    "    For computing the sequestration flux in open water\n",
    "    INPUTS : latT, lonT : arrays of discrete latitudes and longitudes\n",
    "             zmax_matrix : array of maximum depth per pixel before reaching the sediment\n",
    "             depthX : array of depth layers\n",
    "             b_matrix : array of b values per pixel\n",
    "             f100_matrix : array of f100 values per pixel \n",
    "             Fexp_matrix : array of export flux per pixel\n",
    "             Zexp_matrix : array of depth of export per pixel\n",
    "    OUTPUT : Fseq_water : the sequestered carbon in open water\n",
    "    \"\"\"\n",
    "    \n",
    "    # compute the sequestration flux in open water\n",
    "    # The special case of surface and zmax(pixel) is taken into account.\n",
    "    \n",
    "    Fseq_water = np.zeros(f100_matrix.shape) # this will be for the 3D Fseq in open water, units in gC m-2 year-1\n",
    "    Fremin_water = np.zeros(f100_matrix.shape)\n",
    "    FseqDeep = np.zeros(zmax_matrix.shape)\n",
    "    FseqDeepestOrg = np.zeros(zmax_matrix.shape) # needed to compare FseqDeepestOrg with Fsedim later\n",
    "\n",
    "    for i, lat in enumerate(latT):\n",
    "        for j, lon in enumerate(lonT):\n",
    "            r = int(np.array(np.where(latT == lat))) # r for row\n",
    "            c = int(np.array(np.where(lonT == lon))) # c for column\n",
    "            zmax_pixel = zmax_matrix[r,c] # deepest depth of that pixel before reaching the sediment\n",
    "            # NOTE: depending on the version of zmax (with or without shallow (<100m) pixels, there is no need to apply the mask here) =============> WELL THAT IS NOT TRUE, IF WE USE ALL PIXELS, THEN WE NEED TO ADD THAT THERE IS NO SEQUESTRATION IN THE WATER FOR ZMAX(PIXELS) < 100m\n",
    "            b = b_matrix[r,c] # for the paper, we'll only use Martin's b. Maybe Lionel's or Henson's for supp. material\n",
    "            Fexp = Fexp_matrix[r,c]\n",
    "            Zexp = Zexp_matrix[r,c]\n",
    "            FPOC_sedim = Fsedim[r,c]\n",
    "            for k, depth in enumerate(depthX):\n",
    "                f100_z = f100_matrix[r,c,k]\n",
    "                if np.isnan(zmax_pixel): # land pixel\n",
    "                    Fseq_water[r,c,:] = np.nan\n",
    "                    Fremin_water[r,c,:] = np.nan\n",
    "                    FseqDeep[r,c] = np.nan\n",
    "                    FseqDeepestOrg[r,c] = np.nan\n",
    "                    break\n",
    "                elif depth == np.min(depthX): # special case at the surface\n",
    "                    z1 = 0\n",
    "                    z2 = (depthX[k]+depthX[k+1])/2\n",
    "                    Fremin_z, Fseq_z = compute_Fseq_water(z1, z2, b, f100_z, Fexp, Zexp) # z for Fseq at that particular depth z\n",
    "                    Fseq_water[r,c,k] = Fseq_z\n",
    "                    Fremin_water[r,c,k] = Fremin_z\n",
    "                elif depth == zmax_pixel: # special case at the deepest depth (before reaching sediments)\n",
    "                    z1 = (depthX[k-1]+zmax_pixel)/2\n",
    "                    z2 = zmax_pixel\n",
    "                    Fremin_z, Fseq_z = compute_Fseq_water(z1, z2, b, f100_z, Fexp, Zexp) \n",
    "                    Fseq_water[r,c,k] = Fseq_z\n",
    "                    Fremin_water[r,c,k] = Fremin_z\n",
    "                    FseqDeep[r,c] = ((Fexp * (z2/Zexp)**b) - FPOC_sedim) * f100_z\n",
    "                    FseqDeepestOrg[r,c] = Fexp * (z2/Zexp)**b\n",
    "                    if(zmax_pixel != np.max(depthX)): # we reached the zmax of that pixel so all values below should be nan\n",
    "                        Fseq_water[r,c,k+1:] = np.nan\n",
    "                        Fremin_water[r,c,k+1:] = np.nan\n",
    "                        break # go to next lat/lon point\n",
    "                else:\n",
    "                    z1 = (depthX[k-1]+depthX[k])/2\n",
    "                    z2 = (depthX[k]+depthX[k+1])/2\n",
    "                    Fremin_z, Fseq_z = compute_Fseq_water(z1, z2, b, f100_z, Fexp, Zexp) \n",
    "                    Fseq_water[r,c,k] = Fseq_z\n",
    "                    Fremin_water[r,c,k] = Fremin_z\n",
    "    \n",
    "    return(Fremin_water, Fseq_water, FseqDeep, FseqDeepestOrg)"
   ]
  },
  {
   "cell_type": "markdown",
   "metadata": {},
   "source": [
    "# Just a reminder to check loops/functions if needed"
   ]
  },
  {
   "cell_type": "code",
   "execution_count": 20,
   "metadata": {},
   "outputs": [],
   "source": [
    "# land point\n",
    "r = 0\n",
    "c = 0"
   ]
  },
  {
   "cell_type": "code",
   "execution_count": 21,
   "metadata": {},
   "outputs": [],
   "source": [
    "# deepest point (deepest depth reaches 5581 m)\n",
    "r = 57\n",
    "c = 59"
   ]
  },
  {
   "cell_type": "code",
   "execution_count": 22,
   "metadata": {},
   "outputs": [],
   "source": [
    "# normal open water point (not reaching the last depth of 5581 m)\n",
    "r = 40\n",
    "c = 40"
   ]
  },
  {
   "cell_type": "markdown",
   "metadata": {},
   "source": [
    "# Focus on f100"
   ]
  },
  {
   "cell_type": "code",
   "execution_count": 23,
   "metadata": {},
   "outputs": [],
   "source": [
    "# compute weighted mean f100 below Zeu\n",
    "\n",
    "weighted_mean_f100 = np.zeros(f100[:,:,0].shape) # only for layers below Zeu\n",
    "\n",
    "for i, lat in enumerate(latT):\n",
    "    for j, lon in enumerate(lonT):\n",
    "        r = int(np.array(np.where(latT == lat))) # r for row\n",
    "        c = int(np.array(np.where(lonT == lon))) # c for column\n",
    "        Zeu_pixel = Zeu[r,c]\n",
    "        zmax_pixel = zmax[r,c] # deepest depth of that pixel before reaching the sediment\n",
    "        f100_wm = [] # f100 weighted mean (wm)\n",
    "        deltaz_pixel = [] \n",
    "        n_layers_above_Zeu = len(depthT[depthT < Zeu_pixel])\n",
    "        for k, depth in enumerate(depthT):\n",
    "            if np.isnan(zmax_pixel): # land pixel\n",
    "                weighted_mean_f100[r,c] = np.nan\n",
    "            elif depth == np.min(depthT): # case at the surface\n",
    "                deltaz = (depthT[k]+depthT[k+1])/2\n",
    "                deltaz_pixel.append(deltaz)\n",
    "                f100_wm.append(f100[r,c,k] * deltaz)\n",
    "            elif depth == zmax_pixel: # case at zmax_pixel\n",
    "                deltaz = zmax_pixel - ((zmax_pixel+depthT[k-1])/2)\n",
    "                deltaz_pixel.append(deltaz)\n",
    "                f100_wm.append(f100[r,c,k] * deltaz)\n",
    "                # compute weighted mean here, at zmax\n",
    "                weighted_mean_f100[r,c] = (1/np.sum(np.array(deltaz_pixel[n_layers_above_Zeu+1:])))*np.sum(np.array(f100_wm[n_layers_above_Zeu+1:]))\n",
    "                break\n",
    "            else:\n",
    "                deltaz = ((depthT[k]+depthT[k+1])/2) - ((depthT[k-1]+depthT[k])/2)\n",
    "                deltaz_pixel.append(deltaz)\n",
    "                f100_wm.append(f100[r,c,k] * deltaz)"
   ]
  },
  {
   "cell_type": "code",
   "execution_count": 24,
   "metadata": {},
   "outputs": [
    {
     "name": "stdout",
     "output_type": "stream",
     "text": [
      "0.9708453380521918\n",
      "0.7231108464522966\n",
      "0.6840619342252362\n",
      "0.0\n"
     ]
    }
   ],
   "source": [
    "# compute some stats on weighted mean f100\n",
    "print(np.nanmax(weighted_mean_f100)) \n",
    "print(np.nanmedian(weighted_mean_f100)) \n",
    "print(np.nanmean(weighted_mean_f100))\n",
    "print(np.nanmin(weighted_mean_f100))"
   ]
  },
  {
   "cell_type": "code",
   "execution_count": 25,
   "metadata": {},
   "outputs": [],
   "source": [
    "# check pixels where weighted mean f100 is above median\n",
    "f100_weighted_above_median = np.copy(weighted_mean_f100)\n",
    "f100_weighted_above_median = np.where(f100_weighted_above_median < np.nanmedian(weighted_mean_f100), np.nan, f100_weighted_above_median)"
   ]
  },
  {
   "cell_type": "code",
   "execution_count": 26,
   "metadata": {},
   "outputs": [],
   "source": [
    "# compute regions in and outside the median\n",
    "f100_weighted_lines = np.zeros(weighted_mean_f100.shape)\n",
    "f100_weighted_lines = np.where(f100_weighted_above_median > 0.0, 1.0, f100_weighted_lines)"
   ]
  },
  {
   "cell_type": "code",
   "execution_count": 27,
   "metadata": {},
   "outputs": [
    {
     "data": {
      "image/png": "[encoded data removed]",
      "text/plain": [
       "<Figure size 2000x800 with 2 Axes>"
      ]
     },
     "metadata": {},
     "output_type": "display_data"
    }
   ],
   "source": [
    "# plot it\n",
    "fig, ax = plt.subplots(1,1,figsize=(20,8),subplot_kw={'projection': ccrs.Robinson()})\n",
    "ax.coastlines(resolution='110m', color='black', linestyle='-', alpha=1, linewidth = 2)\n",
    "# p = ax.contourf(lonT, latT, weighted_mean_f100, shading = 'auto', \n",
    "#                  transform = ccrs.PlateCarree(), vmin = 0, vmax = 1)\n",
    "p = ax.pcolormesh(lonT, latT, weighted_mean_f100, shading = 'auto', \n",
    "                 transform = ccrs.PlateCarree(), vmin = 0, vmax = 1, cmap = 'turbo')\n",
    "color_map = plt.cm.get_cmap('turbo')\n",
    "reversed_color_map = color_map.reversed()\n",
    "# p = ax.pcolormesh(lonT, latT, weighted_mean_f100, shading = 'auto', \n",
    "#                  transform = ccrs.PlateCarree(), vmin = 0, vmax = 1, cmap = reversed_color_map)\n",
    "ax.contour(lonT, latT, f100_weighted_lines, vmin = np.nanmedian(weighted_mean_f100),\n",
    "                 transform = ccrs.PlateCarree(), colors = 'white', linewidths = 1)\n",
    "ax.add_feature(land_110m)\n",
    "#ax.set_title('Weighted mean f100')\n",
    "cbar = plt.colorbar(p)\n",
    "#cbar.set_label('[%]')\n",
    "plt.show()"
   ]
  },
  {
   "cell_type": "markdown",
   "metadata": {},
   "source": [
    "# Computation of the sequestered DOC flux based on SIMPLE-TRIM data"
   ]
  },
  {
   "cell_type": "code",
   "execution_count": 28,
   "metadata": {},
   "outputs": [],
   "source": [
    "def add_matrix(A,B):\n",
    "    \"\"\"\n",
    "    Function that deals with the issue of matrix addition with NaN (np.nansum(np.nan) == 0)\n",
    "    This could potentially bias some average so it is important to be cautious when adding arrays with NaN.\n",
    "    \"\"\"\n",
    "    matrix = np.where(np.isnan(A), B, A + np.nan_to_num(B))  \n",
    "    return(matrix)"
   ]
  },
  {
   "cell_type": "code",
   "execution_count": 29,
   "metadata": {},
   "outputs": [],
   "source": [
    "def compute_FseqDOC_ST(use_Zeu, DOCl, kl, DOCsl, ksl, DOCsr, ksr, DOCr, kr, latT = latT, lonT = lonT, f100_ST = f100_ST, deltaZ = deltaZ_matrix):\n",
    "\n",
    "    FreminDOC = DOCl * kl * deltaZ # labile DOC, gC  m-2 y-1\n",
    "    FreminDOC = add_matrix(FreminDOC, DOCsl * ksl * deltaZ) # semi-labile DOC, gC m-2 y-1\n",
    "    FreminDOC = add_matrix(FreminDOC, DOCsr * ksr * deltaZ) # semi-refractory DOC, gC m-2 y-1\n",
    "    FreminDOC = add_matrix(FreminDOC, DOCr * kr * deltaZ) # refractory DOC, gC m-2 y-1\n",
    "    FseqDOC_ST = f100_ST * FreminDOC\n",
    " \n",
    "    if use_Zeu == False: # Zexp = 100\n",
    "        print('...not using Zeu...')\n",
    "        FseqDOC_ST2 = np.nansum(FseqDOC_ST[:,:,3:], axis = 2)\n",
    "        FseqDOC_ST2 = np.where(FseqDOC_ST2 == 0.0, np.nan, FseqDOC_ST2)\n",
    "        \n",
    "    else:\n",
    "        print('...using Zeu...')\n",
    "        Fseq_pixel = np.zeros(Zeu.shape)\n",
    "        Fremin_pixel = np.zeros(Zeu.shape)\n",
    "        for i, lat in enumerate(latT):\n",
    "            for j, lon in enumerate(lonT):\n",
    "                r = int(np.array(np.where(latT == lat))) # r for row\n",
    "                c = int(np.array(np.where(lonT == lon))) # c for column\n",
    "                Zeu_pixel = Zeu[r,c] # Euphotic depth for a pixel\n",
    "                index_depth = np.argmax(Zeu_pixel - depthST < 0)\n",
    "                Fseq_pixel[r,c] = np.nansum(FseqDOC_ST[r,c,index_depth:])\n",
    "                FseqDOC_ST2 = np.where(Fseq_pixel == 0.0, np.nan, Fseq_pixel) \n",
    "                \n",
    "    # in any case, Zexp = 100 m or Zexp = Zeu\n",
    "    Fseq_below_2000m = np.nansum(FseqDOC_ST[:,:,16:], axis = 2)\n",
    "    Fseq_below_2000m = np.where(Fseq_below_2000m == 0.0, np.nan, Fseq_below_2000m) \n",
    "    \n",
    "    # 1000 m\n",
    "    Fseq_below_1000m = np.nansum(FseqDOC_ST[:,:,12:], axis = 2)\n",
    "    Fseq_below_1000m = np.where(Fseq_below_1000m == 0.0, np.nan, Fseq_below_1000m) \n",
    "    \n",
    "    return(FreminDOC, FseqDOC_ST, FseqDOC_ST2, Fseq_below_2000m, Fseq_below_1000m)"
   ]
  },
  {
   "cell_type": "markdown",
   "metadata": {},
   "source": [
    "# Computation of FseqPOC using modeled carbon fluxes from SIMPLE-TRIM"
   ]
  },
  {
   "cell_type": "code",
   "execution_count": 30,
   "metadata": {},
   "outputs": [],
   "source": [
    "JreminPOC_slow = np.zeros((12,91,180,24))\n",
    "for v in range(12):\n",
    "    for i, lat in enumerate(latT):\n",
    "        for j, lon in enumerate(lonT):\n",
    "            r = int(np.array(np.where(latT == lat))) # r for row\n",
    "            c = int(np.array(np.where(lonT == lon))) \n",
    "            for k, depth in enumerate(depthST):\n",
    "                JreminPOC_slow[v,r,c,k] = (kslow[v]*(q10[v]**((temp[r,c,k]-Tref)/10)))*(o2_obs[r,c,k]/(o2_obs[r,c,k]+Ko2[v]))*POCslow[v,r,c,k]\n",
    "\n",
    "JreminPOC_fast = np.zeros((12,91,180,24))\n",
    "for v in range(12):\n",
    "    for i, lat in enumerate(latT):\n",
    "        for j, lon in enumerate(lonT):\n",
    "            r = int(np.array(np.where(latT == lat))) # r for row\n",
    "            c = int(np.array(np.where(lonT == lon))) \n",
    "            for k, depth in enumerate(depthST):\n",
    "                JreminPOC_fast[v,r,c,k] = (kfast[v]*(q10[v]**((temp[r,c,k]-Tref)/10)))*(o2_obs[r,c,k]/(o2_obs[r,c,k]+Ko2[v]))*POCfast[v,r,c,k]"
   ]
  },
  {
   "cell_type": "code",
   "execution_count": 31,
   "metadata": {},
   "outputs": [],
   "source": [
    "def compute_FseqPOC_ST(use_Zeu, version, latT = latT, lonT = lonT, f100_ST = f100_ST, Fsedim = Fsedim, depthST = depthST, JreminPOC_slow = JreminPOC_slow, JreminPOC_fast = JreminPOC_fast, deltaZ = deltaZ_matrix):\n",
    "    \n",
    "    FreminPOC_slow = JreminPOC_slow[version,:,:,:] * deltaZ # gC m-2 y-1\n",
    "    FreminPOC_fast = JreminPOC_fast[version,:,:,:] * deltaZ # gC m-2 y-1\n",
    "    FreminPOC = add_matrix(FreminPOC_slow, FreminPOC_fast) # gC m-2 y-1\n",
    "    FseqPOC_ST = FreminPOC * f100_ST # gC m-2 y-1 \n",
    "    \n",
    "    # remove sediment flux from FseqPOC(water)\n",
    "    for i, lat in enumerate(latT):\n",
    "        for j, lon in enumerate(lonT):\n",
    "            r = int(np.array(np.where(latT == lat))) # r for row\n",
    "            c = int(np.array(np.where(lonT == lon))) # c for column\n",
    "            index_last_depth = np.where(np.isnan(FseqPOC_ST[r,c,:]))[0][0]-1\n",
    "            Fsed_pixel = Fsedim[r,c]\n",
    "            FseqPOC_ST[r,c,index_last_depth] = ((FseqPOC_ST[r,c,index_last_depth]/f100_ST[r,c,index_last_depth]) - Fsed_pixel) * f100_ST[r,c,index_last_depth]\n",
    "    \n",
    "    if use_Zeu == False: # Zexp = 100\n",
    "        print('...not using Zeu...')\n",
    "        FseqPOC_ST2 = np.nansum(FseqPOC_ST[:,:,3:], axis = 2)\n",
    "        FseqPOC_ST2 = np.where(FseqPOC_ST2 == 0.0, np.nan, FseqPOC_ST2)\n",
    "        \n",
    "    else:\n",
    "        print('...using Zeu...')\n",
    "        Fseq_pixel = np.zeros(Zeu.shape)\n",
    "        Fremin_pixel = np.zeros(Zeu.shape)\n",
    "        for i, lat in enumerate(latT):\n",
    "            for j, lon in enumerate(lonT):\n",
    "                r = int(np.array(np.where(latT == lat))) # r for row\n",
    "                c = int(np.array(np.where(lonT == lon))) # c for column\n",
    "                Zeu_pixel = Zeu[r,c] # Euphotic depth for a pixel\n",
    "                index_depth = np.argmax(Zeu_pixel - depthST < 0)\n",
    "                Fseq_pixel[r,c] = np.nansum(FseqPOC_ST[r,c,index_depth:])\n",
    "                FseqPOC_ST2 = np.where(Fseq_pixel == 0.0, np.nan, Fseq_pixel) \n",
    "    \n",
    "    # in any case, Zexp = 100 m or Zexp = Zeu\n",
    "    Fseq_below_2000m = np.nansum(FseqPOC_ST[:,:,16:], axis = 2)\n",
    "    Fseq_below_2000m = np.where(Fseq_below_2000m == 0.0, np.nan, Fseq_below_2000m) \n",
    "    \n",
    "    # Fseq below 1000 m\n",
    "    Fseq_below_1000m = np.nansum(FseqPOC_ST[:,:,12:], axis = 2)\n",
    "    Fseq_below_1000m = np.where(Fseq_below_1000m == 0.0, np.nan, Fseq_below_1000m) \n",
    "    \n",
    "    return(FreminPOC, FseqPOC_ST, FseqPOC_ST2, Fseq_below_2000m, Fseq_below_1000m)"
   ]
  },
  {
   "cell_type": "code",
   "execution_count": 32,
   "metadata": {},
   "outputs": [
    {
     "name": "stdout",
     "output_type": "stream",
     "text": [
      "...not using Zeu...\n"
     ]
    },
    {
     "name": "stderr",
     "output_type": "stream",
     "text": [
      "<ipython-input-31-064fcdef8fa6>:15: RuntimeWarning: invalid value encountered in double_scalars\n",
      "  FseqPOC_ST[r,c,index_last_depth] = ((FseqPOC_ST[r,c,index_last_depth]/f100_ST[r,c,index_last_depth]) - Fsed_pixel) * f100_ST[r,c,index_last_depth]\n"
     ]
    },
    {
     "data": {
      "text/plain": [
       "1.8891221232956976"
      ]
     },
     "execution_count": 32,
     "metadata": {},
     "output_type": "execute_result"
    }
   ],
   "source": [
    "# test\n",
    "i = 0\n",
    "a,b,c,d,e = compute_FseqPOC_ST(False, i)\n",
    "compute_flux_total(c, pixelArea)\n",
    "#compute_flux_total(d, pixelArea)"
   ]
  },
  {
   "cell_type": "markdown",
   "metadata": {},
   "source": [
    "# Computation of FseqMigr"
   ]
  },
  {
   "cell_type": "markdown",
   "metadata": {},
   "source": [
    "# Daily"
   ]
  },
  {
   "cell_type": "code",
   "execution_count": 33,
   "metadata": {},
   "outputs": [],
   "source": [
    "# compute North Atlantic Mask /!\\ TO BE IMPROVED (with more precise coordinates)\n",
    "mask_index = []\n",
    "maskNorthAtl = np.zeros(FexpH.shape)\n",
    "\n",
    "lat_Jonasdottir = np.argwhere((latT >= 55) & (latT <= 70)) \n",
    "lon_Jonasdottir = np.argwhere((lonT >= -60) & (lonT <= 10))\n",
    "\n",
    "for i in lat_Jonasdottir:\n",
    "    for j in lon_Jonasdottir:\n",
    "        tmp = (int(i),int(j))\n",
    "        mask_index.append(tmp)\n",
    "        \n",
    "# compute mask\n",
    "for coord in mask_index:\n",
    "    maskNorthAtl[coord] = 1.0\n",
    "\n",
    "maskNorthAtl = np.where(maskNorthAtl != 1.0, np.nan, maskNorthAtl)"
   ]
  },
  {
   "cell_type": "code",
   "execution_count": 34,
   "metadata": {},
   "outputs": [],
   "source": [
    "def compute_FmigrD(Fexp_matrix, f100 = f100):\n",
    "    # daily migration\n",
    "    FreminMigrD = 0.25 * Fexp_matrix\n",
    "    FseqMigrD = FreminMigrD * f100[:,:,15]\n",
    "    \n",
    "    return(FreminMigrD, FseqMigrD)"
   ]
  },
  {
   "cell_type": "markdown",
   "metadata": {},
   "source": [
    "# Seasonally "
   ]
  },
  {
   "cell_type": "code",
   "execution_count": 35,
   "metadata": {},
   "outputs": [],
   "source": [
    "def compute_FluxC(z, b, Fexp, Zexp):\n",
    "    Flux = Fexp * (z/Zexp)**b \n",
    "    return(Flux)"
   ]
  },
  {
   "cell_type": "code",
   "execution_count": 36,
   "metadata": {},
   "outputs": [],
   "source": [
    "def compute_Fseq_migr_seasonal(b_matrix, Fexp_matrix, Zexp_matrix, POCflux, use_ST = False, latT = latT, lonT = lonT, mask = maskNorthAtl, zmax = zmax, depthT = depthT, f100 = f100):\n",
    "    \n",
    "    Flux_migr_season = np.zeros(Fexp_matrix.shape)\n",
    "    \n",
    "    for i, lat in enumerate(latT):\n",
    "        for j, lon in enumerate(lonT):\n",
    "            r = int(np.array(np.where(latT == lat))) # r for row\n",
    "            c = int(np.array(np.where(lonT == lon))) # c for column\n",
    "            zmax_pixel = zmax[r,c] # deepest depth of that pixel before reaching the sediment\n",
    "            b = b_matrix[r,c] # for the paper, we'll only use this. Maybe Lionel's or Henson's for supp. material\n",
    "            Fexp = Fexp_matrix[r,c]\n",
    "            Zexp = Zexp_matrix[r,c]\n",
    "            depth = depthT[20]\n",
    "            if np.isnan(zmax_pixel): # land pixel\n",
    "                Flux_migr_season[r,c] = np.nan\n",
    "            elif depth >= zmax_pixel: # shallow pixel for seasonal migration flux\n",
    "                Flux_migr_season[r,c] = np.nan\n",
    "            else:\n",
    "                if use_ST == False:\n",
    "                    Flux_z = compute_FluxC(depth, b, Fexp, Zexp)\n",
    "                    Flux_migr_season[r,c] = Flux_z\n",
    "                else:\n",
    "                    Flux_z = POCflux[r,c,9] # 619m\n",
    "                    Flux_migr_season[r,c] = Flux_z\n",
    "        \n",
    "    Fremin = 0.5 * Flux_migr_season * mask\n",
    "    Fseq = Fremin * f100[:,:,20]\n",
    "    \n",
    "    return(Fremin, Fseq)"
   ]
  },
  {
   "cell_type": "markdown",
   "metadata": {},
   "source": [
    "# Compute FexpDOC based on ST DOC fluxes"
   ]
  },
  {
   "cell_type": "code",
   "execution_count": 37,
   "metadata": {},
   "outputs": [],
   "source": [
    "def compute_FexpDOC(DOCl, DOCsl, DOCsr, DOCr, FexpT, depthST = depthST, FexpH = FexpH, deltaZ = deltaZ_matrix, pixelArea = pixelArea):\n",
    "    \n",
    "    FluxDOC = DOCl  # first, the labile DOC\n",
    "    FluxDOC = add_matrix(FluxDOC, DOCsl) # add semi-labile DOC\n",
    "    FluxDOC = add_matrix(FluxDOC, DOCsr) # add semi-refractory DOC\n",
    "    FluxDOC = add_matrix(FluxDOC, DOCr) # add refractory DOC\n",
    "    \n",
    "    # Fexp(S-T, Zexp = 100m) # technically we are at 115m\n",
    "    for i, lat in enumerate(latT):\n",
    "        for j, lon in enumerate(lonT):\n",
    "            r = int(np.array(np.where(latT == lat))) # r for row\n",
    "            c = int(np.array(np.where(lonT == lon)))\n",
    "            FexpDOC_ST = FluxDOC[r,c,4] * deltaZ[r,c,4] \n",
    "    \n",
    "    # FexpDOC_Henson\n",
    "    ratio_export_global = compute_flux_total(FexpH, pixelArea)/compute_flux_total(FexpT, pixelArea)\n",
    "\n",
    "    FexpDOC_H = FexpDOC_ST * ratio_export_global\n",
    "    \n",
    "    return(FexpDOC_H, FexpDOC_ST)"
   ]
  },
  {
   "cell_type": "markdown",
   "metadata": {},
   "source": [
    "# OLD WAY TO COMPUTE FseqDOC"
   ]
  },
  {
   "cell_type": "code",
   "execution_count": 38,
   "metadata": {},
   "outputs": [],
   "source": [
    "def compute_FseqDOC_v1(Fexp, f100_matrix):\n",
    "#def compute_FseqDOC_pixel(coarser_export, pc_co2, f100_surface_layer):\n",
    "    \n",
    "    FreminDOC = 0.25 * Fexp\n",
    "    FseqDOC = FreminDOC * f100_matrix[:,:,19]\n",
    "    \n",
    "    return(FseqDOC)"
   ]
  },
  {
   "cell_type": "markdown",
   "metadata": {},
   "source": [
    "# RESULTS"
   ]
  },
  {
   "cell_type": "code",
   "execution_count": 39,
   "metadata": {},
   "outputs": [],
   "source": [
    "def printResult(FseqPOC, FseqDOC, FseqMigrD, FseqMigrS, FseqSedim, pixel_areas, mask):\n",
    "    \n",
    "    print('Global Fseq(POC):', np.round(compute_flux_total(FseqPOC*mask, pixel_areas),2), ' GtC/year'),\n",
    "    print('Global Fseq(DOC):', np.round(compute_flux_total(FseqDOC*mask, pixel_areas),2), ' GtC/year')\n",
    "    print('Global Fseq(Migr Diel):', np.round(compute_flux_total(FseqMigrD*mask, pixel_areas),2), ' GtC/year')\n",
    "    print('Global Fseq(Migr Season):', np.round(compute_flux_total(FseqMigrS*mask, pixel_areas),3), ' GtC/year')\n",
    "    print('Global Fseq(Sediment):', np.round(compute_flux_total(FseqSedim*mask, pixel_areas),2), ' GtC/year')\n",
    "    print('Global BCPs:', np.sum(np.array([np.round(compute_flux_total(FseqPOC*mask, pixel_areas),2),\n",
    "                                np.round(compute_flux_total(FseqDOC*mask, pixel_areas),2),\n",
    "                                np.round(compute_flux_total(FseqMigrD*mask, pixel_areas),2),\n",
    "                                np.round(compute_flux_total(FseqMigrS*mask, pixel_areas),2)])), 'GtC/year')"
   ]
  },
  {
   "cell_type": "code",
   "execution_count": 40,
   "metadata": {},
   "outputs": [],
   "source": [
    "def printResult_mean_median(FseqPOC, FseqDOC, FseqMigrD, FseqMigrS, FseqSedim, pixel_areas, mask):\n",
    "    \n",
    "    totalBCP = add_matrix(FseqPOC, FseqDOC)\n",
    "    totalBCP = add_matrix(totalBCP, FseqMigrD)\n",
    "    totalBCP = add_matrix(totalBCP, FseqMigrS)\n",
    "    \n",
    "    print('MEDIAN VALUES')\n",
    "    print('Median Fseq(POC):', np.round(np.nanmedian(FseqPOC*mask),2), ' gC/m2/year'),\n",
    "    print('Median Fseq(DOC):', np.round(np.nanmedian(FseqDOC*mask),2), ' gC/m2/year')\n",
    "    print('Median Fseq(Migr Diel):', np.round(np.nanmedian(FseqMigrD*mask),2), ' gC/m2/year')\n",
    "    print('Median Fseq(Migr Season):', np.round(np.nanmedian(FseqMigrS*mask),2), ' gC/m2/year')\n",
    "    print('Median BCPs:', np.round(np.nanmedian(totalBCP*mask),2), 'gC/m2/year')\n",
    "    print('Median Fseq(Sediment)', np.round(np.nanmedian(FseqSedim*mask),2), 'gC/m2/year')\n",
    "    print('\\nMEAN VALUES')\n",
    "    print('Mean Fseq(POC):', np.round(np.nanmean(FseqPOC*mask),2), ' gC/m2/year'),\n",
    "    print('Mean Fseq(DOC):', np.round(np.nanmean(FseqDOC*mask),2), ' gC/m2/year')\n",
    "    print('Mean Fseq(Migr Diel):', np.round(np.nanmean(FseqMigrD*mask),2), ' gC/m2/year')\n",
    "    print('Mean Fseq(Migr Season):', np.round(np.nanmean(FseqMigrS*mask),2), ' gC/m2/year')\n",
    "    print('Mean BCPs:', np.round(np.nanmean(totalBCP*mask),2), 'gC/m2/year')\n",
    "    print('Mean Fseq(Sediment)', np.round(np.nanmean(FseqSedim*mask),2), 'gC/m2/year')\n",
    "    \n",
    "    return(totalBCP)"
   ]
  },
  {
   "cell_type": "code",
   "execution_count": 41,
   "metadata": {},
   "outputs": [],
   "source": [
    "def printResult_ratio_reference(FseqPOC, FseqDOC, FseqMigrD, FseqMigrS, pixel_areas, mask, FexpReference, use_ST = False, Fsedim = Fsedim):\n",
    "    \n",
    "    if use_ST == False:\n",
    "        reference = compute_flux_total(FexpReference*mask, pixel_areas)\n",
    "    else:\n",
    "        reference = compute_flux_total_mean(FexpReference*mask, pixel_areas) # WE WILL USE THE MASK ALSO FOR HENSON # no mask because FexpH ~ 4GtC/year and it's a kind of reference (if we use the mask, we would have ~3.3-3.4 PgC y-1)\n",
    "    \n",
    "    print('Global Fexp:', np.round(reference, 2), 'GtC/year')\n",
    "    print('Global F*seq(POC):', np.round(compute_flux_total(FseqPOC*mask, pixel_areas)/reference,2))\n",
    "    print('Global F*seqBCPs:', np.round(np.sum(np.array([compute_flux_total(FseqPOC*mask, pixel_areas),\n",
    "                                compute_flux_total(FseqDOC*mask, pixel_areas),\n",
    "                                compute_flux_total(FseqMigrD*mask, pixel_areas),\n",
    "                                compute_flux_total(FseqMigrS*mask, pixel_areas)]))/reference,2))\n",
    "    print('Global F*seq(sedim):', np.round(compute_flux_total(Fsedim*mask, pixel_areas)/reference,3))"
   ]
  },
  {
   "cell_type": "code",
   "execution_count": 42,
   "metadata": {},
   "outputs": [],
   "source": [
    "def compute_pixel_area(pixel_area, data, mask):\n",
    "    map_data = data*mask # masked data with mask of > 100m \n",
    "    total_pixel_number = map_data.shape[0]*map_data.shape[1] # total number of pixels (resolution in fine)\n",
    "    pixel_defined = ~np.isnan(map_data)\n",
    "    number_pixel_defined = np.sum(~np.isnan(map_data))\n",
    "    covered_area = np.sum(pixelArea[pixel_defined])/1e12 # km2\n",
    "    \n",
    "    return(number_pixel_defined, covered_area)"
   ]
  },
  {
   "cell_type": "code",
   "execution_count": 43,
   "metadata": {},
   "outputs": [],
   "source": [
    "def compute_pixel_area_version(FseqPOC, FseqDOC, FseqMigrD, FseqMigrS, FseqBCPs, FseqPOC2000, FseqSedim, pixelArea, mask):\n",
    "    print('FseqPOC pixel + area:', compute_pixel_area(pixelArea, FseqPOC, mask))\n",
    "    print('FseqDOC pixel + area:', compute_pixel_area(pixelArea, FseqDOC, mask))\n",
    "    print('FseqMigrD pixel + area:', compute_pixel_area(pixelArea, FseqMigrD, mask))\n",
    "    print('FseqMigrS pixel + area:', compute_pixel_area(pixelArea, FseqMigrS, mask))\n",
    "    print('FseqBCPs pixel + area:', compute_pixel_area(pixelArea, FseqBCPs, mask))\n",
    "    print('Fseq2000m pixel + area:', compute_pixel_area(pixelArea, FseqPOC2000, mask))\n",
    "    print('FseqSedim pixel + area:', compute_pixel_area(pixelArea, FseqSedim, mask))"
   ]
  },
  {
   "cell_type": "code",
   "execution_count": 44,
   "metadata": {},
   "outputs": [],
   "source": [
    "def compute_min_max_median_FreminMigrS(FreminMigrS):\n",
    "    min_val = np.nanmin(FreminMigrS)\n",
    "    max_val = np.nanmax(FreminMigrS)\n",
    "    median_val = np.nanmedian(FreminMigrS)\n",
    "    return(min_val, max_val, median_val)"
   ]
  },
  {
   "cell_type": "markdown",
   "metadata": {},
   "source": [
    "# CONVERSE VERSION 7 (C7)\n",
    "\n",
    "## with Fexp = Fexp from Henson and Zexp = 100 m"
   ]
  },
  {
   "cell_type": "code",
   "execution_count": 45,
   "metadata": {},
   "outputs": [
    {
     "name": "stderr",
     "output_type": "stream",
     "text": [
      "<ipython-input-45-c7faf0d2a55f>:32: RuntimeWarning: Mean of empty slice\n",
      "  FreminMigrS_H_100m = np.nanmean(FreminMigrS_H_100m, axis = 0)\n",
      "<ipython-input-45-c7faf0d2a55f>:33: RuntimeWarning: Mean of empty slice\n",
      "  FseqMigrS_H_100m = np.nanmean(FseqMigrS_H_100m, axis = 0)\n",
      "<ipython-input-45-c7faf0d2a55f>:41: RuntimeWarning: Mean of empty slice\n",
      "  FexpDOC_H_100m = np.nanmean(FexpDOC_H_100m, axis = 0)\n",
      "<ipython-input-45-c7faf0d2a55f>:47: RuntimeWarning: Mean of empty slice\n",
      "  FseqPOC2000m_martin = np.nanmean(FseqPOC2000m_martin, axis = 0)\n",
      "<ipython-input-45-c7faf0d2a55f>:53: RuntimeWarning: Mean of empty slice\n",
      "  FseqPOC1000m_martin = np.nanmean(FseqPOC1000m_martin, axis = 0)\n"
     ]
    }
   ],
   "source": [
    "# POC below Zexp (Top)\n",
    "FreminPOC_H_water_100m, FseqPOC_H_water_100m, FseqDeep_H_100m, FseqDeepestOrg_C7 = compute_sequestration_in_water(zmax, depthT, b_martin, f100, FexpH, ZexpH)\n",
    "#FseqDeep_C7 = FseqDeep_H_100m # for later comparison between sequestration in the deepest water layer and in the sediment\n",
    "FseqDeep_H_100m = FseqDeep_H_100m[:,:,np.newaxis] \n",
    "FseqPOC_H_100m = np.nansum(np.concatenate((FseqPOC_H_water_100m[:,:,8:], FseqDeep_H_100m), axis = 2), axis = 2)\n",
    "FseqPOC_H_100m = np.where(FseqPOC_H_100m == 0.0, np.nan, FseqPOC_H_100m)\n",
    "\n",
    "# POC below 2000 m\n",
    "FseqPOC_H_below_2000m = np.concatenate((FseqPOC_H_water_100m, FseqDeep_H_100m), axis = 2)\n",
    "FseqPOC_H_below_2000m = np.nansum(FseqPOC_H_below_2000m[:,:,33:], axis = 2) * mask_2000m\n",
    "FseqPOC_H_below_2000m = np.where(FseqPOC_H_below_2000m == 0.0, np.nan, FseqPOC_H_below_2000m)\n",
    "\n",
    "# POC below 1000 m\n",
    "FseqPOC_H_below_1000m = np.concatenate((FseqPOC_H_water_100m, FseqDeep_H_100m), axis = 2)\n",
    "FseqPOC_H_below_1000m = np.nansum(FseqPOC_H_below_1000m[:,:,25:], axis = 2) * mask_1000m\n",
    "FseqPOC_H_below_1000m = np.where(FseqPOC_H_below_1000m == 0.0, np.nan, FseqPOC_H_below_1000m)\n",
    "\n",
    "# compute_flux_total(FseqPOC_H_below_2000m*mask, pixelArea)\n",
    "\n",
    "# DOC below Top - v1\n",
    "FseqDOC_H_100m = compute_FseqDOC_v1(FexpH, f100) # old version for table S2\n",
    "\n",
    "# Migration Daily\n",
    "FreminMigrD_H_100m, FseqMigrD_H_100m = compute_FmigrD(FexpH)\n",
    "\n",
    "# Migration Seasonally\n",
    "FreminMigrS_H_100m = np.zeros((12,91,180))\n",
    "FseqMigrS_H_100m = np.zeros((12,91,180))\n",
    "for i in range(12):\n",
    "    FreminMigrS_H_100m[i,:,:], FseqMigrS_H_100m[i,:,:] = compute_Fseq_migr_seasonal(b_martin, FexpH, ZexpH, POCflux[i,:,:,:], False)\n",
    "# average\n",
    "FreminMigrS_H_100m = np.nanmean(FreminMigrS_H_100m, axis = 0)\n",
    "FseqMigrS_H_100m = np.nanmean(FseqMigrS_H_100m, axis = 0)\n",
    "\n",
    "# compute FexpDOC\n",
    "FexpDOC_H_100m = np.zeros((12,91,180))\n",
    "FexpDOC_ST_100m = np.zeros((12,91,180))\n",
    "for i in range(12):\n",
    "    FexpDOC_H_100m[i,:,:], FexpDOC_ST_100m[i,:,:] = compute_FexpDOC(DOCl[i,:,:,:], DOCsl[i,:,:,:], DOCsr[i,:,:,:], DOCr[i,:,:,:], FexpT[i,:,:])\n",
    "# average\n",
    "FexpDOC_H_100m = np.nanmean(FexpDOC_H_100m, axis = 0)\n",
    "\n",
    "# Fseq(2000m)\n",
    "FseqPOC2000m_martin = np.zeros((12,91,180))\n",
    "for i in range(12):\n",
    "    FseqPOC2000m_martin[i,:,:] = compute_FseqPOC_2000m(b_martin, FexpH, ZexpH, POCflux[i,:,:,:])\n",
    "FseqPOC2000m_martin = np.nanmean(FseqPOC2000m_martin, axis = 0)\n",
    "\n",
    "# Fseq(1000m)\n",
    "FseqPOC1000m_martin = np.zeros((12,91,180))\n",
    "for i in range(12):\n",
    "    FseqPOC1000m_martin[i,:,:] = compute_FseqPOC_1000m(b_martin, FexpH, ZexpH, POCflux[i,:,:,:])\n",
    "FseqPOC1000m_martin = np.nanmean(FseqPOC1000m_martin, axis = 0)\n",
    "\n",
    "# save data for plot\n",
    "FseqPOC_H_100m_C7 = FseqPOC_H_100m\n",
    "FseqDOC_H_100m_C7 = FseqDOC_H_100m\n",
    "FseqMigrD_H_100m_C7 = FseqMigrD_H_100m\n",
    "FseqMigrS_H_100m_C7 = FseqMigrS_H_100m"
   ]
  },
  {
   "cell_type": "code",
   "execution_count": 46,
   "metadata": {},
   "outputs": [
    {
     "name": "stdout",
     "output_type": "stream",
     "text": [
      "Global Fseq(POC): 0.63  GtC/year\n",
      "Global Fseq(DOC): 0.22  GtC/year\n",
      "Global Fseq(Migr Diel): 0.11  GtC/year\n",
      "Global Fseq(Migr Season): 0.004  GtC/year\n",
      "Global Fseq(Sediment): 0.03  GtC/year\n",
      "Global BCPs: 0.96 GtC/year\n",
      "\n",
      "Global Fexp: 3.01 GtC/year\n",
      "Global F*seq(POC): 0.21\n",
      "Global F*seqBCPs: 0.32\n",
      "Global F*seq(sedim): 0.008\n",
      "\n",
      "MEDIAN VALUES\n",
      "Median Fseq(POC): 1.53  gC/m2/year\n",
      "Median Fseq(DOC): 0.49  gC/m2/year\n",
      "Median Fseq(Migr Diel): 0.21  gC/m2/year\n",
      "Median Fseq(Migr Season): 1.02  gC/m2/year\n",
      "Median BCPs: 2.25 gC/m2/year\n",
      "Median Fseq(Sediment) 0.05 gC/m2/year\n",
      "\n",
      "MEAN VALUES\n",
      "Mean Fseq(POC): 1.99  gC/m2/year\n",
      "Mean Fseq(DOC): 0.68  gC/m2/year\n",
      "Mean Fseq(Migr Diel): 0.37  gC/m2/year\n",
      "Mean Fseq(Migr Season): 0.93  gC/m2/year\n",
      "Mean BCPs: 3.02 gC/m2/year\n",
      "Mean Fseq(Sediment) 0.08 gC/m2/year\n",
      "\n",
      "Sequestration flux at 2000 m: 0.19\n",
      "\n",
      "Sequestration flux at 1000 m: 0.38\n",
      "\n",
      "F*seq(2000): 0.06\n",
      "FseqPOC(>2000m) 0.15\n",
      "F*seqPOC(>2000m) 0.05\n",
      "\n",
      "F*seq(1000): 0.13\n",
      "FseqPOC(>1000m) 0.31\n",
      "F*seqPOC(>1000m) 0.1\n",
      "\n",
      "Values min/max/median for FreminMigrS:\n",
      "Min:  0.69\n",
      "Max:  3.67\n",
      "Median:  1.97\n"
     ]
    }
   ],
   "source": [
    "# print results\n",
    "printResult(FseqPOC_H_100m, FseqDOC_H_100m, FseqMigrD_H_100m, FseqMigrS_H_100m, Fsedim, pixelArea, mask) # note : Fsedim = FseqSdim cause 100% is then sequestered in the sediment\n",
    "print('')\n",
    "# with ratio reference\n",
    "printResult_ratio_reference(FseqPOC_H_100m, FseqDOC_H_100m, FseqMigrD_H_100m, FseqMigrS_H_100m, pixelArea, mask, FexpH)\n",
    "print('')\n",
    "FseqBCPs_H_100m = printResult_mean_median(FseqPOC_H_100m, FseqDOC_H_100m, FseqMigrD_H_100m, FseqMigrS_H_100m, Fsedim, pixelArea, mask)\n",
    "FseqBCPs_H_100m_C7 = FseqBCPs_H_100m\n",
    "print('\\nSequestration flux at 2000 m:', np.round(compute_flux_total(FseqPOC2000m_martin*mask, pixelArea), 2))\n",
    "print('\\nSequestration flux at 1000 m:', np.round(compute_flux_total(FseqPOC1000m_martin*mask, pixelArea), 2))\n",
    "ref = compute_flux_total(FexpH*mask, pixelArea)\n",
    "\n",
    "## 2000 m\n",
    "print('\\nF*seq(2000):', np.round(compute_flux_total(FseqPOC2000m_martin*mask, pixelArea)/ref, 2))\n",
    "print('FseqPOC(>2000m)', np.round(compute_flux_total(FseqPOC_H_below_2000m*mask, pixelArea), 2))\n",
    "print('F*seqPOC(>2000m)', np.round(compute_flux_total(FseqPOC_H_below_2000m*mask, pixelArea)/ref, 2))\n",
    "\n",
    "## 1000 m\n",
    "print('\\nF*seq(1000):', np.round(compute_flux_total(FseqPOC1000m_martin*mask, pixelArea)/ref, 2))\n",
    "print('FseqPOC(>1000m)', np.round(compute_flux_total(FseqPOC_H_below_1000m*mask, pixelArea), 2))\n",
    "print('F*seqPOC(>1000m)', np.round(compute_flux_total(FseqPOC_H_below_1000m*mask, pixelArea)/ref, 2))\n",
    "\n",
    "min_valMigrS, max_valMigrS, median_valMigrS = compute_min_max_median_FreminMigrS(FreminMigrS_H_100m)\n",
    "print('\\nValues min/max/median for FreminMigrS:')\n",
    "print('Min: ', np.round(min_valMigrS, 2))\n",
    "print('Max: ', np.round(max_valMigrS, 2))\n",
    "print('Median: ', np.round(median_valMigrS, 2))"
   ]
  },
  {
   "cell_type": "code",
   "execution_count": 47,
   "metadata": {},
   "outputs": [
    {
     "name": "stdout",
     "output_type": "stream",
     "text": [
      "FseqPOC pixel + area: (9202, 343.02957342925237)\n",
      "FseqDOC pixel + area: (8931, 336.8577215110956)\n",
      "FseqMigrD pixel + area: (9072, 340.1940115804165)\n",
      "FseqMigrS pixel + area: (205, 4.696420385705691)\n",
      "FseqBCPs pixel + area: (9208, 343.124110162332)\n",
      "Fseq2000m pixel + area: (7952, 308.33030463063744)\n",
      "FseqSedim pixel + area: (10339, 353.172816305548)\n"
     ]
    }
   ],
   "source": [
    "compute_pixel_area_version(FseqPOC_H_100m, FseqDOC_H_100m, FseqMigrD_H_100m, FseqMigrS_H_100m, FseqBCPs_H_100m, FseqPOC2000m_martin, Fsedim, pixelArea, mask)"
   ]
  },
  {
   "cell_type": "markdown",
   "metadata": {},
   "source": [
    "# CONVERSE VERSION 5 (C5)\n",
    "\n",
    "## with Fexp= FexpTim (i.e. SIMPLE_TRIM) and Zexp = 100 m"
   ]
  },
  {
   "cell_type": "code",
   "execution_count": 48,
   "metadata": {},
   "outputs": [
    {
     "name": "stderr",
     "output_type": "stream",
     "text": [
      "<ipython-input-31-064fcdef8fa6>:15: RuntimeWarning: invalid value encountered in double_scalars\n",
      "  FseqPOC_ST[r,c,index_last_depth] = ((FseqPOC_ST[r,c,index_last_depth]/f100_ST[r,c,index_last_depth]) - Fsed_pixel) * f100_ST[r,c,index_last_depth]\n"
     ]
    },
    {
     "name": "stdout",
     "output_type": "stream",
     "text": [
      "...not using Zeu...\n",
      "...not using Zeu...\n",
      "...not using Zeu...\n",
      "...not using Zeu...\n",
      "...not using Zeu...\n",
      "...not using Zeu...\n",
      "...not using Zeu...\n",
      "...not using Zeu...\n",
      "...not using Zeu...\n",
      "...not using Zeu...\n",
      "...not using Zeu...\n",
      "...not using Zeu...\n"
     ]
    },
    {
     "name": "stderr",
     "output_type": "stream",
     "text": [
      "<ipython-input-48-3e1934dbf791>:9: RuntimeWarning: Mean of empty slice\n",
      "  FseqPOC_ST_100m = np.nanmean(FseqPOC_ST_100m, axis = 0)\n",
      "<ipython-input-48-3e1934dbf791>:10: RuntimeWarning: Mean of empty slice\n",
      "  FseqPOC_ST_below_2000m = np.nanmean(FseqPOC_ST_below_2000m, axis = 0)\n",
      "<ipython-input-48-3e1934dbf791>:11: RuntimeWarning: Mean of empty slice\n",
      "  FseqPOC_ST_below_1000m = np.nanmean(FseqPOC_ST_below_1000m, axis = 0)\n"
     ]
    },
    {
     "name": "stdout",
     "output_type": "stream",
     "text": [
      "...not using Zeu...\n",
      "...not using Zeu...\n",
      "...not using Zeu...\n",
      "...not using Zeu...\n",
      "...not using Zeu...\n",
      "...not using Zeu...\n",
      "...not using Zeu...\n",
      "...not using Zeu...\n",
      "...not using Zeu...\n",
      "...not using Zeu...\n",
      "...not using Zeu...\n",
      "...not using Zeu...\n"
     ]
    },
    {
     "name": "stderr",
     "output_type": "stream",
     "text": [
      "<ipython-input-48-3e1934dbf791>:21: RuntimeWarning: Mean of empty slice\n",
      "  FseqDOC_ST_100m = np.nanmean(FseqDOC_ST_100m, axis = 0)\n",
      "<ipython-input-48-3e1934dbf791>:22: RuntimeWarning: Mean of empty slice\n",
      "  FseqDOC_ST_below_2000m = np.nanmean(FseqDOC_ST_below_2000m, axis = 0)\n",
      "<ipython-input-48-3e1934dbf791>:23: RuntimeWarning: Mean of empty slice\n",
      "  FseqDOC_ST_below_1000m = np.nanmean(FseqDOC_ST_below_1000m, axis = 0)\n",
      "<ipython-input-48-3e1934dbf791>:30: RuntimeWarning: Mean of empty slice\n",
      "  FreminMigrD_ST_100m = np.nanmean(FreminMigrD_ST_100m, axis = 0)\n",
      "<ipython-input-48-3e1934dbf791>:31: RuntimeWarning: Mean of empty slice\n",
      "  FseqMigrD_ST_100m = np.nanmean(FseqMigrD_ST_100m, axis = 0)\n",
      "<ipython-input-48-3e1934dbf791>:38: RuntimeWarning: Mean of empty slice\n",
      "  FreminMigrS_ST_100m = np.nanmean(FreminMigrS_ST_100m, axis = 0)\n",
      "<ipython-input-48-3e1934dbf791>:39: RuntimeWarning: Mean of empty slice\n",
      "  FseqMigrS_ST_100m = np.nanmean(FseqMigrS_ST_100m, axis = 0)\n",
      "<ipython-input-48-3e1934dbf791>:45: RuntimeWarning: Mean of empty slice\n",
      "  FseqPOC2000m_ST = np.nanmean(FseqPOC2000m_ST, axis = 0)\n",
      "<ipython-input-48-3e1934dbf791>:51: RuntimeWarning: Mean of empty slice\n",
      "  FseqPOC1000m_ST = np.nanmean(FseqPOC1000m_ST, axis = 0)\n",
      "<ipython-input-48-3e1934dbf791>:61: RuntimeWarning: invalid value encountered in double_scalars\n",
      "  FseqDeepestOrg_C5[r,c] = ((np.mean(FseqPOC_ST_100m_full_matrix[:,r,c,index_last_depth]))/f100_ST[r,c,index_last_depth]+Fsedim[r,c])#*f100_ST[r,c,index_last_depth]\n"
     ]
    }
   ],
   "source": [
    "# POC below Zexp (Top)\n",
    "FreminPOC_ST_100m_full_matrix = np.zeros((12,91,180,24))\n",
    "FseqPOC_ST_100m_full_matrix = np.zeros((12,91,180,24))\n",
    "FseqPOC_ST_100m = np.zeros((12,91,180))\n",
    "FseqPOC_ST_below_2000m = np.zeros((12,91,180))\n",
    "FseqPOC_ST_below_1000m = np.zeros((12,91,180))\n",
    "for i in range(12):\n",
    "    FreminPOC_ST_100m_full_matrix[i,:,:,:], FseqPOC_ST_100m_full_matrix[i,:,:,:], FseqPOC_ST_100m[i,:,:], FseqPOC_ST_below_2000m[i,:,:], FseqPOC_ST_below_1000m[i,:,:] = compute_FseqPOC_ST(False, i)\n",
    "FseqPOC_ST_100m = np.nanmean(FseqPOC_ST_100m, axis = 0)\n",
    "FseqPOC_ST_below_2000m = np.nanmean(FseqPOC_ST_below_2000m, axis = 0)\n",
    "FseqPOC_ST_below_1000m = np.nanmean(FseqPOC_ST_below_1000m, axis = 0)\n",
    "\n",
    "# DOC\n",
    "FreminDOC_ST_100m_full_matrix = np.zeros((12,91,180,24))\n",
    "FseqDOC_ST_100m_full_matrix = np.zeros((12,91,180,24))\n",
    "FseqDOC_ST_100m = np.zeros((12,91,180))\n",
    "FseqDOC_ST_below_2000m = np.zeros((12,91,180))\n",
    "FseqDOC_ST_below_1000m = np.zeros((12,91,180))\n",
    "for i in range(12):\n",
    "    FreminDOC_ST_100m_full_matrix[i,:,:,:], FseqDOC_ST_100m_full_matrix[i,:,:,:], FseqDOC_ST_100m[i,:,:], FseqDOC_ST_below_2000m[i,:,:], FseqDOC_ST_below_1000m[i,:,:] = compute_FseqDOC_ST(False, DOCl[i,:,:,:], kl[i], DOCsl[i,:,:,:], ksl[i], DOCsr[i,:,:,:], ksr[i], DOCr[i,:,:,:], kr[i])\n",
    "FseqDOC_ST_100m = np.nanmean(FseqDOC_ST_100m, axis = 0)\n",
    "FseqDOC_ST_below_2000m = np.nanmean(FseqDOC_ST_below_2000m, axis = 0)\n",
    "FseqDOC_ST_below_1000m = np.nanmean(FseqDOC_ST_below_1000m, axis = 0)\n",
    "\n",
    "# Migration D\n",
    "FreminMigrD_ST_100m = np.zeros((12,91,180))\n",
    "FseqMigrD_ST_100m = np.zeros((12,91,180))\n",
    "for i in range(12):\n",
    "    FreminMigrD_ST_100m[i,:,:], FseqMigrD_ST_100m[i,:,:] = compute_FmigrD(FexpT[i,:,:])\n",
    "FreminMigrD_ST_100m = np.nanmean(FreminMigrD_ST_100m, axis = 0)\n",
    "FseqMigrD_ST_100m = np.nanmean(FseqMigrD_ST_100m, axis = 0)\n",
    "\n",
    "# Migration Seasonally\n",
    "FreminMigrS_ST_100m = np.zeros((12,91,180))\n",
    "FseqMigrS_ST_100m = np.zeros((12,91,180))\n",
    "for i in range(12):\n",
    "    FreminMigrS_ST_100m[i,:,:], FseqMigrS_ST_100m[i,:,:] = compute_Fseq_migr_seasonal(b_martin, FexpT[i,:,:], ZexpH, POCflux[i,:,:,:], True)\n",
    "FreminMigrS_ST_100m = np.nanmean(FreminMigrS_ST_100m, axis = 0)\n",
    "FseqMigrS_ST_100m = np.nanmean(FseqMigrS_ST_100m, axis = 0)\n",
    "\n",
    "# Fseq(2000)\n",
    "FseqPOC2000m_ST = np.zeros((12,91,180))\n",
    "for i in range(12):\n",
    "    FseqPOC2000m_ST[i,:,:] = compute_FseqPOC_2000m(b_guidi, FexpT[i,:,:], ZexpH, POCflux[i,:,:,:], use_ST = True) # in that case, we only need use_ST, actually...\n",
    "FseqPOC2000m_ST = np.nanmean(FseqPOC2000m_ST, axis = 0)\n",
    "\n",
    "# Fseq(1000)\n",
    "FseqPOC1000m_ST = np.zeros((12,91,180))\n",
    "for i in range(12):\n",
    "    FseqPOC1000m_ST[i,:,:] = compute_FseqPOC_1000m(b_guidi, FexpT[i,:,:], ZexpH, POCflux[i,:,:,:], use_ST = True) # in that case, we only need use_ST, actually...\n",
    "FseqPOC1000m_ST = np.nanmean(FseqPOC1000m_ST, axis = 0)\n",
    "\n",
    "# Fremin in deepest depth layer\n",
    "FseqDeepestOrg_C5 = np.zeros((Fsedim.shape))\n",
    "for i, lat in enumerate(latT):\n",
    "    for j, lon in enumerate(lonT):\n",
    "        r = int(np.array(np.where(latT == lat))) # r for row\n",
    "        c = int(np.array(np.where(lonT == lon))) # c for column\n",
    "        index_last_depth = np.where(np.isnan(FseqPOC_ST_100m_full_matrix[1,r,c,]))[0][0]-1 \n",
    "        #FseqDeep_C5[r,c] = np.mean(FseqPOC_ST_100m_full_matrix[:,r,c,index_last_depth])\n",
    "        FseqDeepestOrg_C5[r,c] = ((np.mean(FseqPOC_ST_100m_full_matrix[:,r,c,index_last_depth]))/f100_ST[r,c,index_last_depth]+Fsedim[r,c])#*f100_ST[r,c,index_last_depth]"
   ]
  },
  {
   "cell_type": "code",
   "execution_count": 49,
   "metadata": {},
   "outputs": [
    {
     "name": "stdout",
     "output_type": "stream",
     "text": [
      "Global Fseq(POC): 1.86  GtC/year\n",
      "Global Fseq(DOC): 0.31  GtC/year\n",
      "Global Fseq(Migr Diel): 0.26  GtC/year\n",
      "Global Fseq(Migr Season): 0.01  GtC/year\n",
      "Global Fseq(Sediment): 0.03  GtC/year\n",
      "Global BCPs: 2.4399999999999995 GtC/year\n",
      "\n",
      "Global Fexp: 7.33 GtC/year\n",
      "Global F*seq(POC): 0.25\n",
      "Global F*seqBCPs: 0.33\n",
      "Global F*seq(sedim): 0.003\n",
      "\n",
      "MEDIAN VALUES\n",
      "Median Fseq(POC): 4.17  gC/m2/year\n",
      "Median Fseq(DOC): 0.43  gC/m2/year\n",
      "Median Fseq(Migr Diel): 0.47  gC/m2/year\n",
      "Median Fseq(Migr Season): 2.35  gC/m2/year\n",
      "Median BCPs: 5.55 gC/m2/year\n",
      "Median Fseq(Sediment) 0.05 gC/m2/year\n",
      "\n",
      "MEAN VALUES\n",
      "Mean Fseq(POC): 5.16  gC/m2/year\n",
      "Mean Fseq(DOC): 1.21  gC/m2/year\n",
      "Mean Fseq(Migr Diel): 0.77  gC/m2/year\n",
      "Mean Fseq(Migr Season): 2.25  gC/m2/year\n",
      "Mean BCPs: 7.18 gC/m2/year\n",
      "Mean Fseq(Sediment) 0.08 gC/m2/year\n",
      "\n",
      "Sequestration flux at 2000 m: 0.47\n",
      "\n",
      "Sequestration flux at 1000 m: 1.13\n",
      "\n",
      "F*seq(2000): 0.06\n",
      "FseqPOC(>2000m) 0.28\n",
      "F*seqPOC(>2000m) 0.04\n",
      "FseqDOC(>2000m) 0.03\n",
      "F*seqDOC(>2000m) 0.0\n",
      "\n",
      "FseqBCP(>2000m) 0.31\n",
      "F*seqBCP(>2000m) 0.04\n",
      "\n",
      "F*seq(1000): 0.15\n",
      "FseqPOC(>1000m) 0.8\n",
      "F*seqPOC(>1000m) 0.11\n",
      "FseqDOC(>1000m) 0.05\n",
      "F*seqDOC(>1000m) 0.01\n",
      "\n",
      "FseqBCP(>1000m) 0.86\n",
      "F*seqBCP(>1000m) 0.12\n",
      "\n",
      "Values min/max/median for FreminMigrS:\n",
      "Min:  2.62\n",
      "Max:  19.49\n",
      "Median:  4.35\n"
     ]
    }
   ],
   "source": [
    "# print results\n",
    "printResult(FseqPOC_ST_100m, FseqDOC_ST_100m, FseqMigrD_ST_100m, FseqMigrS_ST_100m, Fsedim, pixelArea, mask)\n",
    "# print results\n",
    "print('')\n",
    "printResult_ratio_reference(FseqPOC_ST_100m, FseqDOC_ST_100m, FseqMigrD_ST_100m, FseqMigrS_ST_100m, pixelArea, mask, FexpT, use_ST = True)\n",
    "print('')\n",
    "FseqBCPs_ST_100m = printResult_mean_median(FseqPOC_ST_100m, FseqDOC_ST_100m, FseqMigrD_ST_100m, FseqMigrS_ST_100m, Fsedim, pixelArea, mask)\n",
    "\n",
    "print('\\nSequestration flux at 2000 m:', np.round(compute_flux_total(FseqPOC2000m_ST*mask, pixelArea), 2))\n",
    "print('\\nSequestration flux at 1000 m:', np.round(compute_flux_total(FseqPOC1000m_ST*mask, pixelArea), 2))\n",
    "\n",
    "## 2000 m\n",
    "ref = compute_flux_total_mean(FexpT*mask, pixelArea)\n",
    "print('\\nF*seq(2000):', np.round(compute_flux_total(FseqPOC2000m_ST*mask, pixelArea)/ref, 2))\n",
    "print('FseqPOC(>2000m)', np.round(compute_flux_total(FseqPOC_ST_below_2000m*mask, pixelArea), 2))\n",
    "print('F*seqPOC(>2000m)', np.round(compute_flux_total(FseqPOC_ST_below_2000m*mask, pixelArea)/ref, 2))\n",
    "print('FseqDOC(>2000m)', np.round(compute_flux_total(FseqDOC_ST_below_2000m*mask, pixelArea), 2))\n",
    "print('F*seqDOC(>2000m)', np.round(compute_flux_total(FseqDOC_ST_below_2000m*mask, pixelArea)/ref, 2))\n",
    "FseqBCP_below_2000m = add_matrix(FseqPOC_ST_below_2000m, FseqDOC_ST_below_2000m)\n",
    "print('\\nFseqBCP(>2000m)', np.round(compute_flux_total(FseqBCP_below_2000m*mask, pixelArea), 2))\n",
    "print('F*seqBCP(>2000m)', np.round(compute_flux_total(FseqBCP_below_2000m*mask, pixelArea)/ref, 2))\n",
    "\n",
    "## 1000 m\n",
    "print('\\nF*seq(1000):', np.round(compute_flux_total(FseqPOC1000m_ST*mask, pixelArea)/ref, 2))\n",
    "print('FseqPOC(>1000m)', np.round(compute_flux_total(FseqPOC_ST_below_1000m*mask, pixelArea), 2))\n",
    "print('F*seqPOC(>1000m)', np.round(compute_flux_total(FseqPOC_ST_below_1000m*mask, pixelArea)/ref, 2))\n",
    "print('FseqDOC(>1000m)', np.round(compute_flux_total(FseqDOC_ST_below_1000m*mask, pixelArea), 2))\n",
    "print('F*seqDOC(>1000m)', np.round(compute_flux_total(FseqDOC_ST_below_1000m*mask, pixelArea)/ref, 2))\n",
    "FseqBCP_below_1000m = add_matrix(FseqPOC_ST_below_1000m, FseqDOC_ST_below_1000m)\n",
    "print('\\nFseqBCP(>1000m)', np.round(compute_flux_total(FseqBCP_below_1000m*mask, pixelArea), 2))\n",
    "print('F*seqBCP(>1000m)', np.round(compute_flux_total(FseqBCP_below_1000m*mask, pixelArea)/ref, 2))\n",
    "\n",
    "min_valMigrS, max_valMigrS, median_valMigrS = compute_min_max_median_FreminMigrS(FreminMigrS_ST_100m)\n",
    "print('\\nValues min/max/median for FreminMigrS:')\n",
    "print('Min: ', np.round(min_valMigrS, 2))\n",
    "print('Max: ', np.round(max_valMigrS, 2))\n",
    "print('Median: ', np.round(median_valMigrS, 2))"
   ]
  },
  {
   "cell_type": "code",
   "execution_count": 50,
   "metadata": {},
   "outputs": [
    {
     "name": "stdout",
     "output_type": "stream",
     "text": [
      "FseqPOC pixel + area: (10276, 351.7488109020153)\n",
      "FseqDOC pixel + area: (10276, 351.7488109020153)\n",
      "FseqMigrD pixel + area: (10139, 349.0908936396123)\n",
      "FseqMigrS pixel + area: (205, 4.696420385705691)\n",
      "FseqBCPs pixel + area: (10285, 351.91521347399987)\n",
      "Fseq2000m pixel + area: (10288, 351.830549404102)\n",
      "FseqSedim pixel + area: (10339, 353.172816305548)\n"
     ]
    }
   ],
   "source": [
    "compute_pixel_area_version(FseqPOC_ST_100m, FseqDOC_ST_100m, FseqMigrD_ST_100m, FseqMigrS_ST_100m, FseqBCPs_ST_100m, FseqPOC2000m_ST, Fsedim, pixelArea, mask)"
   ]
  },
  {
   "cell_type": "markdown",
   "metadata": {},
   "source": [
    "# CONVERSE VERSION 4 (C4)\n",
    "\n",
    "## with Fexp= FexpTim (i.e. SIMPLE_TRIM) and Zexp = Zeu"
   ]
  },
  {
   "cell_type": "code",
   "execution_count": 51,
   "metadata": {},
   "outputs": [
    {
     "name": "stderr",
     "output_type": "stream",
     "text": [
      "<ipython-input-31-064fcdef8fa6>:15: RuntimeWarning: invalid value encountered in double_scalars\n",
      "  FseqPOC_ST[r,c,index_last_depth] = ((FseqPOC_ST[r,c,index_last_depth]/f100_ST[r,c,index_last_depth]) - Fsed_pixel) * f100_ST[r,c,index_last_depth]\n"
     ]
    },
    {
     "name": "stdout",
     "output_type": "stream",
     "text": [
      "...using Zeu...\n",
      "...using Zeu...\n",
      "...using Zeu...\n",
      "...using Zeu...\n",
      "...using Zeu...\n",
      "...using Zeu...\n",
      "...using Zeu...\n",
      "...using Zeu...\n",
      "...using Zeu...\n",
      "...using Zeu...\n",
      "...using Zeu...\n",
      "...using Zeu...\n"
     ]
    },
    {
     "name": "stderr",
     "output_type": "stream",
     "text": [
      "<ipython-input-51-0889f3b7f4bf>:9: RuntimeWarning: Mean of empty slice\n",
      "  FseqPOC_ST_Zeu = np.nanmean(FseqPOC_ST_Zeu, axis = 0)\n",
      "<ipython-input-51-0889f3b7f4bf>:10: RuntimeWarning: Mean of empty slice\n",
      "  FseqPOC_ST_below_2000m = np.nanmean(FseqPOC_ST_below_2000m, axis = 0)\n",
      "<ipython-input-51-0889f3b7f4bf>:11: RuntimeWarning: Mean of empty slice\n",
      "  FseqPOC_ST_below_1000m = np.nanmean(FseqPOC_ST_below_1000m, axis = 0)\n"
     ]
    },
    {
     "name": "stdout",
     "output_type": "stream",
     "text": [
      "...using Zeu...\n",
      "...using Zeu...\n",
      "...using Zeu...\n",
      "...using Zeu...\n",
      "...using Zeu...\n",
      "...using Zeu...\n",
      "...using Zeu...\n",
      "...using Zeu...\n",
      "...using Zeu...\n",
      "...using Zeu...\n",
      "...using Zeu...\n",
      "...using Zeu...\n"
     ]
    },
    {
     "name": "stderr",
     "output_type": "stream",
     "text": [
      "<ipython-input-51-0889f3b7f4bf>:21: RuntimeWarning: Mean of empty slice\n",
      "  FseqDOC_ST_Zeu = np.nanmean(FseqDOC_ST_Zeu, axis = 0)\n",
      "<ipython-input-51-0889f3b7f4bf>:22: RuntimeWarning: Mean of empty slice\n",
      "  FseqDOC_ST_below_2000m = np.nanmean(FseqDOC_ST_below_2000m, axis = 0)\n",
      "<ipython-input-51-0889f3b7f4bf>:23: RuntimeWarning: Mean of empty slice\n",
      "  FseqDOC_ST_below_1000m = np.nanmean(FseqDOC_ST_below_1000m, axis = 0)\n",
      "<ipython-input-51-0889f3b7f4bf>:30: RuntimeWarning: Mean of empty slice\n",
      "  FreminMigrD_ST_Zeu = np.nanmean(FreminMigrD_ST_Zeu, axis = 0)\n",
      "<ipython-input-51-0889f3b7f4bf>:31: RuntimeWarning: Mean of empty slice\n",
      "  FseqMigrD_ST_Zeu = np.nanmean(FseqMigrD_ST_Zeu, axis = 0)\n",
      "<ipython-input-51-0889f3b7f4bf>:38: RuntimeWarning: Mean of empty slice\n",
      "  FreminMigrS_ST_Zeu = np.nanmean(FreminMigrS_ST_Zeu, axis = 0)\n",
      "<ipython-input-51-0889f3b7f4bf>:39: RuntimeWarning: Mean of empty slice\n",
      "  FseqMigrS_ST_Zeu = np.nanmean(FseqMigrS_ST_Zeu, axis = 0)\n",
      "<ipython-input-51-0889f3b7f4bf>:45: RuntimeWarning: Mean of empty slice\n",
      "  FseqPOC2000m_ST = np.nanmean(FseqPOC2000m_ST, axis = 0)\n",
      "<ipython-input-51-0889f3b7f4bf>:51: RuntimeWarning: Mean of empty slice\n",
      "  FseqPOC1000m_ST = np.nanmean(FseqPOC1000m_ST, axis = 0)\n",
      "<ipython-input-51-0889f3b7f4bf>:61: RuntimeWarning: invalid value encountered in double_scalars\n",
      "  FseqDeepestOrg_C4[r,c,] = ((np.mean(FseqPOC_ST_Zeu_full_matrix[:,r,c,index_last_depth]))/f100_ST[r,c,index_last_depth]+Fsedim[r,c])#*f100_ST[r,c,index_last_depth]\n"
     ]
    }
   ],
   "source": [
    "# POC below Zexp (Top)\n",
    "FreminPOC_ST_Zeu_full_matrix = np.zeros((12,91,180,24))\n",
    "FseqPOC_ST_Zeu_full_matrix = np.zeros((12,91,180,24))\n",
    "FseqPOC_ST_Zeu = np.zeros((12,91,180))\n",
    "FseqPOC_ST_below_2000m = np.zeros((12,91,180))\n",
    "FseqPOC_ST_below_1000m = np.zeros((12,91,180))\n",
    "for i in range(12):\n",
    "    FreminPOC_ST_Zeu_full_matrix[i,:,:,:], FseqPOC_ST_Zeu_full_matrix[i,:,:,:], FseqPOC_ST_Zeu[i,:,:], FseqPOC_ST_below_2000m[i,:,:], FseqPOC_ST_below_1000m[i,:,:] = compute_FseqPOC_ST(True, i)\n",
    "FseqPOC_ST_Zeu = np.nanmean(FseqPOC_ST_Zeu, axis = 0)\n",
    "FseqPOC_ST_below_2000m = np.nanmean(FseqPOC_ST_below_2000m, axis = 0)\n",
    "FseqPOC_ST_below_1000m = np.nanmean(FseqPOC_ST_below_1000m, axis = 0)\n",
    "\n",
    "# DOC\n",
    "FreminDOC_ST_Zeu_full_matrix = np.zeros((12,91,180,24))\n",
    "FseqDOC_ST_Zeu_full_matrix = np.zeros((12,91,180,24))\n",
    "FseqDOC_ST_Zeu = np.zeros((12,91,180))\n",
    "FseqDOC_ST_below_2000m = np.zeros((12,91,180))\n",
    "FseqDOC_ST_below_1000m = np.zeros((12,91,180))\n",
    "for i in range(12):\n",
    "    FreminDOC_ST_Zeu_full_matrix[i,:,:,:], FseqDOC_ST_Zeu_full_matrix[i,:,:,:], FseqDOC_ST_Zeu[i,:,:], FseqDOC_ST_below_2000m[i,:,:], FseqDOC_ST_below_1000m[i,:,:] = compute_FseqDOC_ST(True, DOCl[i,:,:,:], kl[i], DOCsl[i,:,:,:], ksl[i], DOCsr[i,:,:,:], ksr[i], DOCr[i,:,:,:], kr[i])\n",
    "FseqDOC_ST_Zeu = np.nanmean(FseqDOC_ST_Zeu, axis = 0)\n",
    "FseqDOC_ST_below_2000m = np.nanmean(FseqDOC_ST_below_2000m, axis = 0)\n",
    "FseqDOC_ST_below_1000m = np.nanmean(FseqDOC_ST_below_1000m, axis = 0)\n",
    "\n",
    "# Migration D\n",
    "FreminMigrD_ST_Zeu = np.zeros((12,91,180))\n",
    "FseqMigrD_ST_Zeu = np.zeros((12,91,180))\n",
    "for i in range(12):\n",
    "    FreminMigrD_ST_Zeu[i,:,:], FseqMigrD_ST_Zeu[i,:,:] = compute_FmigrD(FexpT[i,:,:]) # We use FexpT here for Zeu and it's OKAY\n",
    "FreminMigrD_ST_Zeu = np.nanmean(FreminMigrD_ST_Zeu, axis = 0)\n",
    "FseqMigrD_ST_Zeu = np.nanmean(FseqMigrD_ST_Zeu, axis = 0)\n",
    "\n",
    "# Migration Seasonally\n",
    "FreminMigrS_ST_Zeu = np.zeros((12,91,180))\n",
    "FseqMigrS_ST_Zeu = np.zeros((12,91,180))\n",
    "for i in range(12):\n",
    "    FreminMigrS_ST_Zeu[i,:,:], FseqMigrS_ST_Zeu[i,:,:] = compute_Fseq_migr_seasonal(b_martin, FexpZeu[i,:,:], ZexpH, POCflux[i,:,:,:], True) # all arguments are actully not used here (eg. FexpZeu)\n",
    "FreminMigrS_ST_Zeu = np.nanmean(FreminMigrS_ST_Zeu, axis = 0)\n",
    "FseqMigrS_ST_Zeu = np.nanmean(FseqMigrS_ST_Zeu, axis = 0)\n",
    "\n",
    "# Fseq(2000)\n",
    "FseqPOC2000m_ST = np.zeros((12,91,180))\n",
    "for i in range(12):\n",
    "    FseqPOC2000m_ST[i,:,:] = compute_FseqPOC_2000m(b_guidi, FexpT[i,:,:], ZexpH, POCflux[i,:,:,:], use_ST = True) # in that case, we only need use_ST, actually...\n",
    "FseqPOC2000m_ST = np.nanmean(FseqPOC2000m_ST, axis = 0)\n",
    "\n",
    "# Fseq(1000)\n",
    "FseqPOC1000m_ST = np.zeros((12,91,180))\n",
    "for i in range(12):\n",
    "    FseqPOC1000m_ST[i,:,:] = compute_FseqPOC_1000m(b_guidi, FexpT[i,:,:], ZexpH, POCflux[i,:,:,:], use_ST = True) # in that case, we only need use_ST, actually...\n",
    "FseqPOC1000m_ST = np.nanmean(FseqPOC1000m_ST, axis = 0)\n",
    "\n",
    "# Fremin in deepest depth layer\n",
    "FseqDeepestOrg_C4 = np.zeros((Fsedim.shape))\n",
    "for i, lat in enumerate(latT):\n",
    "    for j, lon in enumerate(lonT):\n",
    "        r = int(np.array(np.where(latT == lat))) # r for row\n",
    "        c = int(np.array(np.where(lonT == lon))) # c for column\n",
    "        index_last_depth = np.where(np.isnan(FseqPOC_ST_Zeu_full_matrix[1,r,c,]))[0][0]-1 \n",
    "        #FseqDeep_C4[r,c] = np.mean(FseqPOC_ST_Zeu_full_matrix[:,r,c,index_last_depth])\n",
    "        FseqDeepestOrg_C4[r,c,] = ((np.mean(FseqPOC_ST_Zeu_full_matrix[:,r,c,index_last_depth]))/f100_ST[r,c,index_last_depth]+Fsedim[r,c])#*f100_ST[r,c,index_last_depth]"
   ]
  },
  {
   "cell_type": "code",
   "execution_count": 52,
   "metadata": {},
   "outputs": [
    {
     "name": "stdout",
     "output_type": "stream",
     "text": [
      "Global Fseq(POC): 1.89  GtC/year\n",
      "Global Fseq(DOC): 0.45  GtC/year\n",
      "Global Fseq(Migr Diel): 0.26  GtC/year\n",
      "Global Fseq(Migr Season): 0.01  GtC/year\n",
      "Global Fseq(Sediment): 0.03  GtC/year\n",
      "Global BCPs: 2.6099999999999994 GtC/year\n",
      "\n",
      "Global Fexp: 8.58 GtC/year\n",
      "Global F*seq(POC): 0.22\n",
      "Global F*seqBCPs: 0.3\n",
      "Global F*seq(sedim): 0.003\n",
      "\n",
      "MEDIAN VALUES\n",
      "Median Fseq(POC): 4.22  gC/m2/year\n",
      "Median Fseq(DOC): 0.53  gC/m2/year\n",
      "Median Fseq(Migr Diel): 0.47  gC/m2/year\n",
      "Median Fseq(Migr Season): 2.35  gC/m2/year\n",
      "Median BCPs: 5.72 gC/m2/year\n",
      "Median Fseq(Sediment) 0.05 gC/m2/year\n",
      "\n",
      "MEAN VALUES\n",
      "Mean Fseq(POC): 5.24  gC/m2/year\n",
      "Mean Fseq(DOC): 1.63  gC/m2/year\n",
      "Mean Fseq(Migr Diel): 0.77  gC/m2/year\n",
      "Mean Fseq(Migr Season): 2.25  gC/m2/year\n",
      "Mean BCPs: 7.67 gC/m2/year\n",
      "Mean Fseq(Sediment) 0.08 gC/m2/year\n",
      "\n",
      "Sequestration flux at 2000 m: 0.47\n",
      "F*seq(2000): 0.05\n",
      "\n",
      "Sequestration flux at 1000 m: 1.13\n",
      "F*seq(1000): 0.13\n",
      "\n",
      "FseqPOC(>2000m) 0.28\n",
      "F*seqPOC(>2000m) 0.03\n",
      "FseqDOC(>2000m) 0.03\n",
      "F*seqDOC(>2000m) 0.0\n",
      "\n",
      "FseqBCP(>2000m) 0.31\n",
      "F*seqBCP(>2000m) 0.04\n",
      "\n",
      "FseqPOC(>1000m) 0.8\n",
      "F*seqPOC(>1000m) 0.09\n",
      "FseqDOC(>1000m) 0.05\n",
      "F*seqDOC(>1000m) 0.01\n",
      "\n",
      "FseqBCP(>1000m) 0.86\n",
      "F*seqBCP(>1000m) 0.1\n",
      "\n",
      "Values min/max/median for FreminMigrS:\n",
      "Min:  2.62\n",
      "Max:  19.49\n",
      "Median:  4.35\n"
     ]
    }
   ],
   "source": [
    "# print results\n",
    "printResult(FseqPOC_ST_Zeu, FseqDOC_ST_Zeu, FseqMigrD_ST_Zeu, FseqMigrS_ST_Zeu, Fsedim, pixelArea, mask)\n",
    "print('')\n",
    "# print results\n",
    "printResult_ratio_reference(FseqPOC_ST_Zeu, FseqDOC_ST_Zeu, FseqMigrD_ST_Zeu, FseqMigrS_ST_Zeu, pixelArea, mask, FexpZeu, use_ST = True)\n",
    "print('')\n",
    "FseqBCPs_ST_Zeu = printResult_mean_median(FseqPOC_ST_Zeu, FseqDOC_ST_Zeu, FseqMigrD_ST_Zeu, FseqMigrS_ST_Zeu, Fsedim, pixelArea, mask)\n",
    "#print('More precise median for FseqTop:', np.round(np.nanmedian(FseqTop_ST_Zeu*mask),3), ' gC/m2/year\\n')\n",
    "print('\\nSequestration flux at 2000 m:', np.round(compute_flux_total(FseqPOC2000m_ST*mask, pixelArea), 2))\n",
    "ref = compute_flux_total_mean(FexpZeu*mask, pixelArea)\n",
    "print('F*seq(2000):', np.round(compute_flux_total(FseqPOC2000m_ST*mask, pixelArea)/ref, 2))\n",
    "\n",
    "print('\\nSequestration flux at 1000 m:', np.round(compute_flux_total(FseqPOC1000m_ST*mask, pixelArea), 2))\n",
    "print('F*seq(1000):', np.round(compute_flux_total(FseqPOC1000m_ST*mask, pixelArea)/ref, 2))\n",
    "# print('')\n",
    "# print('precise median for FseqTop: ', np.round(np.nanmedian(FseqTop_ST_Zeu*mask),3))\n",
    "\n",
    "## 2000 m\n",
    "FseqBCP_below_2000m = add_matrix(FseqPOC_ST_below_2000m, FseqDOC_ST_below_2000m)\n",
    "print('\\nFseqPOC(>2000m)', np.round(compute_flux_total(FseqPOC_ST_below_2000m*mask, pixelArea), 2))\n",
    "print('F*seqPOC(>2000m)', np.round(compute_flux_total(FseqPOC_ST_below_2000m*mask, pixelArea)/ref, 2))\n",
    "print('FseqDOC(>2000m)', np.round(compute_flux_total(FseqDOC_ST_below_2000m*mask, pixelArea), 2))\n",
    "print('F*seqDOC(>2000m)', np.round(compute_flux_total(FseqDOC_ST_below_2000m*mask, pixelArea)/ref, 2))\n",
    "FseqBCP_below_2000m = add_matrix(FseqPOC_ST_below_2000m, FseqDOC_ST_below_2000m)\n",
    "print('\\nFseqBCP(>2000m)', np.round(compute_flux_total(FseqBCP_below_2000m*mask, pixelArea), 2))\n",
    "print('F*seqBCP(>2000m)', np.round(compute_flux_total(FseqBCP_below_2000m*mask, pixelArea)/ref, 2))\n",
    "\n",
    "## 1000 m\n",
    "FseqBCP_below_1000m = add_matrix(FseqPOC_ST_below_1000m, FseqDOC_ST_below_1000m)\n",
    "print('\\nFseqPOC(>1000m)', np.round(compute_flux_total(FseqPOC_ST_below_1000m*mask, pixelArea), 2))\n",
    "print('F*seqPOC(>1000m)', np.round(compute_flux_total(FseqPOC_ST_below_1000m*mask, pixelArea)/ref, 2))\n",
    "print('FseqDOC(>1000m)', np.round(compute_flux_total(FseqDOC_ST_below_1000m*mask, pixelArea), 2))\n",
    "print('F*seqDOC(>1000m)', np.round(compute_flux_total(FseqDOC_ST_below_1000m*mask, pixelArea)/ref, 2))\n",
    "FseqBCP_below_1000m = add_matrix(FseqPOC_ST_below_1000m, FseqDOC_ST_below_1000m)\n",
    "print('\\nFseqBCP(>1000m)', np.round(compute_flux_total(FseqBCP_below_1000m*mask, pixelArea), 2))\n",
    "print('F*seqBCP(>1000m)', np.round(compute_flux_total(FseqBCP_below_1000m*mask, pixelArea)/ref, 2))\n",
    "\n",
    "min_valMigrS, max_valMigrS, median_valMigrS = compute_min_max_median_FreminMigrS(FreminMigrS_ST_Zeu)\n",
    "print('\\nValues min/max/median for FreminMigrS:')\n",
    "print('Min: ', np.round(min_valMigrS, 2))\n",
    "print('Max: ', np.round(max_valMigrS, 2))\n",
    "print('Median: ', np.round(median_valMigrS, 2))"
   ]
  },
  {
   "cell_type": "code",
   "execution_count": 53,
   "metadata": {},
   "outputs": [
    {
     "name": "stdout",
     "output_type": "stream",
     "text": [
      "FseqPOC pixel + area: (10309, 352.51755928037)\n",
      "FseqDOC pixel + area: (10309, 352.51755928037)\n",
      "FseqMigrD pixel + area: (10139, 349.0908936396123)\n",
      "FseqMigrS pixel + area: (205, 4.696420385705691)\n",
      "FseqBCPs pixel + area: (10314, 352.5963398912697)\n",
      "Fseq2000m pixel + area: (10288, 351.830549404102)\n",
      "FseqSedim pixel + area: (10339, 353.172816305548)\n"
     ]
    }
   ],
   "source": [
    "compute_pixel_area_version(FseqPOC_ST_Zeu, FseqDOC_ST_Zeu, FseqMigrD_ST_Zeu, FseqMigrS_ST_Zeu, FseqBCPs_ST_Zeu, FseqPOC2000m_ST, Fsedim, pixelArea, mask)"
   ]
  },
  {
   "cell_type": "markdown",
   "metadata": {},
   "source": [
    "# CONVERSE VERSION 6 (C6)\n",
    "\n",
    "## with the export ratio"
   ]
  },
  {
   "cell_type": "code",
   "execution_count": 54,
   "metadata": {},
   "outputs": [],
   "source": [
    "# only the POC will change AND the DOC\n",
    "ratio_export_global = []\n",
    "for i in range(12):\n",
    "    ratio_export_global.append(compute_flux_total(FexpH*mask, pixelArea)/compute_flux_total(FexpT[i,:,:]*mask, pixelArea))\n",
    "\n",
    "ratio_export_global = np.nanmean(np.array(ratio_export_global))\n",
    "\n",
    "# POC\n",
    "FseqPOC_H_100m_v2 = FseqPOC_ST_100m * ratio_export_global\n",
    "\n",
    "# DOC \n",
    "FseqDOC_H_100m_v2 = FseqDOC_ST_100m * ratio_export_global # if Zexp = 100m\n",
    "\n",
    "# MigrS\n",
    "FseqMigrS_H_100m_v2 = FseqMigrS_ST_100m * ratio_export_global\n",
    "\n",
    "# 1000m\n",
    "FseqPOC1000m_v2 = FseqPOC1000m_ST * ratio_export_global\n",
    "FseqPOC_H_below_1000m_v2 = FseqPOC_ST_below_1000m * ratio_export_global\n",
    "FseqBCP_H_below_1000m_v2 = FseqBCP_below_1000m * ratio_export_global\n",
    "\n",
    "# 2000m\n",
    "FseqPOC2000m_v2 = FseqPOC2000m_ST * ratio_export_global\n",
    "FseqPOC_H_below_2000m_v2 = FseqPOC_ST_below_2000m * ratio_export_global\n",
    "FseqBCP_H_below_2000m_v2 = FseqBCP_below_2000m * ratio_export_global\n",
    "\n",
    "# Fseq in deepest depth layer\n",
    "#FseqDeep_C6 = FseqDeep_C5 * ratio_export_global\n",
    "FseqDeepestOrg_C6 = FseqDeepestOrg_C5 * ratio_export_global"
   ]
  },
  {
   "cell_type": "code",
   "execution_count": 55,
   "metadata": {},
   "outputs": [
    {
     "name": "stdout",
     "output_type": "stream",
     "text": [
      "Global Fseq(POC): 0.76  GtC/year\n",
      "Global Fseq(DOC): 0.13  GtC/year\n",
      "Global Fseq(Migr Diel): 0.11  GtC/year\n",
      "Global Fseq(Migr Season): 0.004  GtC/year\n",
      "Global Fseq(Sediment): 0.03  GtC/year\n",
      "Global BCPs: 1.0 GtC/year\n",
      "\n",
      "Global Fexp: 3.01 GtC/year\n",
      "Global F*seq(POC): 0.25\n",
      "Global F*seqBCPs: 0.33\n",
      "Global F*seq(sedim): 0.008\n",
      "\n",
      "MEDIAN VALUES\n",
      "Median Fseq(POC): 1.71  gC/m2/year\n",
      "Median Fseq(DOC): 0.18  gC/m2/year\n",
      "Median Fseq(Migr Diel): 0.21  gC/m2/year\n",
      "Median Fseq(Migr Season): 0.97  gC/m2/year\n",
      "Median BCPs: 2.3 gC/m2/year\n",
      "Median Fseq(Sediment) 0.05 gC/m2/year\n",
      "\n",
      "MEAN VALUES\n",
      "Mean Fseq(POC): 2.12  gC/m2/year\n",
      "Mean Fseq(DOC): 0.5  gC/m2/year\n",
      "Mean Fseq(Migr Diel): 0.37  gC/m2/year\n",
      "Mean Fseq(Migr Season): 0.92  gC/m2/year\n",
      "Mean BCPs: 2.95 gC/m2/year\n",
      "Mean Fseq(Sediment) 0.08 gC/m2/year\n",
      "\n",
      "\n",
      "Sequestration flux at 2000 m: 0.19\n",
      "\n",
      "FseqBCP(> 2000m) 0.13\n",
      "\n",
      "FseqPOC(> 2000m) 0.12\n",
      "\n",
      "Sequestration flux at 1000 m: 0.46\n",
      "\n",
      "FseqBCP(> 1000m) 0.35\n",
      "\n",
      "FseqPOC(> 1000m) 0.33\n"
     ]
    }
   ],
   "source": [
    "# print results\n",
    "printResult(FseqPOC_H_100m_v2, FseqDOC_H_100m_v2, FseqMigrD_H_100m, FseqMigrS_H_100m_v2, Fsedim, pixelArea, mask)\n",
    "print('')\n",
    "# with ratio reference\n",
    "printResult_ratio_reference(FseqPOC_H_100m_v2, FseqDOC_H_100m_v2, FseqMigrD_H_100m, FseqMigrS_H_100m_v2, pixelArea, mask, FexpH)\n",
    "print('')\n",
    "FseqBCPs_H_100m_v2 = printResult_mean_median(FseqPOC_H_100m_v2, FseqDOC_H_100m_v2, FseqMigrD_H_100m, FseqMigrS_H_100m_v2, Fsedim, pixelArea, mask)\n",
    "FseqBCPs_H_100m_C6 = FseqBCPs_H_100m_v2\n",
    "print('')\n",
    "\n",
    "## 2000 m\n",
    "print('\\nSequestration flux at 2000 m:', np.round(compute_flux_total(FseqPOC2000m_v2*mask, pixelArea), 2))\n",
    "\n",
    "print('\\nFseqBCP(> 2000m)', np.round(compute_flux_total(FseqBCP_H_below_2000m_v2*mask, pixelArea),2))\n",
    "\n",
    "print('\\nFseqPOC(> 2000m)', np.round(compute_flux_total(FseqPOC_H_below_2000m_v2*mask, pixelArea),2))\n",
    "\n",
    "## 1000 m\n",
    "print('\\nSequestration flux at 1000 m:', np.round(compute_flux_total(FseqPOC1000m_v2*mask, pixelArea), 2))\n",
    "\n",
    "print('\\nFseqBCP(> 1000m)', np.round(compute_flux_total(FseqBCP_H_below_1000m_v2*mask, pixelArea),2))\n",
    "\n",
    "print('\\nFseqPOC(> 1000m)', np.round(compute_flux_total(FseqPOC_H_below_1000m_v2*mask, pixelArea),2))"
   ]
  },
  {
   "cell_type": "code",
   "execution_count": 56,
   "metadata": {},
   "outputs": [
    {
     "name": "stdout",
     "output_type": "stream",
     "text": [
      "FseqPOC pixel + area: (10276, 351.7488109020153)\n",
      "FseqDOC pixel + area: (10276, 351.7488109020153)\n",
      "FseqMigrD pixel + area: (9072, 340.1940115804165)\n",
      "FseqMigrS pixel + area: (205, 4.696420385705691)\n",
      "FseqBCPs pixel + area: (10291, 352.1477916092496)\n",
      "Fseq2000m pixel + area: (7952, 308.33030463063744)\n",
      "FseqSedim pixel + area: (10339, 353.172816305548)\n"
     ]
    }
   ],
   "source": [
    "#compute_pixel_area_version(FseqPOC_H_100m_v2, FseqDOC_H_100m_v2, FseqMigrD_H_100m, FseqMigrS_H_100m, FseqBCPs_H_100m, FseqPOC2000m_martin, Fsedim, pixelArea, mask)\n",
    "compute_pixel_area_version(FseqPOC_H_100m_v2, FseqDOC_H_100m_v2, FseqMigrD_H_100m, FseqMigrS_H_100m, FseqBCPs_H_100m_v2, FseqPOC2000m_martin, Fsedim, pixelArea, mask)"
   ]
  },
  {
   "cell_type": "markdown",
   "metadata": {},
   "source": [
    "# CONVERSE VERSION 1 (C1)\n",
    "\n",
    "## with Fexp = FexpHenson, Zexp = 100 m and b = b of Martin"
   ]
  },
  {
   "cell_type": "code",
   "execution_count": 57,
   "metadata": {},
   "outputs": [
    {
     "name": "stderr",
     "output_type": "stream",
     "text": [
      "<ipython-input-57-3b6d729f21d3>:42: RuntimeWarning: Mean of empty slice\n",
      "  FreminMigrS_H_100m = np.nanmean(FreminMigrS_H_100m, axis = 0)\n",
      "<ipython-input-57-3b6d729f21d3>:43: RuntimeWarning: Mean of empty slice\n",
      "  FseqMigrS_H_100m = np.nanmean(FseqMigrS_H_100m, axis = 0)\n",
      "<ipython-input-57-3b6d729f21d3>:49: RuntimeWarning: Mean of empty slice\n",
      "  FseqPOC2000m_martin = np.nanmean(FseqPOC2000m_martin, axis = 0)\n"
     ]
    },
    {
     "name": "stdout",
     "output_type": "stream",
     "text": [
      "CHECK THAT IT WAS COMPUTED FOR B MARTIN\n",
      "Global Fseq(POC): 0.63  GtC/year\n",
      "Global Fseq(DOC): 0.13  GtC/year\n",
      "Global Fseq(Migr Diel): 0.11  GtC/year\n",
      "Global Fseq(Migr Season): 0.004  GtC/year\n",
      "Global Fseq(Sediment): 0.03  GtC/year\n",
      "Global BCPs: 0.87 GtC/year\n",
      "\n",
      "Global Fexp: 3.01 GtC/year\n",
      "Global F*seq(POC): 0.21\n",
      "Global F*seqBCPs: 0.29\n",
      "Global F*seq(sedim): 0.008\n",
      "\n",
      "MEDIAN VALUES\n",
      "Median Fseq(POC): 1.53  gC/m2/year\n",
      "Median Fseq(DOC): 0.18  gC/m2/year\n",
      "Median Fseq(Migr Diel): 0.21  gC/m2/year\n",
      "Median Fseq(Migr Season): 1.02  gC/m2/year\n",
      "Median BCPs: 1.85 gC/m2/year\n",
      "Median Fseq(Sediment) 0.05 gC/m2/year\n",
      "\n",
      "MEAN VALUES\n",
      "Mean Fseq(POC): 1.99  gC/m2/year\n",
      "Mean Fseq(DOC): 0.5  gC/m2/year\n",
      "Mean Fseq(Migr Diel): 0.37  gC/m2/year\n",
      "Mean Fseq(Migr Season): 0.93  gC/m2/year\n",
      "Mean BCPs: 2.61 gC/m2/year\n",
      "Mean Fseq(Sediment) 0.08 gC/m2/year\n",
      "\n",
      "Sequestration flux at 2000 m: 0.19\n",
      "F*seq(2000): 0.06\n",
      "\n",
      "FseqPOC(>2000m) 0.15\n",
      "FseqBCP(>2000m) 0.17\n",
      "F*seqBCP(>2000m) 0.06\n",
      "\n",
      "Sequestration flux at 1000 m: 0.38\n",
      "F*seq(1000): 0.13\n",
      "\n",
      "FseqPOC(>1000m) 0.31\n",
      "FseqBCP(>1000m) 0.33\n",
      "F*seqBCP(>1000m) 0.11\n",
      "\n",
      "Values min/max/median for FreminMigrS:\n",
      "Min:  0.69\n",
      "Max:  3.67\n",
      "Median:  1.97\n"
     ]
    },
    {
     "name": "stderr",
     "output_type": "stream",
     "text": [
      "<ipython-input-57-3b6d729f21d3>:55: RuntimeWarning: Mean of empty slice\n",
      "  FseqPOC1000m_martin = np.nanmean(FseqPOC1000m_martin, axis = 0)\n"
     ]
    }
   ],
   "source": [
    "# POC below Zexp (Top)\n",
    "FreminPOC_H_water_100m, FseqPOC_H_water_100m, FseqDeep_H_100m, FseqDeepestOrg_C1 = compute_sequestration_in_water(zmax, depthT, b_martin, f100, FexpH, ZexpH)\n",
    "#FseqDeep_C1 = FseqDeep_H_100m\n",
    "FseqDeep_H_100m = FseqDeep_H_100m[:,:,np.newaxis] \n",
    "FseqPOC_H_100m = np.nansum(np.concatenate((FseqPOC_H_water_100m[:,:,8:], FseqDeep_H_100m), axis = 2), axis = 2)\n",
    "FseqPOC_H_100m = np.where(FseqPOC_H_100m == 0.0, np.nan, FseqPOC_H_100m)\n",
    "\n",
    "# POC below 2000 m\n",
    "FseqPOC_H_below_2000m = np.concatenate((FseqPOC_H_water_100m, FseqDeep_H_100m), axis = 2)\n",
    "FseqPOC_H_below_2000m = np.nansum(FseqPOC_H_below_2000m[:,:,33:], axis = 2) * mask_2000m\n",
    "FseqPOC_H_below_2000m = np.where(FseqPOC_H_below_2000m == 0.0, np.nan, FseqPOC_H_below_2000m)\n",
    "\n",
    "# POC below 1000 m\n",
    "FseqPOC_H_below_1000m = np.concatenate((FseqPOC_H_water_100m, FseqDeep_H_100m), axis = 2)\n",
    "FseqPOC_H_below_1000m = np.nansum(FseqPOC_H_below_1000m[:,:,25:], axis = 2) * mask_1000m\n",
    "FseqPOC_H_below_1000m = np.where(FseqPOC_H_below_1000m == 0.0, np.nan, FseqPOC_H_below_1000m)\n",
    "\n",
    "# DOC below Top\n",
    "FseqDOC_H_100m = FseqDOC_ST_100m * ratio_export_global # if Zexp = 100m\n",
    "\n",
    "# DOC below 2000 m\n",
    "FseqDOC_below_2000m = FseqDOC_ST_below_2000m * ratio_export_global\n",
    "\n",
    "# FseqBCP > 2000\n",
    "FseqBCP_below_2000m = add_matrix(FseqPOC_H_below_2000m, FseqDOC_below_2000m)\n",
    "\n",
    "# DOC below 1000 m\n",
    "FseqDOC_below_1000m = FseqDOC_ST_below_1000m * ratio_export_global\n",
    "\n",
    "# FseqBCP > 1000\n",
    "FseqBCP_below_1000m = add_matrix(FseqPOC_H_below_1000m, FseqDOC_below_1000m)\n",
    "\n",
    "# Migration (D & S)\n",
    "FreminMigrD_H_100m, FseqMigrD_H_100m = compute_FmigrD(FexpH)\n",
    "\n",
    "# Migration Seasonally\n",
    "FreminMigrS_H_100m = np.zeros((12,91,180))\n",
    "FseqMigrS_H_100m = np.zeros((12,91,180))\n",
    "for i in range(12):\n",
    "    FreminMigrS_H_100m[i,:,:], FseqMigrS_H_100m[i,:,:] = compute_Fseq_migr_seasonal(b_martin, FexpH, ZexpH, POCflux[i,:,:,:], False)\n",
    "# average\n",
    "FreminMigrS_H_100m = np.nanmean(FreminMigrS_H_100m, axis = 0)\n",
    "FseqMigrS_H_100m = np.nanmean(FseqMigrS_H_100m, axis = 0)\n",
    "\n",
    "# Fseq(2000m)\n",
    "FseqPOC2000m_martin = np.zeros((12,91,180))\n",
    "for i in range(12):\n",
    "    FseqPOC2000m_martin[i,:,:] = compute_FseqPOC_2000m(b_martin, FexpH, ZexpH, POCflux[i,:,:,:])\n",
    "FseqPOC2000m_martin = np.nanmean(FseqPOC2000m_martin, axis = 0)\n",
    "\n",
    "# Fseq(1000m)\n",
    "FseqPOC1000m_martin = np.zeros((12,91,180))\n",
    "for i in range(12):\n",
    "    FseqPOC1000m_martin[i,:,:] = compute_FseqPOC_1000m(b_martin, FexpH, ZexpH, POCflux[i,:,:,:])\n",
    "FseqPOC1000m_martin = np.nanmean(FseqPOC1000m_martin, axis = 0)\n",
    "\n",
    "# Henson - b Martin\n",
    "print('CHECK THAT IT WAS COMPUTED FOR B MARTIN')\n",
    "printResult(FseqPOC_H_100m, FseqDOC_H_100m, FseqMigrD_H_100m, FseqMigrS_H_100m, Fsedim, pixelArea, mask)\n",
    "# with ratio reference\n",
    "print('')\n",
    "printResult_ratio_reference(FseqPOC_H_100m, FseqDOC_H_100m, FseqMigrD_H_100m, FseqMigrS_H_100m, pixelArea, mask, FexpH)\n",
    "print('')\n",
    "FseqBCPs_H_100m = printResult_mean_median(FseqPOC_H_100m, FseqDOC_H_100m, FseqMigrD_H_100m, FseqMigrS_H_100m, Fsedim, pixelArea, mask)\n",
    "FseqBCPs_H_100m_C1 = FseqBCPs_H_100m\n",
    "print('\\nSequestration flux at 2000 m:', np.round(compute_flux_total(FseqPOC2000m_martin*mask, pixelArea), 2))\n",
    "ref = compute_flux_total(FexpH*mask, pixelArea)\n",
    "print('F*seq(2000):', np.round(compute_flux_total(FseqPOC2000m_martin*mask, pixelArea)/ref, 2))\n",
    "\n",
    "print('\\nFseqPOC(>2000m)', np.round(compute_flux_total(FseqPOC_H_below_2000m*mask, pixelArea), 2))\n",
    "print('FseqBCP(>2000m)', np.round(compute_flux_total(FseqBCP_below_2000m*mask, pixelArea), 2))\n",
    "print('F*seqBCP(>2000m)', np.round(compute_flux_total(FseqBCP_below_2000m*mask, pixelArea)/ref, 2))\n",
    "\n",
    "# 1000 m\n",
    "print('\\nSequestration flux at 1000 m:', np.round(compute_flux_total(FseqPOC1000m_martin*mask, pixelArea), 2))\n",
    "print('F*seq(1000):', np.round(compute_flux_total(FseqPOC1000m_martin*mask, pixelArea)/ref, 2))\n",
    "\n",
    "print('\\nFseqPOC(>1000m)', np.round(compute_flux_total(FseqPOC_H_below_1000m*mask, pixelArea), 2))\n",
    "print('FseqBCP(>1000m)', np.round(compute_flux_total(FseqBCP_below_1000m*mask, pixelArea), 2))\n",
    "print('F*seqBCP(>1000m)', np.round(compute_flux_total(FseqBCP_below_1000m*mask, pixelArea)/ref, 2))\n",
    "\n",
    "min_valMigrS, max_valMigrS, median_valMigrS = compute_min_max_median_FreminMigrS(FreminMigrS_H_100m)\n",
    "print('\\nValues min/max/median for FreminMigrS:')\n",
    "print('Min: ', np.round(min_valMigrS, 2))\n",
    "print('Max: ', np.round(max_valMigrS, 2))\n",
    "print('Median: ', np.round(median_valMigrS, 2))\n",
    "\n",
    "# save data for plot\n",
    "FseqPOC_H_100m_martin = FseqPOC_H_100m\n",
    "FseqDOC_H_100m_martin = FseqDOC_H_100m\n",
    "#FseqDOC_H_100m_martin = np.where(FseqDOC_H_100m_martin<1e-3, 1e-3, FseqDOC_H_100m_martin) \n",
    "FseqMigrD_H_100m_martin = FseqMigrD_H_100m\n",
    "FseqMigrS_H_100m_martin = FseqMigrS_H_100m\n",
    "FseqBCPs_H_100m_martin = FseqBCPs_H_100m"
   ]
  },
  {
   "cell_type": "code",
   "execution_count": 58,
   "metadata": {},
   "outputs": [
    {
     "name": "stdout",
     "output_type": "stream",
     "text": [
      "FseqPOC pixel + area: (9202, 343.02957342925237)\n",
      "FseqDOC pixel + area: (10276, 351.7488109020153)\n",
      "FseqMigrD pixel + area: (9072, 340.1940115804165)\n",
      "FseqMigrS pixel + area: (205, 4.696420385705691)\n",
      "FseqBCPs pixel + area: (10306, 352.6073080372907)\n",
      "Fseq2000m pixel + area: (7952, 308.33030463063744)\n",
      "FseqSedim pixel + area: (10339, 353.172816305548)\n"
     ]
    }
   ],
   "source": [
    "compute_pixel_area_version(FseqPOC_H_100m, FseqDOC_H_100m, FseqMigrD_H_100m, FseqMigrS_H_100m, FseqBCPs_H_100m, FseqPOC2000m_martin, Fsedim, pixelArea, mask)"
   ]
  },
  {
   "cell_type": "markdown",
   "metadata": {},
   "source": [
    "# CONVERSE VERSION 2 (C2)\n",
    "\n",
    "## with Fexp = FexpHenson, Zexp = 100 m and b = b of Henson (geographically variable b)"
   ]
  },
  {
   "cell_type": "code",
   "execution_count": 59,
   "metadata": {},
   "outputs": [
    {
     "name": "stderr",
     "output_type": "stream",
     "text": [
      "<ipython-input-59-3f69f5b9cf46>:42: RuntimeWarning: Mean of empty slice\n",
      "  FreminMigrS_H_100m = np.nanmean(FreminMigrS_H_100m, axis = 0)\n",
      "<ipython-input-59-3f69f5b9cf46>:43: RuntimeWarning: Mean of empty slice\n",
      "  FseqMigrS_H_100m = np.nanmean(FseqMigrS_H_100m, axis = 0)\n",
      "<ipython-input-59-3f69f5b9cf46>:49: RuntimeWarning: Mean of empty slice\n",
      "  FseqPOC2000m_henson = np.nanmean(FseqPOC2000m_henson, axis = 0)\n"
     ]
    },
    {
     "name": "stdout",
     "output_type": "stream",
     "text": [
      "CHECK THAT IT WAS COMPUTED FOR B HENSON\n",
      "Global Fseq(POC): 0.92  GtC/year\n",
      "Global Fseq(DOC): 0.13  GtC/year\n",
      "Global Fseq(Migr Diel): 0.11  GtC/year\n",
      "Global Fseq(Migr Season): 0.004  GtC/year\n",
      "Global Fseq(Sediment): 0.03  GtC/year\n",
      "Global BCPs: 1.1600000000000001 GtC/year\n",
      "\n",
      "Global Fexp: 3.01 GtC/year\n",
      "Global F*seq(POC): 0.31\n",
      "Global F*seqBCPs: 0.39\n",
      "Global F*seq(sedim): 0.008\n",
      "\n",
      "MEDIAN VALUES\n",
      "Median Fseq(POC): 2.05  gC/m2/year\n",
      "Median Fseq(DOC): 0.18  gC/m2/year\n",
      "Median Fseq(Migr Diel): 0.21  gC/m2/year\n",
      "Median Fseq(Migr Season): 0.94  gC/m2/year\n",
      "Median BCPs: 2.44 gC/m2/year\n",
      "Median Fseq(Sediment) 0.05 gC/m2/year\n",
      "\n",
      "MEAN VALUES\n",
      "Mean Fseq(POC): 2.64  gC/m2/year\n",
      "Mean Fseq(DOC): 0.5  gC/m2/year\n",
      "Mean Fseq(Migr Diel): 0.37  gC/m2/year\n",
      "Mean Fseq(Migr Season): 0.88  gC/m2/year\n",
      "Mean BCPs: 3.19 gC/m2/year\n",
      "Mean Fseq(Sediment) 0.08 gC/m2/year\n",
      "\n",
      "Sequestration flux at 2000 m: 0.42\n",
      "F*seq(2000): 0.14\n",
      "\n",
      "FseqPOC(>2000m) 0.38\n",
      "FseqBCP(>2000m) 0.39\n",
      "F*seqBCP(>2000m) 0.13\n",
      "\n",
      "Sequestration flux at 1000 m: 0.68\n",
      "F*seq(1000): 0.23\n",
      "\n",
      "FseqPOC(>1000m) 0.59\n",
      "FseqBCP(>1000m) 0.61\n",
      "F*seqBCP(>1000m) 0.2\n",
      "\n",
      "Values min/max/median for FreminMigrS:\n",
      "Min:  0.49\n",
      "Max:  3.48\n",
      "Median:  2.0\n"
     ]
    },
    {
     "name": "stderr",
     "output_type": "stream",
     "text": [
      "<ipython-input-59-3f69f5b9cf46>:55: RuntimeWarning: Mean of empty slice\n",
      "  FseqPOC1000m_henson = np.nanmean(FseqPOC1000m_henson, axis = 0)\n"
     ]
    }
   ],
   "source": [
    "# POC below Zexp (Top)\n",
    "FreminPOC_H_water_100m, FseqPOC_H_water_100m, FseqDeep_H_100m, FseqDeepestOrg_C2 = compute_sequestration_in_water(zmax, depthT, b_henson, f100, FexpH, ZexpH)\n",
    "#FseqDeep_C2 = FseqDeep_H_100m\n",
    "FseqDeep_H_100m = FseqDeep_H_100m[:,:,np.newaxis] \n",
    "FseqPOC_H_100m = np.nansum(np.concatenate((FseqPOC_H_water_100m[:,:,8:], FseqDeep_H_100m), axis = 2), axis = 2)\n",
    "FseqPOC_H_100m = np.where(FseqPOC_H_100m == 0.0, np.nan, FseqPOC_H_100m)\n",
    "\n",
    "# POC below 2000 m\n",
    "FseqPOC_H_below_2000m = np.concatenate((FseqPOC_H_water_100m, FseqDeep_H_100m), axis = 2)\n",
    "FseqPOC_H_below_2000m = np.nansum(FseqPOC_H_below_2000m[:,:,33:], axis = 2) * mask_2000m\n",
    "FseqPOC_H_below_2000m = np.where(FseqPOC_H_below_2000m == 0.0, np.nan, FseqPOC_H_below_2000m)\n",
    "\n",
    "# POC below 1000 m\n",
    "FseqPOC_H_below_1000m = np.concatenate((FseqPOC_H_water_100m, FseqDeep_H_100m), axis = 2)\n",
    "FseqPOC_H_below_1000m = np.nansum(FseqPOC_H_below_1000m[:,:,25:], axis = 2) * mask_1000m\n",
    "FseqPOC_H_below_1000m = np.where(FseqPOC_H_below_1000m == 0.0, np.nan, FseqPOC_H_below_1000m)\n",
    "\n",
    "# DOC below Top\n",
    "FseqDOC_H_100m = FseqDOC_ST_100m * ratio_export_global # if Zexp = 100m\n",
    "\n",
    "# DOC below 2000 m\n",
    "FseqDOC_below_2000m = FseqDOC_ST_below_2000m * ratio_export_global\n",
    "\n",
    "# FseqBCP > 2000\n",
    "FseqBCP_below_2000m = add_matrix(FseqPOC_H_below_2000m, FseqDOC_below_2000m)\n",
    "\n",
    "# DOC below 1000 m\n",
    "FseqDOC_below_1000m = FseqDOC_ST_below_1000m * ratio_export_global\n",
    "\n",
    "# FseqBCP > 1000\n",
    "FseqBCP_below_1000m = add_matrix(FseqPOC_H_below_1000m, FseqDOC_below_1000m)\n",
    "\n",
    "# Migration Daily\n",
    "FreminMigrD_H_100m, FseqMigrD_H_100m = compute_FmigrD(FexpH)\n",
    "\n",
    "# Migration Seasonally\n",
    "FreminMigrS_H_100m = np.zeros((12,91,180))\n",
    "FseqMigrS_H_100m = np.zeros((12,91,180))\n",
    "for i in range(12):\n",
    "    FreminMigrS_H_100m[i,:,:], FseqMigrS_H_100m[i,:,:] = compute_Fseq_migr_seasonal(b_henson, FexpH, ZexpH, POCflux[i,:,:,:], False)\n",
    "# average\n",
    "FreminMigrS_H_100m = np.nanmean(FreminMigrS_H_100m, axis = 0)\n",
    "FseqMigrS_H_100m = np.nanmean(FseqMigrS_H_100m, axis = 0)\n",
    "\n",
    "# Fseq(2000m)\n",
    "FseqPOC2000m_henson = np.zeros((12,91,180))\n",
    "for i in range(12):\n",
    "    FseqPOC2000m_henson[i,:,:] = compute_FseqPOC_2000m(b_henson, FexpH, ZexpH, POCflux[i,:,:,:])\n",
    "FseqPOC2000m_henson = np.nanmean(FseqPOC2000m_henson, axis = 0)\n",
    "\n",
    "# Fseq(1000m)\n",
    "FseqPOC1000m_henson = np.zeros((12,91,180))\n",
    "for i in range(12):\n",
    "    FseqPOC1000m_henson[i,:,:] = compute_FseqPOC_1000m(b_henson, FexpH, ZexpH, POCflux[i,:,:,:])\n",
    "FseqPOC1000m_henson = np.nanmean(FseqPOC1000m_henson, axis = 0)\n",
    "\n",
    "# Henson - b Martin\n",
    "print('CHECK THAT IT WAS COMPUTED FOR B HENSON')\n",
    "printResult(FseqPOC_H_100m, FseqDOC_H_100m, FseqMigrD_H_100m, FseqMigrS_H_100m, Fsedim, pixelArea, mask)\n",
    "# with ratio reference\n",
    "print('')\n",
    "printResult_ratio_reference(FseqPOC_H_100m, FseqDOC_H_100m, FseqMigrD_H_100m, FseqMigrS_H_100m, pixelArea, mask, FexpH)\n",
    "print('')\n",
    "FseqBCPs_H_100m = printResult_mean_median(FseqPOC_H_100m, FseqDOC_H_100m, FseqMigrD_H_100m, FseqMigrS_H_100m, Fsedim, pixelArea, mask)\n",
    "FseqBCPs_H_100m_C2 = FseqBCPs_H_100m\n",
    "print('\\nSequestration flux at 2000 m:', np.round(compute_flux_total(FseqPOC2000m_henson*mask, pixelArea), 2))\n",
    "ref = compute_flux_total(FexpH*mask, pixelArea)\n",
    "print('F*seq(2000):', np.round(compute_flux_total(FseqPOC2000m_henson*mask, pixelArea)/ref, 2))\n",
    "\n",
    "print('\\nFseqPOC(>2000m)', np.round(compute_flux_total(FseqPOC_H_below_2000m*mask, pixelArea), 2))\n",
    "print('FseqBCP(>2000m)', np.round(compute_flux_total(FseqBCP_below_2000m*mask, pixelArea), 2))\n",
    "print('F*seqBCP(>2000m)', np.round(compute_flux_total(FseqBCP_below_2000m*mask, pixelArea)/ref, 2))\n",
    "\n",
    "# 1000 m\n",
    "print('\\nSequestration flux at 1000 m:', np.round(compute_flux_total(FseqPOC1000m_henson*mask, pixelArea), 2))\n",
    "print('F*seq(1000):', np.round(compute_flux_total(FseqPOC1000m_henson*mask, pixelArea)/ref, 2))\n",
    "print('\\nFseqPOC(>1000m)', np.round(compute_flux_total(FseqPOC_H_below_1000m*mask, pixelArea), 2))\n",
    "print('FseqBCP(>1000m)', np.round(compute_flux_total(FseqBCP_below_1000m*mask, pixelArea), 2))\n",
    "print('F*seqBCP(>1000m)', np.round(compute_flux_total(FseqBCP_below_1000m*mask, pixelArea)/ref, 2))\n",
    "\n",
    "min_valMigrS, max_valMigrS, median_valMigrS = compute_min_max_median_FreminMigrS(FreminMigrS_H_100m)\n",
    "print('\\nValues min/max/median for FreminMigrS:')\n",
    "print('Min: ', np.round(min_valMigrS, 2))\n",
    "print('Max: ', np.round(max_valMigrS, 2))\n",
    "print('Median: ', np.round(median_valMigrS, 2))\n",
    "\n",
    "# save data for plot\n",
    "FseqPOC_H_100m_henson = FseqPOC_H_100m\n",
    "FseqDOC_H_100m_henson = FseqDOC_H_100m\n",
    "#FseqDOC_H_100m_henson = np.where(FseqDOC_H_100m_henson<1e-3, 1e-3, FseqDOC_H_100m_henson) \n",
    "FseqMigrD_H_100m_henson = FseqMigrD_H_100m\n",
    "FseqMigrS_H_100m_henson = FseqMigrS_H_100m\n",
    "FseqBCPs_H_100m_henson = FseqBCPs_H_100m"
   ]
  },
  {
   "cell_type": "code",
   "execution_count": 60,
   "metadata": {},
   "outputs": [
    {
     "name": "stdout",
     "output_type": "stream",
     "text": [
      "FseqPOC pixel + area: (9202, 343.02957342925237)\n",
      "FseqDOC pixel + area: (10276, 351.7488109020153)\n",
      "FseqMigrD pixel + area: (9072, 340.1940115804165)\n",
      "FseqMigrS pixel + area: (205, 4.696420385705691)\n",
      "FseqBCPs pixel + area: (10306, 352.6073080372907)\n",
      "Fseq2000m pixel + area: (7952, 308.33030463063744)\n",
      "FseqSedim pixel + area: (10339, 353.172816305548)\n"
     ]
    }
   ],
   "source": [
    "compute_pixel_area_version(FseqPOC_H_100m, FseqDOC_H_100m, FseqMigrD_H_100m, FseqMigrS_H_100m, FseqBCPs_H_100m, FseqPOC2000m_henson, Fsedim, pixelArea, mask)"
   ]
  },
  {
   "cell_type": "markdown",
   "metadata": {},
   "source": [
    "# CONVERSE VERSION 3 (C3)\n",
    "\n",
    "## with Fexp = FexpHenson, Zexp = 100 m and b = b of Guidi (regionally variable b)"
   ]
  },
  {
   "cell_type": "code",
   "execution_count": 61,
   "metadata": {},
   "outputs": [
    {
     "name": "stderr",
     "output_type": "stream",
     "text": [
      "<ipython-input-61-74e8b54ba6f5>:42: RuntimeWarning: Mean of empty slice\n",
      "  FreminMigrS_H_100m = np.nanmean(FreminMigrS_H_100m, axis = 0)\n",
      "<ipython-input-61-74e8b54ba6f5>:43: RuntimeWarning: Mean of empty slice\n",
      "  FseqMigrS_H_100m = np.nanmean(FseqMigrS_H_100m, axis = 0)\n",
      "<ipython-input-61-74e8b54ba6f5>:49: RuntimeWarning: Mean of empty slice\n",
      "  FseqPOC2000m_guidi = np.nanmean(FseqPOC2000m_guidi, axis = 0)\n"
     ]
    },
    {
     "name": "stdout",
     "output_type": "stream",
     "text": [
      "CHECK THAT IT WAS COMPUTED FOR B GUIDI\n",
      "Global Fseq(POC): 0.71  GtC/year\n",
      "Global Fseq(DOC): 0.13  GtC/year\n",
      "Global Fseq(Migr Diel): 0.11  GtC/year\n",
      "Global Fseq(Migr Season): 0.001  GtC/year\n",
      "Global Fseq(Sediment): 0.03  GtC/year\n",
      "Global BCPs: 0.95 GtC/year\n",
      "\n",
      "Global Fexp: 3.01 GtC/year\n",
      "Global F*seq(POC): 0.24\n",
      "Global F*seqBCPs: 0.32\n",
      "Global F*seq(sedim): 0.008\n",
      "\n",
      "MEDIAN VALUES\n",
      "Median Fseq(POC): 1.53  gC/m2/year\n",
      "Median Fseq(DOC): 0.18  gC/m2/year\n",
      "Median Fseq(Migr Diel): 0.21  gC/m2/year\n",
      "Median Fseq(Migr Season): 0.21  gC/m2/year\n",
      "Median BCPs: 1.87 gC/m2/year\n",
      "Median Fseq(Sediment) 0.05 gC/m2/year\n",
      "\n",
      "MEAN VALUES\n",
      "Mean Fseq(POC): 2.06  gC/m2/year\n",
      "Mean Fseq(DOC): 0.5  gC/m2/year\n",
      "Mean Fseq(Migr Diel): 0.37  gC/m2/year\n",
      "Mean Fseq(Migr Season): 0.24  gC/m2/year\n",
      "Mean BCPs: 2.66 gC/m2/year\n",
      "Mean Fseq(Sediment) 0.08 gC/m2/year\n",
      "\n",
      "Sequestration flux at 2000 m: 0.26\n",
      "F*seq(2000): 0.09\n",
      "\n",
      "FseqPOC(>2000m) 0.22\n",
      "FseqBCP(>2000m) 0.24\n",
      "F*seqBCP(>2000m) 0.08\n",
      "\n",
      "Sequestration flux at 1000 m: 0.47\n",
      "F*seq(1000): 0.16\n",
      "\n",
      "FseqPOC(>1000m) 0.39\n",
      "FseqBCP(>1000m) 0.41\n",
      "F*seqBCP(>1000m) 0.14\n",
      "\n",
      "Values min/max/median for FreminMigrS:\n",
      "Min:  0.18\n",
      "Max:  4.1\n",
      "Median:  0.46\n"
     ]
    },
    {
     "name": "stderr",
     "output_type": "stream",
     "text": [
      "<ipython-input-61-74e8b54ba6f5>:55: RuntimeWarning: Mean of empty slice\n",
      "  FseqPOC1000m_guidi = np.nanmean(FseqPOC1000m_guidi, axis = 0)\n"
     ]
    }
   ],
   "source": [
    "# POC below Zexp (Top)\n",
    "FreminPOC_H_water_100m, FseqPOC_H_water_100m, FseqDeep_H_100m, FseqDeepestOrg_C3 = compute_sequestration_in_water(zmax, depthT, b_guidi, f100, FexpH, ZexpH)\n",
    "#FseqDeep_C3 = FseqDeep_H_100m\n",
    "FseqDeep_H_100m = FseqDeep_H_100m[:,:,np.newaxis] \n",
    "FseqPOC_H_100m = np.nansum(np.concatenate((FseqPOC_H_water_100m[:,:,8:], FseqDeep_H_100m), axis = 2), axis = 2)\n",
    "FseqPOC_H_100m = np.where(FseqPOC_H_100m == 0.0, np.nan, FseqPOC_H_100m)\n",
    "\n",
    "# POC below 2000 m\n",
    "FseqPOC_H_below_2000m = np.concatenate((FseqPOC_H_water_100m, FseqDeep_H_100m), axis = 2)\n",
    "FseqPOC_H_below_2000m = np.nansum(FseqPOC_H_below_2000m[:,:,33:], axis = 2) * mask_2000m\n",
    "FseqPOC_H_below_2000m = np.where(FseqPOC_H_below_2000m == 0.0, np.nan, FseqPOC_H_below_2000m)\n",
    "\n",
    "# POC below 1000 m\n",
    "FseqPOC_H_below_1000m = np.concatenate((FseqPOC_H_water_100m, FseqDeep_H_100m), axis = 2)\n",
    "FseqPOC_H_below_1000m = np.nansum(FseqPOC_H_below_1000m[:,:,25:], axis = 2) * mask_1000m\n",
    "FseqPOC_H_below_1000m = np.where(FseqPOC_H_below_1000m == 0.0, np.nan, FseqPOC_H_below_1000m)\n",
    "\n",
    "# DOC below Top\n",
    "FseqDOC_H_100m = FseqDOC_ST_100m * ratio_export_global # if Zexp = 100m\n",
    "\n",
    "# DOC below 2000 m\n",
    "FseqDOC_below_2000m = FseqDOC_ST_below_2000m * ratio_export_global\n",
    "\n",
    "# FseqBCP > 2000\n",
    "FseqBCP_below_2000m = add_matrix(FseqPOC_H_below_2000m, FseqDOC_below_2000m)\n",
    "\n",
    "# DOC below 1000 m\n",
    "FseqDOC_below_1000m = FseqDOC_ST_below_1000m * ratio_export_global\n",
    "\n",
    "# FseqBCP > 1000\n",
    "FseqBCP_below_1000m = add_matrix(FseqPOC_H_below_1000m, FseqDOC_below_1000m)\n",
    "\n",
    "# Migration Daily\n",
    "FreminMigrD_H_100m, FseqMigrD_H_100m = compute_FmigrD(FexpH)\n",
    "\n",
    "# Migration Seasonally\n",
    "FreminMigrS_H_100m = np.zeros((12,91,180))\n",
    "FseqMigrS_H_100m = np.zeros((12,91,180))\n",
    "for i in range(12):\n",
    "    FreminMigrS_H_100m[i,:,:], FseqMigrS_H_100m[i,:,:] = compute_Fseq_migr_seasonal(b_guidi, FexpH, ZexpH, POCflux[i,:,:,:], False)\n",
    "# average\n",
    "FreminMigrS_H_100m = np.nanmean(FreminMigrS_H_100m, axis = 0)\n",
    "FseqMigrS_H_100m = np.nanmean(FseqMigrS_H_100m, axis = 0)\n",
    "\n",
    "# Fseq(2000m)\n",
    "FseqPOC2000m_guidi = np.zeros((12,91,180))\n",
    "for i in range(12):\n",
    "    FseqPOC2000m_guidi[i,:,:] = compute_FseqPOC_2000m(b_guidi, FexpH, ZexpH, POCflux[i,:,:,:])\n",
    "FseqPOC2000m_guidi = np.nanmean(FseqPOC2000m_guidi, axis = 0)\n",
    "\n",
    "# Fseq(1000m)\n",
    "FseqPOC1000m_guidi = np.zeros((12,91,180))\n",
    "for i in range(12):\n",
    "    FseqPOC1000m_guidi[i,:,:] = compute_FseqPOC_1000m(b_guidi, FexpH, ZexpH, POCflux[i,:,:,:])\n",
    "FseqPOC1000m_guidi = np.nanmean(FseqPOC1000m_guidi, axis = 0)\n",
    "\n",
    "# Henson - b Martin\n",
    "print('CHECK THAT IT WAS COMPUTED FOR B GUIDI')\n",
    "printResult(FseqPOC_H_100m, FseqDOC_H_100m, FseqMigrD_H_100m, FseqMigrS_H_100m, Fsedim, pixelArea, mask)\n",
    "# with ratio reference\n",
    "print('')\n",
    "printResult_ratio_reference(FseqPOC_H_100m, FseqDOC_H_100m, FseqMigrD_H_100m, FseqMigrS_H_100m, pixelArea, mask, FexpH)\n",
    "print('')\n",
    "FseqBCPs_H_100m = printResult_mean_median(FseqPOC_H_100m, FseqDOC_H_100m, FseqMigrD_H_100m, FseqMigrS_H_100m, Fsedim, pixelArea, mask)\n",
    "FseqBCPs_H_100m_C3 = FseqBCPs_H_100m\n",
    "print('\\nSequestration flux at 2000 m:', np.round(compute_flux_total(FseqPOC2000m_guidi*mask, pixelArea), 2))\n",
    "ref = compute_flux_total(FexpH*mask, pixelArea)\n",
    "print('F*seq(2000):', np.round(compute_flux_total(FseqPOC2000m_guidi*mask, pixelArea)/ref, 2))\n",
    "\n",
    "print('\\nFseqPOC(>2000m)', np.round(compute_flux_total(FseqPOC_H_below_2000m*mask, pixelArea), 2))\n",
    "print('FseqBCP(>2000m)', np.round(compute_flux_total(FseqBCP_below_2000m*mask, pixelArea), 2))\n",
    "print('F*seqBCP(>2000m)', np.round(compute_flux_total(FseqBCP_below_2000m*mask, pixelArea)/ref, 2))\n",
    "\n",
    "# 1000 m\n",
    "print('\\nSequestration flux at 1000 m:', np.round(compute_flux_total(FseqPOC1000m_guidi*mask, pixelArea), 2))\n",
    "ref = compute_flux_total(FexpH*mask, pixelArea)\n",
    "print('F*seq(1000):', np.round(compute_flux_total(FseqPOC1000m_guidi*mask, pixelArea)/ref, 2))\n",
    "\n",
    "print('\\nFseqPOC(>1000m)', np.round(compute_flux_total(FseqPOC_H_below_1000m*mask, pixelArea), 2))\n",
    "print('FseqBCP(>1000m)', np.round(compute_flux_total(FseqBCP_below_1000m*mask, pixelArea), 2))\n",
    "print('F*seqBCP(>1000m)', np.round(compute_flux_total(FseqBCP_below_1000m*mask, pixelArea)/ref, 2))\n",
    "\n",
    "min_valMigrS, max_valMigrS, median_valMigrS = compute_min_max_median_FreminMigrS(FreminMigrS_H_100m)\n",
    "print('\\nValues min/max/median for FreminMigrS:')\n",
    "print('Min: ', np.round(min_valMigrS, 2))\n",
    "print('Max: ', np.round(max_valMigrS, 2))\n",
    "print('Median: ', np.round(median_valMigrS, 2))\n",
    "\n",
    "# save data for plot\n",
    "FseqPOC_H_100m_guidi = FseqPOC_H_100m\n",
    "FseqDOC_H_100m_guidi = FseqDOC_H_100m\n",
    "# FseqDOC_H_100m_guidi = np.where(FseqDOC_H_100m_guidi<1e-3, 1e-3, FseqDOC_H_100m_guidi) \n",
    "FseqMigrD_H_100m_guidi = FseqMigrD_H_100m\n",
    "FseqMigrS_H_100m_guidi = FseqMigrS_H_100m\n",
    "FseqBCPs_H_100m_guidi = FseqBCPs_H_100m"
   ]
  },
  {
   "cell_type": "code",
   "execution_count": 62,
   "metadata": {},
   "outputs": [
    {
     "name": "stdout",
     "output_type": "stream",
     "text": [
      "FseqPOC pixel + area: (9202, 343.02957342925237)\n",
      "FseqDOC pixel + area: (10276, 351.7488109020153)\n",
      "FseqMigrD pixel + area: (9072, 340.1940115804165)\n",
      "FseqMigrS pixel + area: (205, 4.696420385705691)\n",
      "FseqBCPs pixel + area: (10306, 352.6073080372907)\n",
      "Fseq2000m pixel + area: (7952, 308.33030463063744)\n",
      "FseqSedim pixel + area: (10339, 353.172816305548)\n"
     ]
    }
   ],
   "source": [
    "compute_pixel_area_version(FseqPOC_H_100m, FseqDOC_H_100m, FseqMigrD_H_100m, FseqMigrS_H_100m, FseqBCPs_H_100m, FseqPOC2000m_guidi, Fsedim, pixelArea, mask)"
   ]
  },
  {
   "cell_type": "markdown",
   "metadata": {},
   "source": [
    "## f100 depth-averaged value below 1000 m, below 500 m et below 300 m"
   ]
  },
  {
   "cell_type": "code",
   "execution_count": 63,
   "metadata": {},
   "outputs": [],
   "source": [
    "def depth_average_below_x(x, zmax = zmax, depthT = depthT, f100 = f100, latT = latT, lonT = lonT):\n",
    "    \n",
    "    # subset depthT below x [m]\n",
    "    depth_layer = depthT[depthT>x]\n",
    "    start_index = len(depthT[depthT<x])\n",
    "    \n",
    "    # depth-average f100 matrix below x\n",
    "    weighted_mean_f100_x = np.zeros(f100[:,:,0].shape) # only for layers below Zeu\n",
    "\n",
    "    for i, lat in enumerate(latT):\n",
    "        for j, lon in enumerate(lonT):\n",
    "            r = int(np.array(np.where(latT == lat))) # r for row\n",
    "            c = int(np.array(np.where(lonT == lon))) # c for column\n",
    "            #print(r,c)\n",
    "            zmax_pixel = zmax[r,c] # deepest depth of that pixel before reaching the sediment\n",
    "            f100_wm = [] # f100 weighted mean (wm)\n",
    "            deltaz_pixel = [] \n",
    "            for k, depth in enumerate(depth_layer):\n",
    "                if np.isnan(zmax_pixel): # land pixel\n",
    "                    weighted_mean_f100_x[r,c] = np.nan\n",
    "                elif zmax_pixel < x:\n",
    "                    weighted_mean_f100_x[r,c] = np.nan\n",
    "                elif zmax_pixel == np.min(depth_layer): # case of one half-cell only\n",
    "                    #deltaz = np.min(depth_layer) - x\n",
    "                    #weighted_mean_f100_x[r,c] = 1/(deltaz*f100[r,c,k])\n",
    "                    # other option : for half-cell cases, put a nan\n",
    "                    weighted_mean_f100_x[r,c] = np.nan\n",
    "                    break\n",
    "                elif depth == np.min(depth_layer): # case at the first cell\n",
    "                    #deltaz = (depth_layer[k]+depth_layer[k+1])/2\n",
    "                    deltaz = ((depth_layer[k]+depth_layer[k+1])/2) - ((x+depth_layer[k])/2)\n",
    "                    deltaz_pixel.append(deltaz)\n",
    "                    f100_wm.append(f100[r,c,k+start_index] * deltaz)\n",
    "                elif depth == zmax_pixel: # case at zmax_pixel\n",
    "                    deltaz = zmax_pixel - ((zmax_pixel+depth_layer[k-1])/2)\n",
    "                    deltaz_pixel.append(deltaz)\n",
    "                    f100_wm.append(f100[r,c,k+start_index] * deltaz)\n",
    "                    # compute weighted mean here, at zmax\n",
    "                    weighted_mean_f100_x[r,c] = (1/np.sum(np.array(deltaz_pixel)))*np.sum(np.array(f100_wm))\n",
    "                    break\n",
    "                else:\n",
    "                    deltaz = ((depth_layer[k]+depth_layer[k+1])/2) - ((depth_layer[k-1]+depth_layer[k])/2)\n",
    "                    deltaz_pixel.append(deltaz)\n",
    "                    f100_wm.append(f100[r,c,k+start_index] * deltaz)\n",
    "    return(x, weighted_mean_f100_x)"
   ]
  },
  {
   "cell_type": "code",
   "execution_count": 64,
   "metadata": {},
   "outputs": [],
   "source": [
    "_, weighted_mean_300 = depth_average_below_x(300)\n",
    "_, weighted_mean_500 = depth_average_below_x(500)\n",
    "_, weighted_mean_1000 = depth_average_below_x(1000)"
   ]
  },
  {
   "cell_type": "code",
   "execution_count": 65,
   "metadata": {},
   "outputs": [
    {
     "name": "stdout",
     "output_type": "stream",
     "text": [
      "0.7502067903829271\n",
      "0.7944499177699652\n",
      "0.870487534776896\n",
      "\n",
      "\n",
      "0.7875240414369999\n",
      "0.8302475258043482\n",
      "0.9065689059807021\n"
     ]
    }
   ],
   "source": [
    "print(np.nanmean(weighted_mean_300))\n",
    "print(np.nanmean(weighted_mean_500))\n",
    "print(np.nanmean(weighted_mean_1000))\n",
    "print('\\n')\n",
    "print(np.nanmedian(weighted_mean_300))\n",
    "print(np.nanmedian(weighted_mean_500))\n",
    "print(np.nanmedian(weighted_mean_1000))"
   ]
  },
  {
   "cell_type": "code",
   "execution_count": 66,
   "metadata": {},
   "outputs": [
    {
     "name": "stdout",
     "output_type": "stream",
     "text": [
      "0.18102573733547414\n",
      "0.3326948248882252\n",
      "0.6744694221742985\n",
      "\n",
      "\n",
      "0.13683002894005702\n",
      "0.2830868495673392\n",
      "0.7284347722276803\n"
     ]
    }
   ],
   "source": [
    "# mean f100 at 300, 500 and 1000m\n",
    "depthT[15] # 300 m\n",
    "depthT[19] # 500 m\n",
    "depthT[25] # 1000 m\n",
    "\n",
    "print(np.nanmean(f100[:,:,15]))\n",
    "print(np.nanmean(f100[:,:,19]))\n",
    "print(np.nanmean(f100[:,:,25]))\n",
    "print('\\n')\n",
    "print(np.nanmedian(f100[:,:,15]))\n",
    "print(np.nanmedian(f100[:,:,19]))\n",
    "print(np.nanmedian(f100[:,:,25]))"
   ]
  },
  {
   "cell_type": "markdown",
   "metadata": {},
   "source": [
    "# Dispersion diagram to compare FseqSedim and FseqDeep"
   ]
  },
  {
   "cell_type": "code",
   "execution_count": 67,
   "metadata": {},
   "outputs": [],
   "source": [
    "def compute_ratio_FseqSedim_FseqDeep(Fsedim, FseqDeep, converse_version):\n",
    "    \n",
    "    # put NaN values where ratio will be infinite (i.e. where FseqDeep equals 0)\n",
    "    FseqDeep = np.where(FseqDeep == 0.0, np.nan, FseqDeep)\n",
    "    \n",
    "    # compute ratio \n",
    "    ratio = Fsedim/FseqDeep\n",
    "    \n",
    "    # compute mean and median ratio\n",
    "    mean_ratio = round(np.nanmean(ratio),2)\n",
    "    median_ratio = round(np.nanmedian(ratio),2)\n",
    "    min_ratio = round(np.nanmin(ratio),2)\n",
    "    max_ratio = round(np.nanmax(ratio),2)\n",
    "    \n",
    "    # compute standard deviation\n",
    "    std_ratio = round(np.nanstd(ratio),2)\n",
    "    q25 = round(np.percentile(ratio.flatten()[np.where(~np.isnan(ratio.flatten()))[0]], 25),2)\n",
    "    q75 = round(np.percentile(ratio.flatten()[np.where(~np.isnan(ratio.flatten()))[0]], 75),2)\n",
    "    \n",
    "    # compute Pearson correlation coefficient\n",
    "    #x = Fsedim.flatten()[~np.isnan(Fsedim.flatten())]\n",
    "    #y = FseqDeep.flatten()[~np.isnan(FseqDeep.flatten())]\n",
    "    diff_array = Fsedim.flatten()-FseqDeep.flatten()\n",
    "    index_to_keep = np.where(~np.isnan(diff_array))\n",
    "    x = Fsedim.flatten()[index_to_keep]\n",
    "    y = FseqDeep.flatten()[index_to_keep]\n",
    "    correlation_coef = np.corrcoef(x, y)\n",
    "    cor = round(correlation_coef[0,1],2)\n",
    "    \n",
    "    # pixel number\n",
    "    pixel_defined = np.sum(~np.isnan(ratio))\n",
    "    pixel_ratio_above_1 = len(np.where(ratio >1)[0])\n",
    "    percentage_pixel_ratio_above_1 = round((pixel_ratio_above_1/pixel_defined)*100,2)\n",
    "    \n",
    "    #print('mean ratio: ', mean_ratio)\n",
    "    print('converse version:', converse_version)\n",
    "    print('median (ratio):', median_ratio)\n",
    "    #print('min ratio: ', min_ratio)\n",
    "    #print('max ratio: ', max_ratio)\n",
    "    #print('std ratio: ', std_ratio)\n",
    "    print('Q25 - Q75 (ratio):', q25, '-', q75)\n",
    "    print('correlation FseqSedim - ForgPOC_deepest: ', cor)\n",
    "    print('(%) > 1 ', percentage_pixel_ratio_above_1, '\\n')\n",
    "    \n",
    "    #return(ratio, mean_ratio, median_ratio, std_ratio, correlation_coef[0,1])\n",
    "    return(ratio)"
   ]
  },
  {
   "cell_type": "code",
   "execution_count": 68,
   "metadata": {},
   "outputs": [
    {
     "name": "stdout",
     "output_type": "stream",
     "text": [
      "converse version: C1\n",
      "median (ratio): 0.14\n",
      "Q25 - Q75 (ratio): 0.07 - 0.27\n",
      "correlation FseqSedim - ForgPOC_deepest:  0.17\n",
      "(%) > 1  1.84 \n",
      "\n",
      "converse version: C2\n",
      "median (ratio): 0.06\n",
      "Q25 - Q75 (ratio): 0.04 - 0.12\n",
      "correlation FseqSedim - ForgPOC_deepest:  0.22\n",
      "(%) > 1  0.96 \n",
      "\n",
      "converse version: C3\n",
      "median (ratio): 0.14\n",
      "Q25 - Q75 (ratio): 0.07 - 0.35\n",
      "correlation FseqSedim - ForgPOC_deepest:  0.18\n",
      "(%) > 1  14.64 \n",
      "\n",
      "converse version: C4\n",
      "median (ratio): 0.27\n",
      "Q25 - Q75 (ratio): 0.17 - 0.51\n",
      "correlation FseqSedim - ForgPOC_deepest:  0.17\n",
      "(%) > 1  11.36 \n",
      "\n",
      "converse version: C5\n",
      "median (ratio): 0.27\n",
      "Q25 - Q75 (ratio): 0.17 - 0.51\n",
      "correlation FseqSedim - ForgPOC_deepest:  0.17\n",
      "(%) > 1  11.36 \n",
      "\n",
      "converse version: C6\n",
      "median (ratio): 0.66\n",
      "Q25 - Q75 (ratio): 0.4 - 1.25\n",
      "correlation FseqSedim - ForgPOC_deepest:  0.17\n",
      "(%) > 1  32.54 \n",
      "\n",
      "converse version: C7\n",
      "median (ratio): 0.14\n",
      "Q25 - Q75 (ratio): 0.07 - 0.27\n",
      "correlation FseqSedim - ForgPOC_deepest:  0.17\n",
      "(%) > 1  1.84 \n",
      "\n"
     ]
    }
   ],
   "source": [
    "ratioC1 = compute_ratio_FseqSedim_FseqDeep(Fsedim, FseqDeepestOrg_C1, 'C1')\n",
    "\n",
    "ratioC2 = compute_ratio_FseqSedim_FseqDeep(Fsedim, FseqDeepestOrg_C2, 'C2')\n",
    "\n",
    "ratioC3 = compute_ratio_FseqSedim_FseqDeep(Fsedim, FseqDeepestOrg_C3, 'C3')\n",
    " \n",
    "ratioC4 = compute_ratio_FseqSedim_FseqDeep(Fsedim, FseqDeepestOrg_C4, 'C4')\n",
    "\n",
    "ratioC5 = compute_ratio_FseqSedim_FseqDeep(Fsedim, FseqDeepestOrg_C5, 'C5')\n",
    "\n",
    "ratioC6 = compute_ratio_FseqSedim_FseqDeep(Fsedim, FseqDeepestOrg_C6, 'C6')\n",
    "\n",
    "ratioC7 = compute_ratio_FseqSedim_FseqDeep(Fsedim, FseqDeepestOrg_C7, 'C7')"
   ]
  },
  {
   "cell_type": "code",
   "execution_count": 69,
   "metadata": {},
   "outputs": [
    {
     "name": "stdout",
     "output_type": "stream",
     "text": [
      "0.2\n",
      "0.08\n",
      "0.46\n",
      "11.02\n"
     ]
    }
   ],
   "source": [
    "# compute some stats on combined data (all CONVERSE versions)\n",
    "ratio_all_C_versions = np.concatenate(np.array([ratioC1.flatten(), ratioC2.flatten(), ratioC3.flatten(), ratioC4.flatten(), ratioC5.flatten(), ratioC6.flatten(), ratioC7.flatten()]))\n",
    "median_ratio_all = round(np.nanmedian(ratio_all_C_versions),2)\n",
    "q25_ratio_all = round(np.percentile(ratio_all_C_versions[np.where(~np.isnan(ratio_all_C_versions))[0]], 25),2)\n",
    "q75_ratio_all = round(np.percentile(ratio_all_C_versions[np.where(~np.isnan(ratio_all_C_versions))[0]], 75),2)\n",
    "print(median_ratio_all)\n",
    "print(q25_ratio_all)\n",
    "print(q75_ratio_all)\n",
    "\n",
    "# % of ratios > 1 for the combined 7 CONVERSE versions\n",
    "pixel_defined = np.sum(~np.isnan(ratio_all_C_versions))\n",
    "pixel_ratio_above_1 = len(np.where(ratio_all_C_versions > 1)[0])\n",
    "percentage_pixel_ratio_above_1 = round((pixel_ratio_above_1/pixel_defined)*100,2)\n",
    "print(percentage_pixel_ratio_above_1)"
   ]
  },
  {
   "cell_type": "code",
   "execution_count": 70,
   "metadata": {},
   "outputs": [],
   "source": [
    "def compute_ratio_FseqSedim_FseqAll(Fsedim, FseqAll, converse_version):\n",
    "    \n",
    "    # compute ratio \n",
    "    ratio = Fsedim/FseqAll\n",
    "    \n",
    "    # compute mean + quartiles\n",
    "    median_ratio = round(np.nanmedian(ratio),2)\n",
    "\n",
    "    q25 = round(np.percentile(ratio.flatten()[np.where(~np.isnan(ratio.flatten()))[0]], 25),2)\n",
    "    q75 = round(np.percentile(ratio.flatten()[np.where(~np.isnan(ratio.flatten()))[0]], 75),2)\n",
    "\n",
    "    print('converse version:', converse_version)\n",
    "    print('median (ratio):', median_ratio)\n",
    "    print('Q25 - Q75 (ratio):', q25, '-', q75, '\\n')\n",
    "    \n",
    "    return(ratio)"
   ]
  },
  {
   "cell_type": "code",
   "execution_count": 71,
   "metadata": {},
   "outputs": [
    {
     "name": "stdout",
     "output_type": "stream",
     "text": [
      "converse version: C1\n",
      "median (ratio): 0.03\n",
      "Q25 - Q75 (ratio): 0.01 - 0.07 \n",
      "\n",
      "converse version: C1\n",
      "median (ratio): 0.02\n",
      "Q25 - Q75 (ratio): 0.01 - 0.04 \n",
      "\n",
      "converse version: C1\n",
      "median (ratio): 0.03\n",
      "Q25 - Q75 (ratio): 0.01 - 0.06 \n",
      "\n",
      "converse version: C4\n",
      "median (ratio): 0.01\n",
      "Q25 - Q75 (ratio): 0.0 - 0.02 \n",
      "\n",
      "converse version: C5\n",
      "median (ratio): 0.01\n",
      "Q25 - Q75 (ratio): 0.0 - 0.02 \n",
      "\n",
      "converse version: C6\n",
      "median (ratio): 0.02\n",
      "Q25 - Q75 (ratio): 0.01 - 0.05 \n",
      "\n",
      "converse version: C7\n",
      "median (ratio): 0.02\n",
      "Q25 - Q75 (ratio): 0.01 - 0.05 \n",
      "\n"
     ]
    },
    {
     "name": "stderr",
     "output_type": "stream",
     "text": [
      "<ipython-input-70-9575a7f201e2>:4: RuntimeWarning: divide by zero encountered in true_divide\n",
      "  ratio = Fsedim/FseqAll\n"
     ]
    }
   ],
   "source": [
    "ratio_all_C1 = compute_ratio_FseqSedim_FseqAll(Fsedim, FseqBCPs_H_100m_C1, 'C1')\n",
    "\n",
    "ratio_all_C2 = compute_ratio_FseqSedim_FseqAll(Fsedim, FseqBCPs_H_100m_C2, 'C1')\n",
    "\n",
    "ratio_all_C3 = compute_ratio_FseqSedim_FseqAll(Fsedim, FseqBCPs_H_100m_C3, 'C1')\n",
    "\n",
    "ratio_all_C4 = compute_ratio_FseqSedim_FseqAll(Fsedim, FseqBCPs_ST_100m, 'C4')\n",
    "\n",
    "ratio_all_C5 = compute_ratio_FseqSedim_FseqAll(Fsedim, FseqBCPs_ST_Zeu, 'C5')\n",
    "\n",
    "ratio_all_C6 = compute_ratio_FseqSedim_FseqAll(Fsedim, FseqBCPs_H_100m_C6, 'C6')\n",
    "\n",
    "ratio_all_C7 = compute_ratio_FseqSedim_FseqAll(Fsedim, FseqBCPs_H_100m_C7, 'C7')"
   ]
  },
  {
   "cell_type": "code",
   "execution_count": 72,
   "metadata": {},
   "outputs": [
    {
     "name": "stdout",
     "output_type": "stream",
     "text": [
      "0.02\n",
      "0.01\n",
      "0.04\n"
     ]
    }
   ],
   "source": [
    "# compute some stats on combined data (all CONVERSE versions)\n",
    "ratio_all_C_versions_bis = np.concatenate(np.array([ratio_all_C1.flatten(), ratio_all_C2.flatten(), ratio_all_C3.flatten(), ratio_all_C4.flatten(), ratio_all_C5.flatten(), ratio_all_C6.flatten(), ratio_all_C7.flatten()]))\n",
    "median_ratio_all_bis = round(np.nanmedian(ratio_all_C_versions_bis),2)\n",
    "q25_ratio_all_bis = round(np.percentile(ratio_all_C_versions_bis[np.where(~np.isnan(ratio_all_C_versions_bis))[0]], 25),2)\n",
    "q75_ratio_all_bis = round(np.percentile(ratio_all_C_versions_bis[np.where(~np.isnan(ratio_all_C_versions_bis))[0]], 75),2)\n",
    "print(median_ratio_all_bis)\n",
    "print(q25_ratio_all_bis)\n",
    "print(q75_ratio_all_bis)"
   ]
  },
  {
   "cell_type": "markdown",
   "metadata": {},
   "source": [
    "# Save data for Extende Figures 3 and 5 as well as for Figure 5"
   ]
  },
  {
   "cell_type": "code",
   "execution_count": 73,
   "metadata": {},
   "outputs": [],
   "source": [
    "# save data for Extended Figure 4 (ED4)\n",
    "import pickle\n",
    "figED4 = dict({'mask':mask, 'lon':lonT, 'lat':latT, 'FexpZeu':FexpZeu, 'pixelArea':pixelArea,\n",
    "              'FexpT':FexpT, 'FexpH':FexpH, 'FseqPOC_ST_Zeu':FseqPOC_ST_Zeu,\n",
    "              'FseqPOC_ST_100m':FseqPOC_ST_100m, 'FseqPOC_H_100m_C7':FseqPOC_H_100m_C7,\n",
    "              'FseqDOC_ST_Zeu':FseqDOC_ST_Zeu, 'FseqDOC_ST_100m':FseqDOC_ST_100m,\n",
    "              'FseqDOC_H_100m_C7':FseqDOC_H_100m_C7, 'FseqMigrD_ST_Zeu':FseqMigrD_ST_Zeu,\n",
    "              'FseqMigrD_ST_100m':FseqMigrD_ST_100m, 'FseqMigrD_H_100m_C7':FseqMigrD_H_100m_C7,\n",
    "              'FseqBCPs_ST_Zeu':FseqBCPs_ST_Zeu, 'FseqBCPs_ST_100m':FseqBCPs_ST_100m,\n",
    "              'FseqBCPs_H_100m_C7':FseqBCPs_H_100m_C7, 'Fsedim':Fsedim, 'FseqPOC1000m_ST':FseqPOC1000m_ST,\n",
    "              'FseqPOC1000m_martin':FseqPOC1000m_martin, 'FseqPOC2000m_ST':FseqPOC2000m_ST,\n",
    "              'FseqPOC2000m_martin':FseqPOC2000m_martin})\n",
    "file = open(\"data/output_data_for_figures/data_figED4.pkl\", \"wb\")\n",
    "pickle.dump(figED4, file)\n",
    "file.close()"
   ]
  },
  {
   "cell_type": "code",
   "execution_count": 74,
   "metadata": {},
   "outputs": [],
   "source": [
    "# save data for Extended Figure 3 (ED3)\n",
    "figED3 = dict({'mask':mask, 'lon':lonT, 'lat':latT, 'FseqDOC_H_100m_martin':FseqDOC_H_100m_martin, \n",
    "               'FseqDOC_H_100m_henson':FseqDOC_H_100m_henson, 'FseqDOC_H_100m_guidi':FseqDOC_H_100m_guidi,\n",
    "               'FseqPOC_H_100m_martin':FseqPOC_H_100m_martin, 'FseqPOC_H_100m_henson': FseqPOC_H_100m_henson,\n",
    "               'FseqPOC_H_100m_guidi':FseqPOC_H_100m_guidi, 'FseqMigrD_H_100m_martin':FseqMigrD_H_100m_martin,\n",
    "               'FseqMigrD_H_100m_henson':FseqMigrD_H_100m_henson, 'FseqMigrD_H_100m_guidi':FseqMigrD_H_100m_guidi,\n",
    "               'FseqBCPs_H_100m_martin':FseqBCPs_H_100m_martin, 'FseqBCPs_H_100m_henson':FseqBCPs_H_100m_henson,\n",
    "               'FseqBCPs_H_100m_guidi':FseqBCPs_H_100m_guidi, 'Fsedim':Fsedim,\n",
    "               'FseqPOC1000m_martin':FseqPOC1000m_martin, \n",
    "               'FseqPOC1000m_henson':FseqPOC1000m_henson,\n",
    "               'FseqPOC1000m_guidi':FseqPOC1000m_guidi,\n",
    "               'FseqPOC2000m_martin':FseqPOC2000m_martin, \n",
    "               'FseqPOC2000m_henson':FseqPOC2000m_henson,\n",
    "               'FseqPOC2000m_guidi':FseqPOC2000m_guidi,\n",
    "               'pixelArea':pixelArea,\n",
    "               'FexpH':FexpH\n",
    "              })\n",
    "file = open(\"data/output_data_for_figures/data_figED3.pkl\", \"wb\")\n",
    "pickle.dump(figED3, file)\n",
    "file.close()"
   ]
  },
  {
   "cell_type": "code",
   "execution_count": 75,
   "metadata": {},
   "outputs": [],
   "source": [
    "# save data for Figure 5 \n",
    "fig5 = dict({'mask':mask, 'lon':lonT, 'lat':latT, 'FexpZeu':FexpZeu, 'pixelArea':pixelArea,\n",
    "               'FexpT':FexpT, 'FexpH':FexpH, 'FseqDOC_H_100m_martin':FseqDOC_H_100m_martin, \n",
    "               'FseqDOC_H_100m_henson':FseqDOC_H_100m_henson, 'FseqDOC_ST_Zeu':FseqDOC_ST_Zeu,\n",
    "               'FseqPOC_ST_Zeu':FseqPOC_ST_Zeu,\n",
    "               'FseqPOC_H_100m_martin':FseqPOC_H_100m_martin, 'FseqPOC_H_100m_henson': FseqPOC_H_100m_henson,\n",
    "               'FseqMigrD_H_100m_henson':FseqMigrD_H_100m_martin, 'FseqMigrD_H_100m_martin':FseqMigrD_H_100m_martin,\n",
    "               'FseqMigrD_ST_Zeu':FseqMigrD_ST_Zeu,\n",
    "               'FseqBCPs_H_100m_martin':FseqBCPs_H_100m_martin, 'FseqBCPs_H_100m_henson':FseqBCPs_H_100m_henson,\n",
    "               'FseqBCPs_ST_Zeu':FseqBCPs_ST_Zeu, 'Fsedim':Fsedim,\n",
    "               'FseqPOC1000m_martin':FseqPOC1000m_martin, \n",
    "               'FseqPOC1000m_henson':FseqPOC1000m_henson,\n",
    "               'FseqPOC2000m_martin':FseqPOC2000m_martin, \n",
    "               'FseqPOC2000m_henson':FseqPOC2000m_henson,\n",
    "               'FseqPOC1000m_ST':FseqPOC1000m_ST,\n",
    "               'FseqPOC2000m_ST':FseqPOC2000m_ST\n",
    "              })\n",
    "file = open(\"data/output_data_for_figures/data_fig5.pkl\", \"wb\")\n",
    "pickle.dump(fig5, file)\n",
    "file.close()"
   ]
  },
  {
   "cell_type": "markdown",
   "metadata": {},
   "source": [
    "# Save data for Figure 4"
   ]
  },
  {
   "cell_type": "code",
   "execution_count": 76,
   "metadata": {},
   "outputs": [
    {
     "name": "stderr",
     "output_type": "stream",
     "text": [
      "<ipython-input-76-5580c7feb84d>:1: RuntimeWarning: Mean of empty slice\n",
      "  FreminPOC_ST_100m_full_matrix_avg = np.nanmean(FreminPOC_ST_100m_full_matrix, axis = 0)\n",
      "<ipython-input-76-5580c7feb84d>:2: RuntimeWarning: Mean of empty slice\n",
      "  FseqPOC_ST_100m_full_matrix_avg = np.nanmean(FseqPOC_ST_100m_full_matrix, axis = 0)\n"
     ]
    }
   ],
   "source": [
    "FreminPOC_ST_100m_full_matrix_avg = np.nanmean(FreminPOC_ST_100m_full_matrix, axis = 0)\n",
    "FseqPOC_ST_100m_full_matrix_avg = np.nanmean(FseqPOC_ST_100m_full_matrix, axis = 0)"
   ]
  },
  {
   "cell_type": "code",
   "execution_count": 77,
   "metadata": {},
   "outputs": [],
   "source": [
    "# save data for Figure 4\n",
    "fig4 = dict({'FreminPOC_ST_100m_full_matrix_avg':FreminPOC_ST_100m_full_matrix_avg,\n",
    "               'depthST':depthST, 'lat':latT, 'lon':lonT,\n",
    "               'f100_ST':f100_ST, 'FseqPOC_ST_100m_full_matrix_avg':FseqPOC_ST_100m_full_matrix_avg\n",
    "               \n",
    "              })\n",
    "file = open(\"data/output_data_for_figures/data_fig4.pkl\", \"wb\")\n",
    "pickle.dump(fig4, file)\n",
    "file.close()"
   ]
  },
  {
   "cell_type": "markdown",
   "metadata": {},
   "source": [
    "# Save data for Extended Figure S2"
   ]
  },
  {
   "cell_type": "code",
   "execution_count": 78,
   "metadata": {},
   "outputs": [],
   "source": [
    "# save data for Extended Figure 2 (ED2)\n",
    "figED2 = dict({'FexpT':FexpT, 'lat':latT, 'lon':lonT, 'mask':mask, 'FexpH':FexpH,\n",
    "               'pixelArea':pixelArea\n",
    "              })\n",
    "file = open(\"data/output_data_for_figures/data_figED2.pkl\", \"wb\")\n",
    "pickle.dump(figED2, file)\n",
    "file.close()"
   ]
  },
  {
   "cell_type": "markdown",
   "metadata": {},
   "source": [
    "# Save data for Figure 2"
   ]
  },
  {
   "cell_type": "code",
   "execution_count": 79,
   "metadata": {},
   "outputs": [],
   "source": [
    "# save data for Figure 2\n",
    "fig2 = dict({'weighted_mean_f100':weighted_mean_f100, 'lat':latT, 'lon':lonT, 'mask':mask, \n",
    "             'depthT': depthT, 'f100':f100,\n",
    "             'f100_weighted_lines':f100_weighted_lines})\n",
    "file = open(\"data/output_data_for_figures/data_fig2.pkl\", \"wb\")\n",
    "pickle.dump(fig2, file)\n",
    "file.close()"
   ]
  }
 ],
 "metadata": {
  "kernelspec": {
   "display_name": "Python 3",
   "language": "python",
   "name": "python3"
  },
  "language_info": {
   "codemirror_mode": {
    "name": "ipython",
    "version": 3
   },
   "file_extension": ".py",
   "mimetype": "text/x-python",
   "name": "python",
   "nbconvert_exporter": "python",
   "pygments_lexer": "ipython3",
   "version": "3.8.10"
  }
 },
 "nbformat": 4,
 "nbformat_minor": 4
}
